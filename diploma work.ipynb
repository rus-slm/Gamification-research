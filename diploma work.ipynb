{
 "cells": [
  {
   "cell_type": "markdown",
   "id": "1188d2bd",
   "metadata": {},
   "source": [
    "# PreData"
   ]
  },
  {
   "cell_type": "code",
   "execution_count": 216,
   "id": "97eca0af",
   "metadata": {},
   "outputs": [],
   "source": [
    "import numpy as np\n",
    "import pandas as pd\n",
    "from pandasql import sqldf as sql"
   ]
  },
  {
   "cell_type": "code",
   "execution_count": 4,
   "id": "92339c37",
   "metadata": {},
   "outputs": [
    {
     "data": {
      "text/html": [
       "<div>\n",
       "<style scoped>\n",
       "    .dataframe tbody tr th:only-of-type {\n",
       "        vertical-align: middle;\n",
       "    }\n",
       "\n",
       "    .dataframe tbody tr th {\n",
       "        vertical-align: top;\n",
       "    }\n",
       "\n",
       "    .dataframe thead th {\n",
       "        text-align: right;\n",
       "    }\n",
       "</style>\n",
       "<table border=\"1\" class=\"dataframe\">\n",
       "  <thead>\n",
       "    <tr style=\"text-align: right;\">\n",
       "      <th></th>\n",
       "      <th>key</th>\n",
       "      <th>value</th>\n",
       "    </tr>\n",
       "  </thead>\n",
       "  <tbody>\n",
       "    <tr>\n",
       "      <th>0</th>\n",
       "      <td>Recording Name</td>\n",
       "      <td>2022_04_25</td>\n",
       "    </tr>\n",
       "    <tr>\n",
       "      <th>1</th>\n",
       "      <td>Start Date</td>\n",
       "      <td>25.04.2022</td>\n",
       "    </tr>\n",
       "    <tr>\n",
       "      <th>2</th>\n",
       "      <td>Start Time</td>\n",
       "      <td>11:37:23</td>\n",
       "    </tr>\n",
       "    <tr>\n",
       "      <th>3</th>\n",
       "      <td>Start Time (System)</td>\n",
       "      <td>1650875843.6758265</td>\n",
       "    </tr>\n",
       "    <tr>\n",
       "      <th>4</th>\n",
       "      <td>Start Time (Synced)</td>\n",
       "      <td>505080.109765</td>\n",
       "    </tr>\n",
       "    <tr>\n",
       "      <th>5</th>\n",
       "      <td>Recording UUID</td>\n",
       "      <td>4c4d310c-6796-4881-908f-4bc1f118f258</td>\n",
       "    </tr>\n",
       "    <tr>\n",
       "      <th>6</th>\n",
       "      <td>Duration Time</td>\n",
       "      <td>00:23:46</td>\n",
       "    </tr>\n",
       "    <tr>\n",
       "      <th>7</th>\n",
       "      <td>World Camera Frames</td>\n",
       "      <td>71040</td>\n",
       "    </tr>\n",
       "    <tr>\n",
       "      <th>8</th>\n",
       "      <td>World Camera Resolution</td>\n",
       "      <td>800x600</td>\n",
       "    </tr>\n",
       "    <tr>\n",
       "      <th>9</th>\n",
       "      <td>Capture Software Version</td>\n",
       "      <td>1.12.17</td>\n",
       "    </tr>\n",
       "    <tr>\n",
       "      <th>10</th>\n",
       "      <td>Data Format Version</td>\n",
       "      <td>1.12.17</td>\n",
       "    </tr>\n",
       "    <tr>\n",
       "      <th>11</th>\n",
       "      <td>System Info</td>\n",
       "      <td>User: acer, Platform: Windows, Machine: LAPTOP...</td>\n",
       "    </tr>\n",
       "  </tbody>\n",
       "</table>\n",
       "</div>"
      ],
      "text/plain": [
       "                         key  \\\n",
       "0             Recording Name   \n",
       "1                 Start Date   \n",
       "2                 Start Time   \n",
       "3        Start Time (System)   \n",
       "4        Start Time (Synced)   \n",
       "5             Recording UUID   \n",
       "6              Duration Time   \n",
       "7        World Camera Frames   \n",
       "8    World Camera Resolution   \n",
       "9   Capture Software Version   \n",
       "10       Data Format Version   \n",
       "11               System Info   \n",
       "\n",
       "                                                value  \n",
       "0                                          2022_04_25  \n",
       "1                                          25.04.2022  \n",
       "2                                            11:37:23  \n",
       "3                                  1650875843.6758265  \n",
       "4                                       505080.109765  \n",
       "5                4c4d310c-6796-4881-908f-4bc1f118f258  \n",
       "6                                            00:23:46  \n",
       "7                                               71040  \n",
       "8                                             800x600  \n",
       "9                                             1.12.17  \n",
       "10                                            1.12.17  \n",
       "11  User: acer, Platform: Windows, Machine: LAPTOP...  "
      ]
     },
     "execution_count": 4,
     "metadata": {},
     "output_type": "execute_result"
    }
   ],
   "source": [
    "inf_exp1 = pd.read_csv('info_exp/1.csv')\n",
    "inf_exp1"
   ]
  },
  {
   "cell_type": "code",
   "execution_count": 41,
   "id": "07d11ced",
   "metadata": {
    "scrolled": true
   },
   "outputs": [
    {
     "name": "stdout",
     "output_type": "stream",
     "text": [
      "Обрабатывается файл 1\n",
      "Обрабатывается файл 2\n",
      "Обрабатывается файл 3\n",
      "Обрабатывается файл 4\n",
      "Обрабатывается файл 5\n",
      "Обрабатывается файл 6\n",
      "Обрабатывается файл 7\n",
      "Обрабатывается файл 8\n",
      "Обрабатывается файл 9\n",
      "Обрабатывается файл 10\n",
      "Обрабатывается файл 11\n",
      "Обрабатывается файл 12\n",
      "Обрабатывается файл 13\n",
      "Обрабатывается файл 14\n",
      "Обрабатывается файл 15\n",
      "Обрабатывается файл 16\n",
      "Обрабатывается файл 17\n",
      "Обрабатывается файл 18\n",
      "Обрабатывается файл 19\n",
      "Обрабатывается файл 20\n",
      "Обрабатывается файл 21\n",
      "Обрабатывается файл 22\n",
      "Обрабатывается файл 23\n",
      "Обрабатывается файл 24\n",
      "Обрабатывается файл 25\n",
      "Обрабатывается файл 26\n",
      "Обрабатывается файл 27\n",
      "Обрабатывается файл 28\n",
      "Обрабатывается файл 29\n",
      "Обрабатывается файл 30\n",
      "Обрабатывается файл 31\n",
      "Обрабатывается файл 32\n",
      "Обрабатывается файл 33\n",
      "Обрабатывается файл 34\n",
      "Обрабатывается файл 35\n",
      "Обрабатывается файл 36\n",
      "Обрабатывается файл 37\n",
      "Обрабатывается файл 38\n",
      "Обрабатывается файл 39\n",
      "Обрабатывается файл 40\n",
      "Обрабатывается файл 41\n",
      "Обрабатывается файл 42\n",
      "Обрабатывается файл 43\n",
      "Обрабатывается файл 44\n",
      "Обрабатывается файл 45\n",
      "Обрабатывается файл 46\n",
      "Обрабатывается файл 47\n",
      "Обрабатывается файл 48\n",
      "Обрабатывается файл 49\n",
      "Обрабатывается файл 50\n",
      "Обрабатывается файл 51\n",
      "Обрабатывается файл 52\n",
      "Обрабатывается файл 53\n",
      "Обрабатывается файл 54\n",
      "Обрабатывается файл 55\n",
      "Обрабатывается файл 56\n",
      "Обрабатывается файл 57\n",
      "Обрабатывается файл 58\n",
      "Обрабатывается файл 59\n",
      "Обрабатывается файл 60\n",
      "Обрабатывается файл 61\n",
      "Обрабатывается файл 62\n",
      "Обрабатывается файл 63\n",
      "Обрабатывается файл 64\n",
      "Обрабатывается файл 65\n",
      "Обрабатывается файл 66\n",
      "Обрабатывается файл 67\n"
     ]
    }
   ],
   "source": [
    "import datetime\n",
    "import csv\n",
    "\n",
    "def strfdelta(tdelta, fmt):\n",
    "    d = {\"days\": tdelta.days}\n",
    "    d[\"hours\"], rem = divmod(tdelta.seconds, 3600)\n",
    "    d[\"minutes\"], d[\"seconds\"] = divmod(rem, 60)\n",
    "    return fmt.format(**d)\n",
    "\n",
    "for num in range(1, 68):\n",
    "    \n",
    "    print(f'Обрабатывается файл {num}')\n",
    "    \n",
    "    time_file = pd.read_csv(f'info_exp/{num}.csv')\n",
    "    \n",
    "    start_time_system = float(time_file.iloc[3].value) # unix epoch timestamp\n",
    "    start_time_synced = float(time_file.iloc[4].value)\n",
    "\n",
    "    offset = start_time_system - start_time_synced\n",
    "\n",
    "\n",
    "    new_h = []\n",
    "    rows_with_time = []\n",
    "\n",
    "    need_cols = (\"world_timestamp\", \"confidence\", \"diameter\", \"diameter_3d\", \"model_confidence\")\n",
    "    indexes = []\n",
    "    with open(f'pupils_exp/{num}.csv', 'r') as f:\n",
    "        reader = csv.reader(f, delimiter=',')\n",
    "        header = next(reader)\n",
    "\n",
    "        for i, col in enumerate(header):\n",
    "            if col in need_cols:\n",
    "                indexes.append(i)\n",
    "        new_h = []\n",
    "        for i, col in enumerate(header):\n",
    "            if i in indexes:\n",
    "                new_h.append(col)\n",
    "\n",
    "        new_h.append(\"adequate_time\")\n",
    "        new_h.append(\"videotime\")\n",
    "        first_at = None\n",
    "        for row in reader:\n",
    "            new_row = []\n",
    "            for i, col in enumerate(row):\n",
    "                if i in indexes:\n",
    "                    new_row.append(col)\n",
    "            if first_at == None:\n",
    "                first_at = datetime.datetime.fromtimestamp(float(row[0]) + offset)\n",
    "            new_row.append(datetime.datetime.fromtimestamp(float(row[0]) + offset).strftime(\"%Y-%m-%d %H:%M:%S.%f\"))\n",
    "            rr = (datetime.datetime.fromtimestamp(float(row[0]) + offset) - first_at)\n",
    "            new_row.append(strfdelta(rr, \"{hours}:{minutes}:{seconds}\"))\n",
    "            rows_with_time.append(new_row)\n",
    "\n",
    "        with open(\"{}{}\".format(\"with_time_\", str(num)), 'w') as f:\n",
    "            writer = csv.writer(f, delimiter=',')\n",
    "            writer.writerow(new_h)\n",
    "            for row in rows_with_time:\n",
    "                writer.writerow(row)\n"
   ]
  },
  {
   "cell_type": "code",
   "execution_count": 215,
   "id": "9346e896",
   "metadata": {},
   "outputs": [
    {
     "data": {
      "text/html": [
       "<div>\n",
       "<style scoped>\n",
       "    .dataframe tbody tr th:only-of-type {\n",
       "        vertical-align: middle;\n",
       "    }\n",
       "\n",
       "    .dataframe tbody tr th {\n",
       "        vertical-align: top;\n",
       "    }\n",
       "\n",
       "    .dataframe thead th {\n",
       "        text-align: right;\n",
       "    }\n",
       "</style>\n",
       "<table border=\"1\" class=\"dataframe\">\n",
       "  <thead>\n",
       "    <tr style=\"text-align: right;\">\n",
       "      <th></th>\n",
       "      <th>confidence</th>\n",
       "      <th>diameter</th>\n",
       "      <th>diameter_3d</th>\n",
       "      <th>model_confidence</th>\n",
       "      <th>adequate_time</th>\n",
       "      <th>videotime</th>\n",
       "    </tr>\n",
       "  </thead>\n",
       "  <tbody>\n",
       "    <tr>\n",
       "      <th>0</th>\n",
       "      <td>0.925736</td>\n",
       "      <td>31.240031</td>\n",
       "      <td>2.711774</td>\n",
       "      <td>0.335295</td>\n",
       "      <td>2022-05-18 13:09:27.065283</td>\n",
       "      <td>0:0:0</td>\n",
       "    </tr>\n",
       "    <tr>\n",
       "      <th>1</th>\n",
       "      <td>0.877596</td>\n",
       "      <td>31.129849</td>\n",
       "      <td>2.702257</td>\n",
       "      <td>0.350609</td>\n",
       "      <td>2022-05-18 13:09:27.073352</td>\n",
       "      <td>0:0:0</td>\n",
       "    </tr>\n",
       "    <tr>\n",
       "      <th>2</th>\n",
       "      <td>0.959672</td>\n",
       "      <td>31.456907</td>\n",
       "      <td>2.730937</td>\n",
       "      <td>0.354089</td>\n",
       "      <td>2022-05-18 13:09:27.089490</td>\n",
       "      <td>0:0:0</td>\n",
       "    </tr>\n",
       "    <tr>\n",
       "      <th>3</th>\n",
       "      <td>0.924422</td>\n",
       "      <td>31.388851</td>\n",
       "      <td>2.724972</td>\n",
       "      <td>0.487774</td>\n",
       "      <td>2022-05-18 13:09:27.105628</td>\n",
       "      <td>0:0:0</td>\n",
       "    </tr>\n",
       "    <tr>\n",
       "      <th>4</th>\n",
       "      <td>0.871786</td>\n",
       "      <td>31.268304</td>\n",
       "      <td>2.714389</td>\n",
       "      <td>0.488004</td>\n",
       "      <td>2022-05-18 13:09:27.113697</td>\n",
       "      <td>0:0:0</td>\n",
       "    </tr>\n",
       "    <tr>\n",
       "      <th>...</th>\n",
       "      <td>...</td>\n",
       "      <td>...</td>\n",
       "      <td>...</td>\n",
       "      <td>...</td>\n",
       "      <td>...</td>\n",
       "      <td>...</td>\n",
       "    </tr>\n",
       "    <tr>\n",
       "      <th>101338</th>\n",
       "      <td>0.999595</td>\n",
       "      <td>32.854516</td>\n",
       "      <td>4.686780</td>\n",
       "      <td>0.927032</td>\n",
       "      <td>2022-05-18 13:25:55.851676</td>\n",
       "      <td>0:16:28</td>\n",
       "    </tr>\n",
       "    <tr>\n",
       "      <th>101339</th>\n",
       "      <td>0.999107</td>\n",
       "      <td>32.629568</td>\n",
       "      <td>4.654274</td>\n",
       "      <td>0.927053</td>\n",
       "      <td>2022-05-18 13:25:55.867814</td>\n",
       "      <td>0:16:28</td>\n",
       "    </tr>\n",
       "    <tr>\n",
       "      <th>101340</th>\n",
       "      <td>0.998991</td>\n",
       "      <td>32.662412</td>\n",
       "      <td>4.658126</td>\n",
       "      <td>0.926890</td>\n",
       "      <td>2022-05-18 13:25:55.875883</td>\n",
       "      <td>0:16:28</td>\n",
       "    </tr>\n",
       "    <tr>\n",
       "      <th>101341</th>\n",
       "      <td>0.999902</td>\n",
       "      <td>32.895848</td>\n",
       "      <td>4.691531</td>\n",
       "      <td>0.927225</td>\n",
       "      <td>2022-05-18 13:25:55.883952</td>\n",
       "      <td>0:16:28</td>\n",
       "    </tr>\n",
       "    <tr>\n",
       "      <th>101342</th>\n",
       "      <td>0.999125</td>\n",
       "      <td>32.704991</td>\n",
       "      <td>4.665173</td>\n",
       "      <td>0.927417</td>\n",
       "      <td>2022-05-18 13:25:55.892021</td>\n",
       "      <td>0:16:28</td>\n",
       "    </tr>\n",
       "  </tbody>\n",
       "</table>\n",
       "<p>101343 rows × 6 columns</p>\n",
       "</div>"
      ],
      "text/plain": [
       "        confidence   diameter  diameter_3d  model_confidence  \\\n",
       "0         0.925736  31.240031     2.711774          0.335295   \n",
       "1         0.877596  31.129849     2.702257          0.350609   \n",
       "2         0.959672  31.456907     2.730937          0.354089   \n",
       "3         0.924422  31.388851     2.724972          0.487774   \n",
       "4         0.871786  31.268304     2.714389          0.488004   \n",
       "...            ...        ...          ...               ...   \n",
       "101338    0.999595  32.854516     4.686780          0.927032   \n",
       "101339    0.999107  32.629568     4.654274          0.927053   \n",
       "101340    0.998991  32.662412     4.658126          0.926890   \n",
       "101341    0.999902  32.895848     4.691531          0.927225   \n",
       "101342    0.999125  32.704991     4.665173          0.927417   \n",
       "\n",
       "                     adequate_time videotime  \n",
       "0       2022-05-18 13:09:27.065283     0:0:0  \n",
       "1       2022-05-18 13:09:27.073352     0:0:0  \n",
       "2       2022-05-18 13:09:27.089490     0:0:0  \n",
       "3       2022-05-18 13:09:27.105628     0:0:0  \n",
       "4       2022-05-18 13:09:27.113697     0:0:0  \n",
       "...                            ...       ...  \n",
       "101338  2022-05-18 13:25:55.851676   0:16:28  \n",
       "101339  2022-05-18 13:25:55.867814   0:16:28  \n",
       "101340  2022-05-18 13:25:55.875883   0:16:28  \n",
       "101341  2022-05-18 13:25:55.883952   0:16:28  \n",
       "101342  2022-05-18 13:25:55.892021   0:16:28  \n",
       "\n",
       "[101343 rows x 6 columns]"
      ]
     },
     "execution_count": 215,
     "metadata": {},
     "output_type": "execute_result"
    }
   ],
   "source": [
    "pd.read_csv('with_time_50')"
   ]
  },
  {
   "cell_type": "code",
   "execution_count": 359,
   "id": "f13694f7",
   "metadata": {
    "scrolled": false
   },
   "outputs": [
    {
     "data": {
      "text/html": [
       "<div>\n",
       "<style scoped>\n",
       "    .dataframe tbody tr th:only-of-type {\n",
       "        vertical-align: middle;\n",
       "    }\n",
       "\n",
       "    .dataframe tbody tr th {\n",
       "        vertical-align: top;\n",
       "    }\n",
       "\n",
       "    .dataframe thead th {\n",
       "        text-align: right;\n",
       "    }\n",
       "</style>\n",
       "<table border=\"1\" class=\"dataframe\">\n",
       "  <thead>\n",
       "    <tr style=\"text-align: right;\">\n",
       "      <th></th>\n",
       "      <th>page_id</th>\n",
       "      <th>recnum</th>\n",
       "      <th>start_time</th>\n",
       "      <th>finish_time</th>\n",
       "      <th>duration</th>\n",
       "    </tr>\n",
       "  </thead>\n",
       "  <tbody>\n",
       "    <tr>\n",
       "      <th>0</th>\n",
       "      <td>412477</td>\n",
       "      <td>89</td>\n",
       "      <td>2022-04-25 10:24:14.171</td>\n",
       "      <td>2022-04-25 10:38:19.773</td>\n",
       "      <td>0 days 00:14:05.602000</td>\n",
       "    </tr>\n",
       "    <tr>\n",
       "      <th>1</th>\n",
       "      <td>412478</td>\n",
       "      <td>89</td>\n",
       "      <td>2022-04-25 10:38:20.300</td>\n",
       "      <td>2022-04-25 10:38:32.246</td>\n",
       "      <td>0 days 00:00:11.946000</td>\n",
       "    </tr>\n",
       "    <tr>\n",
       "      <th>3</th>\n",
       "      <td>412480</td>\n",
       "      <td>89</td>\n",
       "      <td>2022-04-25 10:39:42.148</td>\n",
       "      <td>2022-04-25 10:39:45.190</td>\n",
       "      <td>0 days 00:00:03.042000</td>\n",
       "    </tr>\n",
       "    <tr>\n",
       "      <th>4</th>\n",
       "      <td>412481</td>\n",
       "      <td>89</td>\n",
       "      <td>2022-04-25 10:39:45.699</td>\n",
       "      <td>2022-04-25 10:39:48.785</td>\n",
       "      <td>0 days 00:00:03.086000</td>\n",
       "    </tr>\n",
       "    <tr>\n",
       "      <th>5</th>\n",
       "      <td>412482</td>\n",
       "      <td>89</td>\n",
       "      <td>2022-04-25 10:39:49.067</td>\n",
       "      <td>2022-04-25 10:39:55.491</td>\n",
       "      <td>0 days 00:00:06.424000</td>\n",
       "    </tr>\n",
       "    <tr>\n",
       "      <th>...</th>\n",
       "      <td>...</td>\n",
       "      <td>...</td>\n",
       "      <td>...</td>\n",
       "      <td>...</td>\n",
       "      <td>...</td>\n",
       "    </tr>\n",
       "    <tr>\n",
       "      <th>2407</th>\n",
       "      <td>428205</td>\n",
       "      <td>149</td>\n",
       "      <td>2022-05-26 17:11:54.019</td>\n",
       "      <td>2022-05-26 17:15:03.511</td>\n",
       "      <td>0 days 00:03:09.492000</td>\n",
       "    </tr>\n",
       "    <tr>\n",
       "      <th>2408</th>\n",
       "      <td>428206</td>\n",
       "      <td>149</td>\n",
       "      <td>2022-05-26 17:15:04.145</td>\n",
       "      <td>2022-05-26 17:15:15.295</td>\n",
       "      <td>0 days 00:00:11.150000</td>\n",
       "    </tr>\n",
       "    <tr>\n",
       "      <th>2409</th>\n",
       "      <td>428207</td>\n",
       "      <td>149</td>\n",
       "      <td>2022-05-26 17:15:15.834</td>\n",
       "      <td>2022-05-26 17:15:45.016</td>\n",
       "      <td>0 days 00:00:29.182000</td>\n",
       "    </tr>\n",
       "    <tr>\n",
       "      <th>2410</th>\n",
       "      <td>428208</td>\n",
       "      <td>149</td>\n",
       "      <td>2022-05-26 17:15:45.586</td>\n",
       "      <td>2022-05-26 17:15:52.780</td>\n",
       "      <td>0 days 00:00:07.194000</td>\n",
       "    </tr>\n",
       "    <tr>\n",
       "      <th>2411</th>\n",
       "      <td>428209</td>\n",
       "      <td>0</td>\n",
       "      <td>2022-05-26 17:15:54.223</td>\n",
       "      <td>2022-05-26 17:15:55.338</td>\n",
       "      <td>0 days 00:00:01.115000</td>\n",
       "    </tr>\n",
       "  </tbody>\n",
       "</table>\n",
       "<p>2359 rows × 5 columns</p>\n",
       "</div>"
      ],
      "text/plain": [
       "      page_id recnum              start_time             finish_time  \\\n",
       "0      412477     89 2022-04-25 10:24:14.171 2022-04-25 10:38:19.773   \n",
       "1      412478     89 2022-04-25 10:38:20.300 2022-04-25 10:38:32.246   \n",
       "3      412480     89 2022-04-25 10:39:42.148 2022-04-25 10:39:45.190   \n",
       "4      412481     89 2022-04-25 10:39:45.699 2022-04-25 10:39:48.785   \n",
       "5      412482     89 2022-04-25 10:39:49.067 2022-04-25 10:39:55.491   \n",
       "...       ...    ...                     ...                     ...   \n",
       "2407   428205    149 2022-05-26 17:11:54.019 2022-05-26 17:15:03.511   \n",
       "2408   428206    149 2022-05-26 17:15:04.145 2022-05-26 17:15:15.295   \n",
       "2409   428207    149 2022-05-26 17:15:15.834 2022-05-26 17:15:45.016   \n",
       "2410   428208    149 2022-05-26 17:15:45.586 2022-05-26 17:15:52.780   \n",
       "2411   428209      0 2022-05-26 17:15:54.223 2022-05-26 17:15:55.338   \n",
       "\n",
       "                   duration  \n",
       "0    0 days 00:14:05.602000  \n",
       "1    0 days 00:00:11.946000  \n",
       "3    0 days 00:00:03.042000  \n",
       "4    0 days 00:00:03.086000  \n",
       "5    0 days 00:00:06.424000  \n",
       "...                     ...  \n",
       "2407 0 days 00:03:09.492000  \n",
       "2408 0 days 00:00:11.150000  \n",
       "2409 0 days 00:00:29.182000  \n",
       "2410 0 days 00:00:07.194000  \n",
       "2411 0 days 00:00:01.115000  \n",
       "\n",
       "[2359 rows x 5 columns]"
      ]
     },
     "execution_count": 359,
     "metadata": {},
     "output_type": "execute_result"
    }
   ],
   "source": [
    "# время, проведенное, на каждой странице – Gamification\n",
    "\n",
    "gam_time = pd.read_csv('gam_time_data.csv')\n",
    "gam_time.index.names = ['page_id']\n",
    "\n",
    "g_page_time = \"\"\"\n",
    "            select page_id, usr_id as recnum,\n",
    "                min(recnum) as start_time, max(load_time) as finish_time\n",
    "            from gam_time\n",
    "            group by page_id, usr_id\n",
    "            \"\"\"\n",
    "\n",
    "gam_page_time_data = sql(g_page_time)\n",
    "\n",
    "gam_page_time_data['page_id'] = [str(x)[1:7] for x in gam_page_time_data['page_id']]\n",
    "gam_page_time_data['recnum'] = [str(x)[1:] for x in gam_page_time_data['recnum']]\n",
    "gam_page_time_data['recnum'] = [str(x)[:-1] for x in gam_page_time_data['recnum']]\n",
    "gam_page_time_data['start_time'] = [str(x)[1:24] for x in gam_page_time_data['start_time']]\n",
    "gam_page_time_data['finish_time'] = [str(x)[1:24] for x in gam_page_time_data['finish_time']]\n",
    "gam_page_time_data.page_id = gam_page_time_data.page_id.astype(int)\n",
    "gam_page_time_data.start_time = gam_page_time_data.start_time.astype(str)\n",
    "gam_page_time_data.finish_time = gam_page_time_data.finish_time.astype(str)\n",
    "\n",
    "gam_page_time_data = gam_page_time_data[gam_page_time_data['finish_time']!='0000-00-00 00:00:00.000']\n",
    "gam_page_time_data.start_time = pd.to_datetime(gam_page_time_data.start_time)\n",
    "gam_page_time_data.finish_time = pd.to_datetime(gam_page_time_data.finish_time)\n",
    "gam_page_time_data['duration'] = gam_page_time_data['finish_time'] - gam_page_time_data['start_time']\n",
    "\n",
    "gam_page_time_data"
   ]
  },
  {
   "cell_type": "code",
   "execution_count": 360,
   "id": "87d61ca0",
   "metadata": {
    "scrolled": false
   },
   "outputs": [
    {
     "data": {
      "text/html": [
       "<div>\n",
       "<style scoped>\n",
       "    .dataframe tbody tr th:only-of-type {\n",
       "        vertical-align: middle;\n",
       "    }\n",
       "\n",
       "    .dataframe tbody tr th {\n",
       "        vertical-align: top;\n",
       "    }\n",
       "\n",
       "    .dataframe thead th {\n",
       "        text-align: right;\n",
       "    }\n",
       "</style>\n",
       "<table border=\"1\" class=\"dataframe\">\n",
       "  <thead>\n",
       "    <tr style=\"text-align: right;\">\n",
       "      <th></th>\n",
       "      <th>page_id</th>\n",
       "      <th>recnum</th>\n",
       "      <th>start_time</th>\n",
       "      <th>finish_time</th>\n",
       "      <th>duration</th>\n",
       "    </tr>\n",
       "  </thead>\n",
       "  <tbody>\n",
       "    <tr>\n",
       "      <th>0</th>\n",
       "      <td>412524</td>\n",
       "      <td>112</td>\n",
       "      <td>2022-04-25 11:03:08.321</td>\n",
       "      <td>2022-04-25 11:10:35.661</td>\n",
       "      <td>0 days 00:07:27.340000</td>\n",
       "    </tr>\n",
       "    <tr>\n",
       "      <th>1</th>\n",
       "      <td>412525</td>\n",
       "      <td>112</td>\n",
       "      <td>2022-04-25 11:10:36.202</td>\n",
       "      <td>2022-04-25 11:10:57.602</td>\n",
       "      <td>0 days 00:00:21.400000</td>\n",
       "    </tr>\n",
       "    <tr>\n",
       "      <th>2</th>\n",
       "      <td>412526</td>\n",
       "      <td>112</td>\n",
       "      <td>2022-04-25 11:10:58.093</td>\n",
       "      <td>2022-04-25 11:11:40.230</td>\n",
       "      <td>0 days 00:00:42.137000</td>\n",
       "    </tr>\n",
       "    <tr>\n",
       "      <th>3</th>\n",
       "      <td>412527</td>\n",
       "      <td>112</td>\n",
       "      <td>2022-04-25 11:11:40.653</td>\n",
       "      <td>2022-04-25 11:11:46.691</td>\n",
       "      <td>0 days 00:00:06.038000</td>\n",
       "    </tr>\n",
       "    <tr>\n",
       "      <th>4</th>\n",
       "      <td>412528</td>\n",
       "      <td>112</td>\n",
       "      <td>2022-04-25 11:11:47.074</td>\n",
       "      <td>2022-04-25 11:12:02.408</td>\n",
       "      <td>0 days 00:00:15.334000</td>\n",
       "    </tr>\n",
       "    <tr>\n",
       "      <th>...</th>\n",
       "      <td>...</td>\n",
       "      <td>...</td>\n",
       "      <td>...</td>\n",
       "      <td>...</td>\n",
       "      <td>...</td>\n",
       "    </tr>\n",
       "    <tr>\n",
       "      <th>2519</th>\n",
       "      <td>428316</td>\n",
       "      <td>173</td>\n",
       "      <td>2022-05-26 18:46:10.312</td>\n",
       "      <td>2022-05-26 18:46:20.212</td>\n",
       "      <td>0 days 00:00:09.900000</td>\n",
       "    </tr>\n",
       "    <tr>\n",
       "      <th>2520</th>\n",
       "      <td>428317</td>\n",
       "      <td>173</td>\n",
       "      <td>2022-05-26 18:46:20.787</td>\n",
       "      <td>2022-05-26 18:46:56.354</td>\n",
       "      <td>0 days 00:00:35.567000</td>\n",
       "    </tr>\n",
       "    <tr>\n",
       "      <th>2521</th>\n",
       "      <td>428318</td>\n",
       "      <td>173</td>\n",
       "      <td>2022-05-26 18:46:56.805</td>\n",
       "      <td>2022-05-26 18:47:05.017</td>\n",
       "      <td>0 days 00:00:08.212000</td>\n",
       "    </tr>\n",
       "    <tr>\n",
       "      <th>2522</th>\n",
       "      <td>428319</td>\n",
       "      <td>173</td>\n",
       "      <td>2022-05-26 18:47:05.688</td>\n",
       "      <td>2022-05-26 18:48:15.546</td>\n",
       "      <td>0 days 00:01:09.858000</td>\n",
       "    </tr>\n",
       "    <tr>\n",
       "      <th>2523</th>\n",
       "      <td>428320</td>\n",
       "      <td>173</td>\n",
       "      <td>2022-05-26 18:48:16.184</td>\n",
       "      <td>2022-05-26 18:48:24.222</td>\n",
       "      <td>0 days 00:00:08.038000</td>\n",
       "    </tr>\n",
       "  </tbody>\n",
       "</table>\n",
       "<p>2452 rows × 5 columns</p>\n",
       "</div>"
      ],
      "text/plain": [
       "      page_id recnum              start_time             finish_time  \\\n",
       "0      412524    112 2022-04-25 11:03:08.321 2022-04-25 11:10:35.661   \n",
       "1      412525    112 2022-04-25 11:10:36.202 2022-04-25 11:10:57.602   \n",
       "2      412526    112 2022-04-25 11:10:58.093 2022-04-25 11:11:40.230   \n",
       "3      412527    112 2022-04-25 11:11:40.653 2022-04-25 11:11:46.691   \n",
       "4      412528    112 2022-04-25 11:11:47.074 2022-04-25 11:12:02.408   \n",
       "...       ...    ...                     ...                     ...   \n",
       "2519   428316    173 2022-05-26 18:46:10.312 2022-05-26 18:46:20.212   \n",
       "2520   428317    173 2022-05-26 18:46:20.787 2022-05-26 18:46:56.354   \n",
       "2521   428318    173 2022-05-26 18:46:56.805 2022-05-26 18:47:05.017   \n",
       "2522   428319    173 2022-05-26 18:47:05.688 2022-05-26 18:48:15.546   \n",
       "2523   428320    173 2022-05-26 18:48:16.184 2022-05-26 18:48:24.222   \n",
       "\n",
       "                   duration  \n",
       "0    0 days 00:07:27.340000  \n",
       "1    0 days 00:00:21.400000  \n",
       "2    0 days 00:00:42.137000  \n",
       "3    0 days 00:00:06.038000  \n",
       "4    0 days 00:00:15.334000  \n",
       "...                     ...  \n",
       "2519 0 days 00:00:09.900000  \n",
       "2520 0 days 00:00:35.567000  \n",
       "2521 0 days 00:00:08.212000  \n",
       "2522 0 days 00:01:09.858000  \n",
       "2523 0 days 00:00:08.038000  \n",
       "\n",
       "[2452 rows x 5 columns]"
      ]
     },
     "execution_count": 360,
     "metadata": {},
     "output_type": "execute_result"
    }
   ],
   "source": [
    "# время, проведенное, на каждой странице – Traditional\n",
    "\n",
    "tra_time = pd.read_csv('tra_time_data.csv')\n",
    "tra_time.index.names = ['page_id']\n",
    "\n",
    "t_page_time = \"\"\"\n",
    "            select page_id, usr_id as recnum,\n",
    "                min(recnum) as start_time, max(load_time) as finish_time\n",
    "            from tra_time\n",
    "            group by page_id, usr_id\n",
    "            \"\"\"\n",
    "\n",
    "tra_page_time_data = sql(t_page_time)\n",
    "\n",
    "tra_page_time_data['page_id'] = [str(x)[1:7] for x in tra_page_time_data['page_id']]\n",
    "tra_page_time_data['recnum'] = [str(x)[1:] for x in tra_page_time_data['recnum']]\n",
    "tra_page_time_data['recnum'] = [str(x)[:-1] for x in tra_page_time_data['recnum']]\n",
    "tra_page_time_data['start_time'] = [str(x)[1:24] for x in tra_page_time_data['start_time']]\n",
    "tra_page_time_data['finish_time'] = [str(x)[1:24] for x in tra_page_time_data['finish_time']]\n",
    "tra_page_time_data.page_id = tra_page_time_data.page_id.astype(int)\n",
    "tra_page_time_data.start_time = tra_page_time_data.start_time.astype(str)\n",
    "tra_page_time_data.finish_time = tra_page_time_data.finish_time.astype(str)\n",
    "\n",
    "tra_page_time_data = tra_page_time_data[tra_page_time_data['finish_time']!='0000-00-00 00:00:00.000']\n",
    "tra_page_time_data.start_time = pd.to_datetime(tra_page_time_data.start_time)\n",
    "tra_page_time_data.finish_time = pd.to_datetime(tra_page_time_data.finish_time)\n",
    "tra_page_time_data['duration'] = tra_page_time_data['finish_time'] - tra_page_time_data['start_time']\n",
    "\n",
    "tra_page_time_data"
   ]
  },
  {
   "cell_type": "code",
   "execution_count": 361,
   "id": "3244d40d",
   "metadata": {},
   "outputs": [
    {
     "data": {
      "text/html": [
       "<div>\n",
       "<style scoped>\n",
       "    .dataframe tbody tr th:only-of-type {\n",
       "        vertical-align: middle;\n",
       "    }\n",
       "\n",
       "    .dataframe tbody tr th {\n",
       "        vertical-align: top;\n",
       "    }\n",
       "\n",
       "    .dataframe thead th {\n",
       "        text-align: right;\n",
       "    }\n",
       "</style>\n",
       "<table border=\"1\" class=\"dataframe\">\n",
       "  <thead>\n",
       "    <tr style=\"text-align: right;\">\n",
       "      <th></th>\n",
       "      <th>page_id</th>\n",
       "      <th>distance</th>\n",
       "    </tr>\n",
       "  </thead>\n",
       "  <tbody>\n",
       "    <tr>\n",
       "      <th>0</th>\n",
       "      <td>412477</td>\n",
       "      <td>885</td>\n",
       "    </tr>\n",
       "    <tr>\n",
       "      <th>1</th>\n",
       "      <td>412478</td>\n",
       "      <td>311</td>\n",
       "    </tr>\n",
       "    <tr>\n",
       "      <th>2</th>\n",
       "      <td>412479</td>\n",
       "      <td>580</td>\n",
       "    </tr>\n",
       "    <tr>\n",
       "      <th>3</th>\n",
       "      <td>412480</td>\n",
       "      <td>100</td>\n",
       "    </tr>\n",
       "    <tr>\n",
       "      <th>4</th>\n",
       "      <td>412481</td>\n",
       "      <td>246</td>\n",
       "    </tr>\n",
       "    <tr>\n",
       "      <th>...</th>\n",
       "      <td>...</td>\n",
       "      <td>...</td>\n",
       "    </tr>\n",
       "    <tr>\n",
       "      <th>1892</th>\n",
       "      <td>428201</td>\n",
       "      <td>180</td>\n",
       "    </tr>\n",
       "    <tr>\n",
       "      <th>1893</th>\n",
       "      <td>428202</td>\n",
       "      <td>1976</td>\n",
       "    </tr>\n",
       "    <tr>\n",
       "      <th>1894</th>\n",
       "      <td>428203</td>\n",
       "      <td>75</td>\n",
       "    </tr>\n",
       "    <tr>\n",
       "      <th>1895</th>\n",
       "      <td>428204</td>\n",
       "      <td>228</td>\n",
       "    </tr>\n",
       "    <tr>\n",
       "      <th>1896</th>\n",
       "      <td>428205</td>\n",
       "      <td>928</td>\n",
       "    </tr>\n",
       "  </tbody>\n",
       "</table>\n",
       "<p>1897 rows × 2 columns</p>\n",
       "</div>"
      ],
      "text/plain": [
       "      page_id  distance\n",
       "0      412477       885\n",
       "1      412478       311\n",
       "2      412479       580\n",
       "3      412480       100\n",
       "4      412481       246\n",
       "...       ...       ...\n",
       "1892   428201       180\n",
       "1893   428202      1976\n",
       "1894   428203        75\n",
       "1895   428204       228\n",
       "1896   428205       928\n",
       "\n",
       "[1897 rows x 2 columns]"
      ]
     },
     "execution_count": 361,
     "metadata": {},
     "output_type": "execute_result"
    }
   ],
   "source": [
    "# движения мышью постранично – Gamification\n",
    "\n",
    "gam_mouse_movements = pd.read_csv('gam_mouse_movements.csv')\n",
    "gam_mouse_movements['page_id'] = [str(x)[1:7] for x in gam_mouse_movements['page_id']]\n",
    "gam_mouse_movements['distance'] = [str(x)[1:] for x in gam_mouse_movements['distance']]\n",
    "gam_mouse_movements['distance'] = [str(x)[:-1] for x in gam_mouse_movements['distance']]\n",
    "gam_mouse_movements.page_id = gam_mouse_movements.page_id.astype(int)\n",
    "gam_mouse_movements.distance = gam_mouse_movements.distance.astype(int)\n",
    "\n",
    "g_mouse = 'select page_id, sum(distance) as distance from gam_mouse_movements group by page_id order by page_id'\n",
    "gam_mouse_movements = sql(g_mouse)\n",
    "gam_mouse_movements"
   ]
  },
  {
   "cell_type": "code",
   "execution_count": 362,
   "id": "81afc720",
   "metadata": {},
   "outputs": [
    {
     "data": {
      "text/html": [
       "<div>\n",
       "<style scoped>\n",
       "    .dataframe tbody tr th:only-of-type {\n",
       "        vertical-align: middle;\n",
       "    }\n",
       "\n",
       "    .dataframe tbody tr th {\n",
       "        vertical-align: top;\n",
       "    }\n",
       "\n",
       "    .dataframe thead th {\n",
       "        text-align: right;\n",
       "    }\n",
       "</style>\n",
       "<table border=\"1\" class=\"dataframe\">\n",
       "  <thead>\n",
       "    <tr style=\"text-align: right;\">\n",
       "      <th></th>\n",
       "      <th>page_id</th>\n",
       "      <th>distance</th>\n",
       "    </tr>\n",
       "  </thead>\n",
       "  <tbody>\n",
       "    <tr>\n",
       "      <th>0</th>\n",
       "      <td>412524</td>\n",
       "      <td>663</td>\n",
       "    </tr>\n",
       "    <tr>\n",
       "      <th>1</th>\n",
       "      <td>412525</td>\n",
       "      <td>1228</td>\n",
       "    </tr>\n",
       "    <tr>\n",
       "      <th>2</th>\n",
       "      <td>412526</td>\n",
       "      <td>2131</td>\n",
       "    </tr>\n",
       "    <tr>\n",
       "      <th>3</th>\n",
       "      <td>412527</td>\n",
       "      <td>489</td>\n",
       "    </tr>\n",
       "    <tr>\n",
       "      <th>4</th>\n",
       "      <td>412528</td>\n",
       "      <td>1040</td>\n",
       "    </tr>\n",
       "    <tr>\n",
       "      <th>...</th>\n",
       "      <td>...</td>\n",
       "      <td>...</td>\n",
       "    </tr>\n",
       "    <tr>\n",
       "      <th>2139</th>\n",
       "      <td>428317</td>\n",
       "      <td>1091</td>\n",
       "    </tr>\n",
       "    <tr>\n",
       "      <th>2140</th>\n",
       "      <td>428318</td>\n",
       "      <td>127</td>\n",
       "    </tr>\n",
       "    <tr>\n",
       "      <th>2141</th>\n",
       "      <td>428319</td>\n",
       "      <td>5705</td>\n",
       "    </tr>\n",
       "    <tr>\n",
       "      <th>2142</th>\n",
       "      <td>428320</td>\n",
       "      <td>13</td>\n",
       "    </tr>\n",
       "    <tr>\n",
       "      <th>2143</th>\n",
       "      <td>428321</td>\n",
       "      <td>14</td>\n",
       "    </tr>\n",
       "  </tbody>\n",
       "</table>\n",
       "<p>2144 rows × 2 columns</p>\n",
       "</div>"
      ],
      "text/plain": [
       "      page_id  distance\n",
       "0      412524       663\n",
       "1      412525      1228\n",
       "2      412526      2131\n",
       "3      412527       489\n",
       "4      412528      1040\n",
       "...       ...       ...\n",
       "2139   428317      1091\n",
       "2140   428318       127\n",
       "2141   428319      5705\n",
       "2142   428320        13\n",
       "2143   428321        14\n",
       "\n",
       "[2144 rows x 2 columns]"
      ]
     },
     "execution_count": 362,
     "metadata": {},
     "output_type": "execute_result"
    }
   ],
   "source": [
    "# движения мышью постранично – Traditional\n",
    "\n",
    "tra_mouse_movements = pd.read_csv('tra_mouse_movements.csv')\n",
    "tra_mouse_movements['page_id'] = [str(x)[1:7] for x in tra_mouse_movements['page_id']]\n",
    "tra_mouse_movements['distance'] = [str(x)[1:] for x in tra_mouse_movements['distance']]\n",
    "tra_mouse_movements['distance'] = [str(x)[:-1] for x in tra_mouse_movements['distance']]\n",
    "tra_mouse_movements.page_id = tra_mouse_movements.page_id.astype(int)\n",
    "tra_mouse_movements.distance = tra_mouse_movements.distance.astype(int)\n",
    "\n",
    "t_mouse = 'select page_id, sum(distance) as distance from tra_mouse_movements group by page_id order by page_id'\n",
    "tra_mouse_movements = sql(t_mouse)\n",
    "tra_mouse_movements"
   ]
  },
  {
   "cell_type": "code",
   "execution_count": 494,
   "id": "b0e8c3a6",
   "metadata": {
    "scrolled": true
   },
   "outputs": [],
   "source": [
    "# ответы на анкету + мэтч recnum и наш id – Gamification\n",
    "\n",
    "gam_answers = pd.read_excel('gam_answers.xlsx')\n",
    "# gam_answers = gam_answers[1:]\n",
    "gam_answers = gam_answers[gam_answers['ID'].astype(str).astype(int)<=67]\n",
    "gam_answers = gam_answers[gam_answers['ID'].astype(str).astype(int)>0]\n",
    "# gam_answers\n",
    "gam_match = gam_answers[['recnum', 'ID']]\n",
    "# gam_match"
   ]
  },
  {
   "cell_type": "code",
   "execution_count": 495,
   "id": "8853b62e",
   "metadata": {},
   "outputs": [],
   "source": [
    "# ответы на анкету + мэтч recnum и наш id – Traditional\n",
    "\n",
    "tra_answers = pd.read_excel('tra_answers.xlsx')\n",
    "# tra_answers = tra_answers[1:]\n",
    "tra_answers = tra_answers[tra_answers['ID'].astype(str).astype(int)<=67]\n",
    "tra_answers = tra_answers[tra_answers['ID'].astype(str).astype(int)>0]\n",
    "# tra_answers\n",
    "tra_match = tra_answers[['recnum', 'ID']]\n",
    "# tra_match"
   ]
  },
  {
   "cell_type": "code",
   "execution_count": 365,
   "id": "ced3bf1b",
   "metadata": {},
   "outputs": [],
   "source": [
    "# делаем мэтчи по времени между page_id и анкетным вопросом\n",
    "\n",
    "gam_answers_times = pd.read_excel('gam_answers_times.xlsx')\n",
    "tra_answers_times = pd.read_excel('tra_answers_times.xlsx')"
   ]
  },
  {
   "cell_type": "code",
   "execution_count": 367,
   "id": "d60447b5",
   "metadata": {
    "scrolled": false
   },
   "outputs": [
    {
     "data": {
      "text/html": [
       "<div>\n",
       "<style scoped>\n",
       "    .dataframe tbody tr th:only-of-type {\n",
       "        vertical-align: middle;\n",
       "    }\n",
       "\n",
       "    .dataframe tbody tr th {\n",
       "        vertical-align: top;\n",
       "    }\n",
       "\n",
       "    .dataframe thead th {\n",
       "        text-align: right;\n",
       "    }\n",
       "</style>\n",
       "<table border=\"1\" class=\"dataframe\">\n",
       "  <thead>\n",
       "    <tr style=\"text-align: right;\">\n",
       "      <th></th>\n",
       "      <th>data</th>\n",
       "    </tr>\n",
       "    <tr>\n",
       "      <th>question</th>\n",
       "      <th></th>\n",
       "    </tr>\n",
       "  </thead>\n",
       "  <tbody>\n",
       "    <tr>\n",
       "      <th>begin_time</th>\n",
       "      <td>2022-04-25 10:24:13</td>\n",
       "    </tr>\n",
       "    <tr>\n",
       "      <th>end_time</th>\n",
       "      <td>2022-04-25 11:00:58</td>\n",
       "    </tr>\n",
       "    <tr>\n",
       "      <th>intro</th>\n",
       "      <td>2022-04-25 10:38:20</td>\n",
       "    </tr>\n",
       "    <tr>\n",
       "      <th>ID_time</th>\n",
       "      <td>2022-04-25 10:39:55</td>\n",
       "    </tr>\n",
       "    <tr>\n",
       "      <th>pre_time</th>\n",
       "      <td>2022-04-25 10:40:36</td>\n",
       "    </tr>\n",
       "    <tr>\n",
       "      <th>...</th>\n",
       "      <td>...</td>\n",
       "    </tr>\n",
       "    <tr>\n",
       "      <th>Q20_time</th>\n",
       "      <td>2022-05-19 14:48:41</td>\n",
       "    </tr>\n",
       "    <tr>\n",
       "      <th>Q22_time</th>\n",
       "      <td>2022-05-19 14:49:34</td>\n",
       "    </tr>\n",
       "    <tr>\n",
       "      <th>Q23_time</th>\n",
       "      <td>2022-05-19 14:50:30</td>\n",
       "    </tr>\n",
       "    <tr>\n",
       "      <th>Q24_time</th>\n",
       "      <td>2022-05-19 14:52:05</td>\n",
       "    </tr>\n",
       "    <tr>\n",
       "      <th>Q25_time</th>\n",
       "      <td>2022-05-19 14:52:52</td>\n",
       "    </tr>\n",
       "  </tbody>\n",
       "</table>\n",
       "<p>768 rows × 1 columns</p>\n",
       "</div>"
      ],
      "text/plain": [
       "                           data\n",
       "question                       \n",
       "begin_time  2022-04-25 10:24:13\n",
       "end_time    2022-04-25 11:00:58\n",
       "intro       2022-04-25 10:38:20\n",
       "ID_time     2022-04-25 10:39:55\n",
       "pre_time    2022-04-25 10:40:36\n",
       "...                         ...\n",
       "Q20_time    2022-05-19 14:48:41\n",
       "Q22_time    2022-05-19 14:49:34\n",
       "Q23_time    2022-05-19 14:50:30\n",
       "Q24_time    2022-05-19 14:52:05\n",
       "Q25_time    2022-05-19 14:52:52\n",
       "\n",
       "[768 rows x 1 columns]"
      ]
     },
     "execution_count": 367,
     "metadata": {},
     "output_type": "execute_result"
    }
   ],
   "source": [
    "data_gam = gam_answers_times[gam_answers_times.ID == 1].T[1:]\n",
    "data_gam = data_gam.rename(columns = {0:'data'})\n",
    "j = 0\n",
    "\n",
    "for i in list(gam_answers_times.ID)[1:]:\n",
    "    j += 1\n",
    "#     print(i, j)\n",
    "    ext = gam_answers_times[gam_answers_times.ID == i].T[1:]\n",
    "    ext = ext.rename(columns = {j:'data', str(j):'data'})\n",
    "    data_gam = pd.concat([data_gam, ext])\n",
    "\n",
    "data_gam.index.names = ['question']\n",
    "data_gam"
   ]
  },
  {
   "cell_type": "code",
   "execution_count": 368,
   "id": "6d0ce0b7",
   "metadata": {},
   "outputs": [
    {
     "name": "stderr",
     "output_type": "stream",
     "text": [
      "/Users/risuleymanov/opt/anaconda3/lib/python3.8/site-packages/pandasql/sqldf.py:120: UserWarning: the 'timedelta' type is not supported, and will be written as integer values (ns frequency) to the database.\n",
      "  to_sql(df, name=tablename, con=conn,\n"
     ]
    },
    {
     "data": {
      "text/html": [
       "<div>\n",
       "<style scoped>\n",
       "    .dataframe tbody tr th:only-of-type {\n",
       "        vertical-align: middle;\n",
       "    }\n",
       "\n",
       "    .dataframe tbody tr th {\n",
       "        vertical-align: top;\n",
       "    }\n",
       "\n",
       "    .dataframe thead th {\n",
       "        text-align: right;\n",
       "    }\n",
       "</style>\n",
       "<table border=\"1\" class=\"dataframe\">\n",
       "  <thead>\n",
       "    <tr style=\"text-align: right;\">\n",
       "      <th></th>\n",
       "      <th>page_id</th>\n",
       "      <th>question</th>\n",
       "    </tr>\n",
       "  </thead>\n",
       "  <tbody>\n",
       "    <tr>\n",
       "      <th>0</th>\n",
       "      <td>412522</td>\n",
       "      <td>end_time</td>\n",
       "    </tr>\n",
       "    <tr>\n",
       "      <th>1</th>\n",
       "      <td>412482</td>\n",
       "      <td>ID_time</td>\n",
       "    </tr>\n",
       "    <tr>\n",
       "      <th>2</th>\n",
       "      <td>412483</td>\n",
       "      <td>pre_time</td>\n",
       "    </tr>\n",
       "    <tr>\n",
       "      <th>3</th>\n",
       "      <td>412484</td>\n",
       "      <td>Q6_time</td>\n",
       "    </tr>\n",
       "    <tr>\n",
       "      <th>4</th>\n",
       "      <td>412485</td>\n",
       "      <td>Q7_time</td>\n",
       "    </tr>\n",
       "    <tr>\n",
       "      <th>...</th>\n",
       "      <td>...</td>\n",
       "      <td>...</td>\n",
       "    </tr>\n",
       "    <tr>\n",
       "      <th>430</th>\n",
       "      <td>416430</td>\n",
       "      <td>Q16_time</td>\n",
       "    </tr>\n",
       "    <tr>\n",
       "      <th>431</th>\n",
       "      <td>416432</td>\n",
       "      <td>Q20_time</td>\n",
       "    </tr>\n",
       "    <tr>\n",
       "      <th>432</th>\n",
       "      <td>416435</td>\n",
       "      <td>Q22_time</td>\n",
       "    </tr>\n",
       "    <tr>\n",
       "      <th>433</th>\n",
       "      <td>416437</td>\n",
       "      <td>Q23_time</td>\n",
       "    </tr>\n",
       "    <tr>\n",
       "      <th>434</th>\n",
       "      <td>416441</td>\n",
       "      <td>Q25_time</td>\n",
       "    </tr>\n",
       "  </tbody>\n",
       "</table>\n",
       "<p>435 rows × 2 columns</p>\n",
       "</div>"
      ],
      "text/plain": [
       "     page_id  question\n",
       "0     412522  end_time\n",
       "1     412482   ID_time\n",
       "2     412483  pre_time\n",
       "3     412484   Q6_time\n",
       "4     412485   Q7_time\n",
       "..       ...       ...\n",
       "430   416430  Q16_time\n",
       "431   416432  Q20_time\n",
       "432   416435  Q22_time\n",
       "433   416437  Q23_time\n",
       "434   416441  Q25_time\n",
       "\n",
       "[435 rows x 2 columns]"
      ]
     },
     "execution_count": 368,
     "metadata": {},
     "output_type": "execute_result"
    }
   ],
   "source": [
    "q = \"\"\"\n",
    "    select page_id, question \n",
    "    from data_gam d join gam_page_time_data td on d.data between td.start_time and td.finish_time\n",
    "    \"\"\"\n",
    "gam_page_question_match = sql(q)\n",
    "gam_page_question_match"
   ]
  },
  {
   "cell_type": "code",
   "execution_count": 371,
   "id": "c1f46502",
   "metadata": {},
   "outputs": [
    {
     "data": {
      "text/html": [
       "<div>\n",
       "<style scoped>\n",
       "    .dataframe tbody tr th:only-of-type {\n",
       "        vertical-align: middle;\n",
       "    }\n",
       "\n",
       "    .dataframe tbody tr th {\n",
       "        vertical-align: top;\n",
       "    }\n",
       "\n",
       "    .dataframe thead th {\n",
       "        text-align: right;\n",
       "    }\n",
       "</style>\n",
       "<table border=\"1\" class=\"dataframe\">\n",
       "  <thead>\n",
       "    <tr style=\"text-align: right;\">\n",
       "      <th></th>\n",
       "      <th>data</th>\n",
       "    </tr>\n",
       "    <tr>\n",
       "      <th>question</th>\n",
       "      <th></th>\n",
       "    </tr>\n",
       "  </thead>\n",
       "  <tbody>\n",
       "    <tr>\n",
       "      <th>begin_time</th>\n",
       "      <td>2022-04-25 11:03:07</td>\n",
       "    </tr>\n",
       "    <tr>\n",
       "      <th>end_time</th>\n",
       "      <td>2022-04-25 11:22:06</td>\n",
       "    </tr>\n",
       "    <tr>\n",
       "      <th>intro</th>\n",
       "      <td>2022-04-25 11:10:35</td>\n",
       "    </tr>\n",
       "    <tr>\n",
       "      <th>ID_time</th>\n",
       "      <td>2022-04-25 11:10:57</td>\n",
       "    </tr>\n",
       "    <tr>\n",
       "      <th>pre_time</th>\n",
       "      <td>2022-04-25 11:11:40</td>\n",
       "    </tr>\n",
       "    <tr>\n",
       "      <th>...</th>\n",
       "      <td>...</td>\n",
       "    </tr>\n",
       "    <tr>\n",
       "      <th>Q17_time</th>\n",
       "      <td>2022-05-19 16:18:53</td>\n",
       "    </tr>\n",
       "    <tr>\n",
       "      <th>Q18_time</th>\n",
       "      <td>2022-05-19 16:20:08</td>\n",
       "    </tr>\n",
       "    <tr>\n",
       "      <th>Q19_time</th>\n",
       "      <td>2022-05-19 16:21:49</td>\n",
       "    </tr>\n",
       "    <tr>\n",
       "      <th>Q20_time</th>\n",
       "      <td>2022-05-19 16:23:09</td>\n",
       "    </tr>\n",
       "    <tr>\n",
       "      <th>Q21_time</th>\n",
       "      <td>2022-05-19 16:24:16</td>\n",
       "    </tr>\n",
       "  </tbody>\n",
       "</table>\n",
       "<p>840 rows × 1 columns</p>\n",
       "</div>"
      ],
      "text/plain": [
       "                           data\n",
       "question                       \n",
       "begin_time  2022-04-25 11:03:07\n",
       "end_time    2022-04-25 11:22:06\n",
       "intro       2022-04-25 11:10:35\n",
       "ID_time     2022-04-25 11:10:57\n",
       "pre_time    2022-04-25 11:11:40\n",
       "...                         ...\n",
       "Q17_time    2022-05-19 16:18:53\n",
       "Q18_time    2022-05-19 16:20:08\n",
       "Q19_time    2022-05-19 16:21:49\n",
       "Q20_time    2022-05-19 16:23:09\n",
       "Q21_time    2022-05-19 16:24:16\n",
       "\n",
       "[840 rows x 1 columns]"
      ]
     },
     "execution_count": 371,
     "metadata": {},
     "output_type": "execute_result"
    }
   ],
   "source": [
    "data_tra = tra_answers_times[tra_answers_times.ID == 2].T[1:]\n",
    "data_tra = data_tra.rename(columns = {0:'data'})\n",
    "j = 0\n",
    "\n",
    "for i in list(tra_answers_times.ID)[1:]:\n",
    "    j += 1\n",
    "#     print(i, j)\n",
    "    ext = tra_answers_times[tra_answers_times.ID == i].T[1:]\n",
    "    ext = ext.rename(columns = {j:'data', str(j):'data'})\n",
    "    data_tra = pd.concat([data_tra, ext])\n",
    "\n",
    "data_tra.index.names = ['question']\n",
    "data_tra"
   ]
  },
  {
   "cell_type": "code",
   "execution_count": 372,
   "id": "88556b38",
   "metadata": {},
   "outputs": [
    {
     "name": "stderr",
     "output_type": "stream",
     "text": [
      "/Users/risuleymanov/opt/anaconda3/lib/python3.8/site-packages/pandasql/sqldf.py:120: UserWarning: the 'timedelta' type is not supported, and will be written as integer values (ns frequency) to the database.\n",
      "  to_sql(df, name=tablename, con=conn,\n"
     ]
    },
    {
     "data": {
      "text/html": [
       "<div>\n",
       "<style scoped>\n",
       "    .dataframe tbody tr th:only-of-type {\n",
       "        vertical-align: middle;\n",
       "    }\n",
       "\n",
       "    .dataframe tbody tr th {\n",
       "        vertical-align: top;\n",
       "    }\n",
       "\n",
       "    .dataframe thead th {\n",
       "        text-align: right;\n",
       "    }\n",
       "</style>\n",
       "<table border=\"1\" class=\"dataframe\">\n",
       "  <thead>\n",
       "    <tr style=\"text-align: right;\">\n",
       "      <th></th>\n",
       "      <th>page_id</th>\n",
       "      <th>question</th>\n",
       "    </tr>\n",
       "  </thead>\n",
       "  <tbody>\n",
       "    <tr>\n",
       "      <th>0</th>\n",
       "      <td>412558</td>\n",
       "      <td>end_time</td>\n",
       "    </tr>\n",
       "    <tr>\n",
       "      <th>1</th>\n",
       "      <td>412524</td>\n",
       "      <td>intro</td>\n",
       "    </tr>\n",
       "    <tr>\n",
       "      <th>2</th>\n",
       "      <td>412525</td>\n",
       "      <td>ID_time</td>\n",
       "    </tr>\n",
       "    <tr>\n",
       "      <th>3</th>\n",
       "      <td>412526</td>\n",
       "      <td>pre_time</td>\n",
       "    </tr>\n",
       "    <tr>\n",
       "      <th>4</th>\n",
       "      <td>412527</td>\n",
       "      <td>Q6_time</td>\n",
       "    </tr>\n",
       "    <tr>\n",
       "      <th>...</th>\n",
       "      <td>...</td>\n",
       "      <td>...</td>\n",
       "    </tr>\n",
       "    <tr>\n",
       "      <th>480</th>\n",
       "      <td>416568</td>\n",
       "      <td>Q15_time</td>\n",
       "    </tr>\n",
       "    <tr>\n",
       "      <th>481</th>\n",
       "      <td>416570</td>\n",
       "      <td>STOMP_time</td>\n",
       "    </tr>\n",
       "    <tr>\n",
       "      <th>482</th>\n",
       "      <td>416578</td>\n",
       "      <td>Q18_time</td>\n",
       "    </tr>\n",
       "    <tr>\n",
       "      <th>483</th>\n",
       "      <td>416582</td>\n",
       "      <td>Q20_time</td>\n",
       "    </tr>\n",
       "    <tr>\n",
       "      <th>484</th>\n",
       "      <td>416583</td>\n",
       "      <td>Q21_time</td>\n",
       "    </tr>\n",
       "  </tbody>\n",
       "</table>\n",
       "<p>485 rows × 2 columns</p>\n",
       "</div>"
      ],
      "text/plain": [
       "     page_id    question\n",
       "0     412558    end_time\n",
       "1     412524       intro\n",
       "2     412525     ID_time\n",
       "3     412526    pre_time\n",
       "4     412527     Q6_time\n",
       "..       ...         ...\n",
       "480   416568    Q15_time\n",
       "481   416570  STOMP_time\n",
       "482   416578    Q18_time\n",
       "483   416582    Q20_time\n",
       "484   416583    Q21_time\n",
       "\n",
       "[485 rows x 2 columns]"
      ]
     },
     "execution_count": 372,
     "metadata": {},
     "output_type": "execute_result"
    }
   ],
   "source": [
    "q = \"\"\"\n",
    "    select page_id, question \n",
    "    from data_tra d join tra_page_time_data td on d.data between td.start_time and td.finish_time\n",
    "    \"\"\"\n",
    "tra_page_question_match = sql(q)\n",
    "tra_page_question_match"
   ]
  },
  {
   "cell_type": "markdown",
   "id": "6f36751a",
   "metadata": {},
   "source": [
    "# Analysis"
   ]
  },
  {
   "cell_type": "markdown",
   "id": "cb5396bf",
   "metadata": {},
   "source": [
    "### Mouse Movements (table question-id-distance)"
   ]
  },
  {
   "cell_type": "code",
   "execution_count": 379,
   "id": "4921d24b",
   "metadata": {},
   "outputs": [
    {
     "name": "stderr",
     "output_type": "stream",
     "text": [
      "/Users/risuleymanov/opt/anaconda3/lib/python3.8/site-packages/pandasql/sqldf.py:120: UserWarning: the 'timedelta' type is not supported, and will be written as integer values (ns frequency) to the database.\n",
      "  to_sql(df, name=tablename, con=conn,\n"
     ]
    },
    {
     "data": {
      "text/html": [
       "<div>\n",
       "<style scoped>\n",
       "    .dataframe tbody tr th:only-of-type {\n",
       "        vertical-align: middle;\n",
       "    }\n",
       "\n",
       "    .dataframe tbody tr th {\n",
       "        vertical-align: top;\n",
       "    }\n",
       "\n",
       "    .dataframe thead th {\n",
       "        text-align: right;\n",
       "    }\n",
       "</style>\n",
       "<table border=\"1\" class=\"dataframe\">\n",
       "  <thead>\n",
       "    <tr style=\"text-align: right;\">\n",
       "      <th></th>\n",
       "      <th>question</th>\n",
       "      <th>ID</th>\n",
       "      <th>distance</th>\n",
       "    </tr>\n",
       "  </thead>\n",
       "  <tbody>\n",
       "    <tr>\n",
       "      <th>0</th>\n",
       "      <td>end_time</td>\n",
       "      <td>1</td>\n",
       "      <td>1484</td>\n",
       "    </tr>\n",
       "    <tr>\n",
       "      <th>1</th>\n",
       "      <td>ID_time</td>\n",
       "      <td>1</td>\n",
       "      <td>340</td>\n",
       "    </tr>\n",
       "    <tr>\n",
       "      <th>2</th>\n",
       "      <td>pre_time</td>\n",
       "      <td>1</td>\n",
       "      <td>1179</td>\n",
       "    </tr>\n",
       "    <tr>\n",
       "      <th>3</th>\n",
       "      <td>Q6_time</td>\n",
       "      <td>1</td>\n",
       "      <td>632</td>\n",
       "    </tr>\n",
       "    <tr>\n",
       "      <th>4</th>\n",
       "      <td>Q7_time</td>\n",
       "      <td>1</td>\n",
       "      <td>477</td>\n",
       "    </tr>\n",
       "    <tr>\n",
       "      <th>...</th>\n",
       "      <td>...</td>\n",
       "      <td>...</td>\n",
       "      <td>...</td>\n",
       "    </tr>\n",
       "    <tr>\n",
       "      <th>429</th>\n",
       "      <td>Q16_time</td>\n",
       "      <td>64</td>\n",
       "      <td>1491</td>\n",
       "    </tr>\n",
       "    <tr>\n",
       "      <th>430</th>\n",
       "      <td>Q20_time</td>\n",
       "      <td>64</td>\n",
       "      <td>1214</td>\n",
       "    </tr>\n",
       "    <tr>\n",
       "      <th>431</th>\n",
       "      <td>Q22_time</td>\n",
       "      <td>64</td>\n",
       "      <td>1334</td>\n",
       "    </tr>\n",
       "    <tr>\n",
       "      <th>432</th>\n",
       "      <td>Q23_time</td>\n",
       "      <td>64</td>\n",
       "      <td>1673</td>\n",
       "    </tr>\n",
       "    <tr>\n",
       "      <th>433</th>\n",
       "      <td>Q25_time</td>\n",
       "      <td>64</td>\n",
       "      <td>2256</td>\n",
       "    </tr>\n",
       "  </tbody>\n",
       "</table>\n",
       "<p>434 rows × 3 columns</p>\n",
       "</div>"
      ],
      "text/plain": [
       "     question  ID  distance\n",
       "0    end_time   1      1484\n",
       "1     ID_time   1       340\n",
       "2    pre_time   1      1179\n",
       "3     Q6_time   1       632\n",
       "4     Q7_time   1       477\n",
       "..        ...  ..       ...\n",
       "429  Q16_time  64      1491\n",
       "430  Q20_time  64      1214\n",
       "431  Q22_time  64      1334\n",
       "432  Q23_time  64      1673\n",
       "433  Q25_time  64      2256\n",
       "\n",
       "[434 rows x 3 columns]"
      ]
     },
     "execution_count": 379,
     "metadata": {},
     "output_type": "execute_result"
    }
   ],
   "source": [
    "q = \"\"\"\n",
    "    select question, ID, distance\n",
    "    from gam_page_question_match qm\n",
    "    join gam_mouse_movements mm using(page_id)\n",
    "    join gam_page_time_data td using(page_id)\n",
    "    join gam_match m using(recnum)\n",
    "    \"\"\"\n",
    "gam_question_mouse = sql(q)\n",
    "gam_question_mouse"
   ]
  },
  {
   "cell_type": "code",
   "execution_count": 380,
   "id": "87abf3d0",
   "metadata": {},
   "outputs": [
    {
     "name": "stderr",
     "output_type": "stream",
     "text": [
      "/Users/risuleymanov/opt/anaconda3/lib/python3.8/site-packages/pandasql/sqldf.py:120: UserWarning: the 'timedelta' type is not supported, and will be written as integer values (ns frequency) to the database.\n",
      "  to_sql(df, name=tablename, con=conn,\n"
     ]
    },
    {
     "data": {
      "text/html": [
       "<div>\n",
       "<style scoped>\n",
       "    .dataframe tbody tr th:only-of-type {\n",
       "        vertical-align: middle;\n",
       "    }\n",
       "\n",
       "    .dataframe tbody tr th {\n",
       "        vertical-align: top;\n",
       "    }\n",
       "\n",
       "    .dataframe thead th {\n",
       "        text-align: right;\n",
       "    }\n",
       "</style>\n",
       "<table border=\"1\" class=\"dataframe\">\n",
       "  <thead>\n",
       "    <tr style=\"text-align: right;\">\n",
       "      <th></th>\n",
       "      <th>question</th>\n",
       "      <th>ID</th>\n",
       "      <th>distance</th>\n",
       "    </tr>\n",
       "  </thead>\n",
       "  <tbody>\n",
       "    <tr>\n",
       "      <th>0</th>\n",
       "      <td>end_time</td>\n",
       "      <td>2</td>\n",
       "      <td>1760</td>\n",
       "    </tr>\n",
       "    <tr>\n",
       "      <th>1</th>\n",
       "      <td>intro</td>\n",
       "      <td>2</td>\n",
       "      <td>663</td>\n",
       "    </tr>\n",
       "    <tr>\n",
       "      <th>2</th>\n",
       "      <td>ID_time</td>\n",
       "      <td>2</td>\n",
       "      <td>1228</td>\n",
       "    </tr>\n",
       "    <tr>\n",
       "      <th>3</th>\n",
       "      <td>pre_time</td>\n",
       "      <td>2</td>\n",
       "      <td>2131</td>\n",
       "    </tr>\n",
       "    <tr>\n",
       "      <th>4</th>\n",
       "      <td>Q6_time</td>\n",
       "      <td>2</td>\n",
       "      <td>489</td>\n",
       "    </tr>\n",
       "    <tr>\n",
       "      <th>...</th>\n",
       "      <td>...</td>\n",
       "      <td>...</td>\n",
       "      <td>...</td>\n",
       "    </tr>\n",
       "    <tr>\n",
       "      <th>474</th>\n",
       "      <td>Q15_time</td>\n",
       "      <td>67</td>\n",
       "      <td>2075</td>\n",
       "    </tr>\n",
       "    <tr>\n",
       "      <th>475</th>\n",
       "      <td>STOMP_time</td>\n",
       "      <td>67</td>\n",
       "      <td>3374</td>\n",
       "    </tr>\n",
       "    <tr>\n",
       "      <th>476</th>\n",
       "      <td>Q18_time</td>\n",
       "      <td>67</td>\n",
       "      <td>412</td>\n",
       "    </tr>\n",
       "    <tr>\n",
       "      <th>477</th>\n",
       "      <td>Q20_time</td>\n",
       "      <td>67</td>\n",
       "      <td>1191</td>\n",
       "    </tr>\n",
       "    <tr>\n",
       "      <th>478</th>\n",
       "      <td>Q21_time</td>\n",
       "      <td>67</td>\n",
       "      <td>3281</td>\n",
       "    </tr>\n",
       "  </tbody>\n",
       "</table>\n",
       "<p>479 rows × 3 columns</p>\n",
       "</div>"
      ],
      "text/plain": [
       "       question  ID  distance\n",
       "0      end_time   2      1760\n",
       "1         intro   2       663\n",
       "2       ID_time   2      1228\n",
       "3      pre_time   2      2131\n",
       "4       Q6_time   2       489\n",
       "..          ...  ..       ...\n",
       "474    Q15_time  67      2075\n",
       "475  STOMP_time  67      3374\n",
       "476    Q18_time  67       412\n",
       "477    Q20_time  67      1191\n",
       "478    Q21_time  67      3281\n",
       "\n",
       "[479 rows x 3 columns]"
      ]
     },
     "execution_count": 380,
     "metadata": {},
     "output_type": "execute_result"
    }
   ],
   "source": [
    "q = \"\"\"\n",
    "    select question, ID, distance\n",
    "    from tra_page_question_match qm\n",
    "    join tra_mouse_movements mm using(page_id)\n",
    "    join tra_page_time_data td using(page_id)\n",
    "    join tra_match m using(recnum)\n",
    "    \"\"\"\n",
    "tra_question_mouse = sql(q)\n",
    "tra_question_mouse"
   ]
  },
  {
   "cell_type": "markdown",
   "id": "b6d464a0",
   "metadata": {},
   "source": [
    "### Pupil diameter (table question-id-avg diameter)"
   ]
  },
  {
   "cell_type": "code",
   "execution_count": 424,
   "id": "e3b175d9",
   "metadata": {},
   "outputs": [],
   "source": [
    "d = pd.read_csv('with_time_3')"
   ]
  },
  {
   "cell_type": "code",
   "execution_count": 425,
   "id": "943bfa89",
   "metadata": {},
   "outputs": [
    {
     "data": {
      "text/plain": [
       "confidence                 float64\n",
       "diameter                   float64\n",
       "diameter_3d                float64\n",
       "model_confidence           float64\n",
       "adequate_time       datetime64[ns]\n",
       "videotime                   object\n",
       "dtype: object"
      ]
     },
     "execution_count": 425,
     "metadata": {},
     "output_type": "execute_result"
    }
   ],
   "source": [
    "d.adequate_time = pd.to_datetime(d.adequate_time)\n",
    "d.dtypes\n"
   ]
  },
  {
   "cell_type": "code",
   "execution_count": 426,
   "id": "f2f49e1e",
   "metadata": {},
   "outputs": [
    {
     "data": {
      "text/html": [
       "<div>\n",
       "<style scoped>\n",
       "    .dataframe tbody tr th:only-of-type {\n",
       "        vertical-align: middle;\n",
       "    }\n",
       "\n",
       "    .dataframe tbody tr th {\n",
       "        vertical-align: top;\n",
       "    }\n",
       "\n",
       "    .dataframe thead th {\n",
       "        text-align: right;\n",
       "    }\n",
       "</style>\n",
       "<table border=\"1\" class=\"dataframe\">\n",
       "  <thead>\n",
       "    <tr style=\"text-align: right;\">\n",
       "      <th></th>\n",
       "      <th>confidence</th>\n",
       "      <th>diameter</th>\n",
       "      <th>diameter_3d</th>\n",
       "      <th>model_confidence</th>\n",
       "      <th>adequate_time</th>\n",
       "      <th>videotime</th>\n",
       "    </tr>\n",
       "  </thead>\n",
       "  <tbody>\n",
       "    <tr>\n",
       "      <th>0</th>\n",
       "      <td>0.995931</td>\n",
       "      <td>40.435868</td>\n",
       "      <td>1.590469</td>\n",
       "      <td>0.367484</td>\n",
       "      <td>2022-04-25 13:06:45.296052</td>\n",
       "      <td>0:0:0</td>\n",
       "    </tr>\n",
       "    <tr>\n",
       "      <th>1</th>\n",
       "      <td>0.963862</td>\n",
       "      <td>40.681248</td>\n",
       "      <td>1.600186</td>\n",
       "      <td>0.366828</td>\n",
       "      <td>2022-04-25 13:06:45.304121</td>\n",
       "      <td>0:0:0</td>\n",
       "    </tr>\n",
       "    <tr>\n",
       "      <th>2</th>\n",
       "      <td>0.933428</td>\n",
       "      <td>40.669259</td>\n",
       "      <td>1.599716</td>\n",
       "      <td>0.366390</td>\n",
       "      <td>2022-04-25 13:06:45.312190</td>\n",
       "      <td>0:0:0</td>\n",
       "    </tr>\n",
       "    <tr>\n",
       "      <th>3</th>\n",
       "      <td>0.994213</td>\n",
       "      <td>40.965623</td>\n",
       "      <td>1.611157</td>\n",
       "      <td>0.365816</td>\n",
       "      <td>2022-04-25 13:06:45.320259</td>\n",
       "      <td>0:0:0</td>\n",
       "    </tr>\n",
       "    <tr>\n",
       "      <th>4</th>\n",
       "      <td>0.922575</td>\n",
       "      <td>40.513647</td>\n",
       "      <td>1.593674</td>\n",
       "      <td>0.365694</td>\n",
       "      <td>2022-04-25 13:06:45.328329</td>\n",
       "      <td>0:0:0</td>\n",
       "    </tr>\n",
       "    <tr>\n",
       "      <th>...</th>\n",
       "      <td>...</td>\n",
       "      <td>...</td>\n",
       "      <td>...</td>\n",
       "      <td>...</td>\n",
       "      <td>...</td>\n",
       "      <td>...</td>\n",
       "    </tr>\n",
       "    <tr>\n",
       "      <th>100060</th>\n",
       "      <td>0.871184</td>\n",
       "      <td>52.608451</td>\n",
       "      <td>6.271604</td>\n",
       "      <td>0.720397</td>\n",
       "      <td>2022-04-25 13:24:01.907556</td>\n",
       "      <td>0:17:16</td>\n",
       "    </tr>\n",
       "    <tr>\n",
       "      <th>100061</th>\n",
       "      <td>0.873756</td>\n",
       "      <td>52.755076</td>\n",
       "      <td>6.288801</td>\n",
       "      <td>0.719949</td>\n",
       "      <td>2022-04-25 13:24:01.915625</td>\n",
       "      <td>0:17:16</td>\n",
       "    </tr>\n",
       "    <tr>\n",
       "      <th>100062</th>\n",
       "      <td>0.936134</td>\n",
       "      <td>52.777664</td>\n",
       "      <td>6.290961</td>\n",
       "      <td>0.719683</td>\n",
       "      <td>2022-04-25 13:24:01.923693</td>\n",
       "      <td>0:17:16</td>\n",
       "    </tr>\n",
       "    <tr>\n",
       "      <th>100063</th>\n",
       "      <td>0.880245</td>\n",
       "      <td>52.596088</td>\n",
       "      <td>6.264710</td>\n",
       "      <td>0.719190</td>\n",
       "      <td>2022-04-25 13:24:01.931762</td>\n",
       "      <td>0:17:16</td>\n",
       "    </tr>\n",
       "    <tr>\n",
       "      <th>100064</th>\n",
       "      <td>0.952841</td>\n",
       "      <td>52.500538</td>\n",
       "      <td>6.246186</td>\n",
       "      <td>0.718579</td>\n",
       "      <td>2022-04-25 13:24:01.939831</td>\n",
       "      <td>0:17:16</td>\n",
       "    </tr>\n",
       "  </tbody>\n",
       "</table>\n",
       "<p>92760 rows × 6 columns</p>\n",
       "</div>"
      ],
      "text/plain": [
       "        confidence   diameter  diameter_3d  model_confidence  \\\n",
       "0         0.995931  40.435868     1.590469          0.367484   \n",
       "1         0.963862  40.681248     1.600186          0.366828   \n",
       "2         0.933428  40.669259     1.599716          0.366390   \n",
       "3         0.994213  40.965623     1.611157          0.365816   \n",
       "4         0.922575  40.513647     1.593674          0.365694   \n",
       "...            ...        ...          ...               ...   \n",
       "100060    0.871184  52.608451     6.271604          0.720397   \n",
       "100061    0.873756  52.755076     6.288801          0.719949   \n",
       "100062    0.936134  52.777664     6.290961          0.719683   \n",
       "100063    0.880245  52.596088     6.264710          0.719190   \n",
       "100064    0.952841  52.500538     6.246186          0.718579   \n",
       "\n",
       "                    adequate_time videotime  \n",
       "0      2022-04-25 13:06:45.296052     0:0:0  \n",
       "1      2022-04-25 13:06:45.304121     0:0:0  \n",
       "2      2022-04-25 13:06:45.312190     0:0:0  \n",
       "3      2022-04-25 13:06:45.320259     0:0:0  \n",
       "4      2022-04-25 13:06:45.328329     0:0:0  \n",
       "...                           ...       ...  \n",
       "100060 2022-04-25 13:24:01.907556   0:17:16  \n",
       "100061 2022-04-25 13:24:01.915625   0:17:16  \n",
       "100062 2022-04-25 13:24:01.923693   0:17:16  \n",
       "100063 2022-04-25 13:24:01.931762   0:17:16  \n",
       "100064 2022-04-25 13:24:01.939831   0:17:16  \n",
       "\n",
       "[92760 rows x 6 columns]"
      ]
     },
     "execution_count": 426,
     "metadata": {},
     "output_type": "execute_result"
    }
   ],
   "source": [
    "d = d[d['confidence']>=0.7]\n",
    "d"
   ]
  },
  {
   "cell_type": "code",
   "execution_count": 422,
   "id": "28b3a197",
   "metadata": {},
   "outputs": [
    {
     "data": {
      "text/plain": [
       "38.55927557160785"
      ]
     },
     "execution_count": 422,
     "metadata": {},
     "output_type": "execute_result"
    }
   ],
   "source": [
    "np.mean(d[(d['videotime']>='0:0:20')&(d['videotime']<='0:0:25')]['diameter'])"
   ]
  },
  {
   "cell_type": "code",
   "execution_count": 430,
   "id": "587035a4",
   "metadata": {
    "collapsed": true
   },
   "outputs": [
    {
     "name": "stderr",
     "output_type": "stream",
     "text": [
      "/Users/risuleymanov/opt/anaconda3/lib/python3.8/site-packages/pandasql/sqldf.py:120: UserWarning: the 'timedelta' type is not supported, and will be written as integer values (ns frequency) to the database.\n",
      "  to_sql(df, name=tablename, con=conn,\n"
     ]
    },
    {
     "name": "stdout",
     "output_type": "stream",
     "text": [
      "Обработка ID 3\n"
     ]
    },
    {
     "name": "stderr",
     "output_type": "stream",
     "text": [
      "/Users/risuleymanov/opt/anaconda3/lib/python3.8/site-packages/pandasql/sqldf.py:120: UserWarning: the 'timedelta' type is not supported, and will be written as integer values (ns frequency) to the database.\n",
      "  to_sql(df, name=tablename, con=conn,\n"
     ]
    },
    {
     "name": "stdout",
     "output_type": "stream",
     "text": [
      "Обработка ID 5\n"
     ]
    },
    {
     "name": "stderr",
     "output_type": "stream",
     "text": [
      "/Users/risuleymanov/opt/anaconda3/lib/python3.8/site-packages/pandasql/sqldf.py:120: UserWarning: the 'timedelta' type is not supported, and will be written as integer values (ns frequency) to the database.\n",
      "  to_sql(df, name=tablename, con=conn,\n"
     ]
    },
    {
     "name": "stdout",
     "output_type": "stream",
     "text": [
      "Обработка ID 6\n"
     ]
    },
    {
     "name": "stderr",
     "output_type": "stream",
     "text": [
      "/Users/risuleymanov/opt/anaconda3/lib/python3.8/site-packages/pandasql/sqldf.py:120: UserWarning: the 'timedelta' type is not supported, and will be written as integer values (ns frequency) to the database.\n",
      "  to_sql(df, name=tablename, con=conn,\n"
     ]
    },
    {
     "name": "stdout",
     "output_type": "stream",
     "text": [
      "Обработка ID 9\n"
     ]
    },
    {
     "name": "stderr",
     "output_type": "stream",
     "text": [
      "/Users/risuleymanov/opt/anaconda3/lib/python3.8/site-packages/pandasql/sqldf.py:120: UserWarning: the 'timedelta' type is not supported, and will be written as integer values (ns frequency) to the database.\n",
      "  to_sql(df, name=tablename, con=conn,\n"
     ]
    },
    {
     "name": "stdout",
     "output_type": "stream",
     "text": [
      "Обработка ID 10\n"
     ]
    },
    {
     "name": "stderr",
     "output_type": "stream",
     "text": [
      "/Users/risuleymanov/opt/anaconda3/lib/python3.8/site-packages/pandasql/sqldf.py:120: UserWarning: the 'timedelta' type is not supported, and will be written as integer values (ns frequency) to the database.\n",
      "  to_sql(df, name=tablename, con=conn,\n"
     ]
    },
    {
     "name": "stdout",
     "output_type": "stream",
     "text": [
      "Обработка ID 13\n"
     ]
    },
    {
     "name": "stderr",
     "output_type": "stream",
     "text": [
      "/Users/risuleymanov/opt/anaconda3/lib/python3.8/site-packages/pandasql/sqldf.py:120: UserWarning: the 'timedelta' type is not supported, and will be written as integer values (ns frequency) to the database.\n",
      "  to_sql(df, name=tablename, con=conn,\n"
     ]
    },
    {
     "name": "stdout",
     "output_type": "stream",
     "text": [
      "Обработка ID 15\n"
     ]
    },
    {
     "name": "stderr",
     "output_type": "stream",
     "text": [
      "/Users/risuleymanov/opt/anaconda3/lib/python3.8/site-packages/pandasql/sqldf.py:120: UserWarning: the 'timedelta' type is not supported, and will be written as integer values (ns frequency) to the database.\n",
      "  to_sql(df, name=tablename, con=conn,\n"
     ]
    },
    {
     "name": "stdout",
     "output_type": "stream",
     "text": [
      "Обработка ID 19\n"
     ]
    },
    {
     "name": "stderr",
     "output_type": "stream",
     "text": [
      "/Users/risuleymanov/opt/anaconda3/lib/python3.8/site-packages/pandasql/sqldf.py:120: UserWarning: the 'timedelta' type is not supported, and will be written as integer values (ns frequency) to the database.\n",
      "  to_sql(df, name=tablename, con=conn,\n"
     ]
    },
    {
     "name": "stdout",
     "output_type": "stream",
     "text": [
      "Обработка ID 21\n"
     ]
    },
    {
     "name": "stderr",
     "output_type": "stream",
     "text": [
      "/Users/risuleymanov/opt/anaconda3/lib/python3.8/site-packages/pandasql/sqldf.py:120: UserWarning: the 'timedelta' type is not supported, and will be written as integer values (ns frequency) to the database.\n",
      "  to_sql(df, name=tablename, con=conn,\n"
     ]
    },
    {
     "name": "stdout",
     "output_type": "stream",
     "text": [
      "Обработка ID 22\n"
     ]
    },
    {
     "name": "stderr",
     "output_type": "stream",
     "text": [
      "/Users/risuleymanov/opt/anaconda3/lib/python3.8/site-packages/pandasql/sqldf.py:120: UserWarning: the 'timedelta' type is not supported, and will be written as integer values (ns frequency) to the database.\n",
      "  to_sql(df, name=tablename, con=conn,\n"
     ]
    },
    {
     "name": "stdout",
     "output_type": "stream",
     "text": [
      "Обработка ID 23\n"
     ]
    },
    {
     "name": "stderr",
     "output_type": "stream",
     "text": [
      "/Users/risuleymanov/opt/anaconda3/lib/python3.8/site-packages/pandasql/sqldf.py:120: UserWarning: the 'timedelta' type is not supported, and will be written as integer values (ns frequency) to the database.\n",
      "  to_sql(df, name=tablename, con=conn,\n"
     ]
    },
    {
     "name": "stdout",
     "output_type": "stream",
     "text": [
      "Обработка ID 24\n"
     ]
    },
    {
     "name": "stderr",
     "output_type": "stream",
     "text": [
      "/Users/risuleymanov/opt/anaconda3/lib/python3.8/site-packages/pandasql/sqldf.py:120: UserWarning: the 'timedelta' type is not supported, and will be written as integer values (ns frequency) to the database.\n",
      "  to_sql(df, name=tablename, con=conn,\n"
     ]
    },
    {
     "name": "stdout",
     "output_type": "stream",
     "text": [
      "Обработка ID 27\n"
     ]
    },
    {
     "name": "stderr",
     "output_type": "stream",
     "text": [
      "/Users/risuleymanov/opt/anaconda3/lib/python3.8/site-packages/pandasql/sqldf.py:120: UserWarning: the 'timedelta' type is not supported, and will be written as integer values (ns frequency) to the database.\n",
      "  to_sql(df, name=tablename, con=conn,\n"
     ]
    },
    {
     "name": "stdout",
     "output_type": "stream",
     "text": [
      "Обработка ID 29\n"
     ]
    },
    {
     "name": "stderr",
     "output_type": "stream",
     "text": [
      "/Users/risuleymanov/opt/anaconda3/lib/python3.8/site-packages/pandasql/sqldf.py:120: UserWarning: the 'timedelta' type is not supported, and will be written as integer values (ns frequency) to the database.\n",
      "  to_sql(df, name=tablename, con=conn,\n"
     ]
    },
    {
     "name": "stdout",
     "output_type": "stream",
     "text": [
      "Обработка ID 31\n"
     ]
    },
    {
     "name": "stderr",
     "output_type": "stream",
     "text": [
      "/Users/risuleymanov/opt/anaconda3/lib/python3.8/site-packages/pandasql/sqldf.py:120: UserWarning: the 'timedelta' type is not supported, and will be written as integer values (ns frequency) to the database.\n",
      "  to_sql(df, name=tablename, con=conn,\n"
     ]
    },
    {
     "name": "stdout",
     "output_type": "stream",
     "text": [
      "Обработка ID 32\n"
     ]
    },
    {
     "name": "stderr",
     "output_type": "stream",
     "text": [
      "/Users/risuleymanov/opt/anaconda3/lib/python3.8/site-packages/pandasql/sqldf.py:120: UserWarning: the 'timedelta' type is not supported, and will be written as integer values (ns frequency) to the database.\n",
      "  to_sql(df, name=tablename, con=conn,\n"
     ]
    },
    {
     "name": "stdout",
     "output_type": "stream",
     "text": [
      "Обработка ID 33\n"
     ]
    },
    {
     "name": "stderr",
     "output_type": "stream",
     "text": [
      "/Users/risuleymanov/opt/anaconda3/lib/python3.8/site-packages/pandasql/sqldf.py:120: UserWarning: the 'timedelta' type is not supported, and will be written as integer values (ns frequency) to the database.\n",
      "  to_sql(df, name=tablename, con=conn,\n"
     ]
    },
    {
     "name": "stdout",
     "output_type": "stream",
     "text": [
      "Обработка ID 35\n"
     ]
    },
    {
     "name": "stderr",
     "output_type": "stream",
     "text": [
      "/Users/risuleymanov/opt/anaconda3/lib/python3.8/site-packages/pandasql/sqldf.py:120: UserWarning: the 'timedelta' type is not supported, and will be written as integer values (ns frequency) to the database.\n",
      "  to_sql(df, name=tablename, con=conn,\n"
     ]
    },
    {
     "name": "stdout",
     "output_type": "stream",
     "text": [
      "Обработка ID 37\n"
     ]
    },
    {
     "name": "stderr",
     "output_type": "stream",
     "text": [
      "/Users/risuleymanov/opt/anaconda3/lib/python3.8/site-packages/pandasql/sqldf.py:120: UserWarning: the 'timedelta' type is not supported, and will be written as integer values (ns frequency) to the database.\n",
      "  to_sql(df, name=tablename, con=conn,\n"
     ]
    },
    {
     "name": "stdout",
     "output_type": "stream",
     "text": [
      "Обработка ID 38\n"
     ]
    },
    {
     "name": "stderr",
     "output_type": "stream",
     "text": [
      "/Users/risuleymanov/opt/anaconda3/lib/python3.8/site-packages/pandasql/sqldf.py:120: UserWarning: the 'timedelta' type is not supported, and will be written as integer values (ns frequency) to the database.\n",
      "  to_sql(df, name=tablename, con=conn,\n"
     ]
    },
    {
     "name": "stdout",
     "output_type": "stream",
     "text": [
      "Обработка ID 41\n"
     ]
    },
    {
     "name": "stderr",
     "output_type": "stream",
     "text": [
      "/Users/risuleymanov/opt/anaconda3/lib/python3.8/site-packages/pandasql/sqldf.py:120: UserWarning: the 'timedelta' type is not supported, and will be written as integer values (ns frequency) to the database.\n",
      "  to_sql(df, name=tablename, con=conn,\n"
     ]
    },
    {
     "name": "stdout",
     "output_type": "stream",
     "text": [
      "Обработка ID 42\n"
     ]
    },
    {
     "name": "stderr",
     "output_type": "stream",
     "text": [
      "/Users/risuleymanov/opt/anaconda3/lib/python3.8/site-packages/pandasql/sqldf.py:120: UserWarning: the 'timedelta' type is not supported, and will be written as integer values (ns frequency) to the database.\n",
      "  to_sql(df, name=tablename, con=conn,\n"
     ]
    },
    {
     "name": "stdout",
     "output_type": "stream",
     "text": [
      "Обработка ID 45\n"
     ]
    },
    {
     "name": "stderr",
     "output_type": "stream",
     "text": [
      "/Users/risuleymanov/opt/anaconda3/lib/python3.8/site-packages/pandasql/sqldf.py:120: UserWarning: the 'timedelta' type is not supported, and will be written as integer values (ns frequency) to the database.\n",
      "  to_sql(df, name=tablename, con=conn,\n"
     ]
    },
    {
     "name": "stdout",
     "output_type": "stream",
     "text": [
      "Обработка ID 47\n"
     ]
    },
    {
     "name": "stderr",
     "output_type": "stream",
     "text": [
      "/Users/risuleymanov/opt/anaconda3/lib/python3.8/site-packages/pandasql/sqldf.py:120: UserWarning: the 'timedelta' type is not supported, and will be written as integer values (ns frequency) to the database.\n",
      "  to_sql(df, name=tablename, con=conn,\n"
     ]
    },
    {
     "name": "stdout",
     "output_type": "stream",
     "text": [
      "Обработка ID 50\n"
     ]
    },
    {
     "name": "stderr",
     "output_type": "stream",
     "text": [
      "/Users/risuleymanov/opt/anaconda3/lib/python3.8/site-packages/pandasql/sqldf.py:120: UserWarning: the 'timedelta' type is not supported, and will be written as integer values (ns frequency) to the database.\n",
      "  to_sql(df, name=tablename, con=conn,\n"
     ]
    },
    {
     "name": "stdout",
     "output_type": "stream",
     "text": [
      "Обработка ID 51\n"
     ]
    },
    {
     "name": "stderr",
     "output_type": "stream",
     "text": [
      "/Users/risuleymanov/opt/anaconda3/lib/python3.8/site-packages/pandasql/sqldf.py:120: UserWarning: the 'timedelta' type is not supported, and will be written as integer values (ns frequency) to the database.\n",
      "  to_sql(df, name=tablename, con=conn,\n"
     ]
    },
    {
     "name": "stdout",
     "output_type": "stream",
     "text": [
      "Обработка ID 53\n"
     ]
    },
    {
     "name": "stderr",
     "output_type": "stream",
     "text": [
      "/Users/risuleymanov/opt/anaconda3/lib/python3.8/site-packages/pandasql/sqldf.py:120: UserWarning: the 'timedelta' type is not supported, and will be written as integer values (ns frequency) to the database.\n",
      "  to_sql(df, name=tablename, con=conn,\n"
     ]
    },
    {
     "name": "stdout",
     "output_type": "stream",
     "text": [
      "Обработка ID 56\n"
     ]
    },
    {
     "name": "stderr",
     "output_type": "stream",
     "text": [
      "/Users/risuleymanov/opt/anaconda3/lib/python3.8/site-packages/pandasql/sqldf.py:120: UserWarning: the 'timedelta' type is not supported, and will be written as integer values (ns frequency) to the database.\n",
      "  to_sql(df, name=tablename, con=conn,\n"
     ]
    },
    {
     "name": "stdout",
     "output_type": "stream",
     "text": [
      "Обработка ID 59\n"
     ]
    },
    {
     "name": "stderr",
     "output_type": "stream",
     "text": [
      "/Users/risuleymanov/opt/anaconda3/lib/python3.8/site-packages/pandasql/sqldf.py:120: UserWarning: the 'timedelta' type is not supported, and will be written as integer values (ns frequency) to the database.\n",
      "  to_sql(df, name=tablename, con=conn,\n"
     ]
    },
    {
     "name": "stdout",
     "output_type": "stream",
     "text": [
      "Обработка ID 60\n"
     ]
    },
    {
     "name": "stderr",
     "output_type": "stream",
     "text": [
      "/Users/risuleymanov/opt/anaconda3/lib/python3.8/site-packages/pandasql/sqldf.py:120: UserWarning: the 'timedelta' type is not supported, and will be written as integer values (ns frequency) to the database.\n",
      "  to_sql(df, name=tablename, con=conn,\n"
     ]
    },
    {
     "name": "stdout",
     "output_type": "stream",
     "text": [
      "Обработка ID 64\n"
     ]
    },
    {
     "name": "stderr",
     "output_type": "stream",
     "text": [
      "/Users/risuleymanov/opt/anaconda3/lib/python3.8/site-packages/pandasql/sqldf.py:120: UserWarning: the 'timedelta' type is not supported, and will be written as integer values (ns frequency) to the database.\n",
      "  to_sql(df, name=tablename, con=conn,\n"
     ]
    }
   ],
   "source": [
    "baselines = {}\n",
    "\n",
    "d = pd.read_csv(f'with_time_1')\n",
    "d.adequate_time = pd.to_datetime(d.adequate_time)\n",
    "d = d[d['confidence']>=0.7]\n",
    "baselines[1] = np.mean(d[(d['videotime']>='0:0:20')&(d['videotime']<='0:0:25')]['diameter'])\n",
    "q = \"\"\"\n",
    "    select page_id, ID, avg(diameter)\n",
    "    from d join gam_page_time_data on adequate_time between start_time and finish_time \n",
    "    join gam_match using(recnum)\n",
    "    group by page_id, ID\n",
    "    \"\"\"\n",
    "gam_pupils_by_page_ID = sql(q)\n",
    "\n",
    "    \n",
    "for k in list(gam_answers_times['ID'])[1:]:\n",
    "    print(f'Обработка ID {k}')\n",
    "    d = pd.read_csv(f'with_time_{k}')\n",
    "    d.adequate_time = pd.to_datetime(d.adequate_time)\n",
    "    d = d[d['confidence']>=0.7]\n",
    "    baselines[k] = np.mean(d[(d['videotime']>='0:0:20')&(d['videotime']<='0:0:25')]['diameter'])\n",
    "    q = \"\"\"\n",
    "        select page_id, ID, avg(diameter)\n",
    "        from d join gam_page_time_data on adequate_time between start_time and finish_time \n",
    "        join gam_match using(recnum)\n",
    "        group by page_id, ID\n",
    "        \"\"\"\n",
    "    ext = sql(q)\n",
    "    \n",
    "    gam_pupils_by_page_ID = pd.concat([gam_pupils_by_page_ID, ext])"
   ]
  },
  {
   "cell_type": "code",
   "execution_count": 433,
   "id": "31e2fd12",
   "metadata": {
    "collapsed": true
   },
   "outputs": [
    {
     "name": "stderr",
     "output_type": "stream",
     "text": [
      "/Users/risuleymanov/opt/anaconda3/lib/python3.8/site-packages/pandasql/sqldf.py:120: UserWarning: the 'timedelta' type is not supported, and will be written as integer values (ns frequency) to the database.\n",
      "  to_sql(df, name=tablename, con=conn,\n"
     ]
    },
    {
     "name": "stdout",
     "output_type": "stream",
     "text": [
      "Обработка ID 4\n"
     ]
    },
    {
     "name": "stderr",
     "output_type": "stream",
     "text": [
      "/Users/risuleymanov/opt/anaconda3/lib/python3.8/site-packages/pandasql/sqldf.py:120: UserWarning: the 'timedelta' type is not supported, and will be written as integer values (ns frequency) to the database.\n",
      "  to_sql(df, name=tablename, con=conn,\n"
     ]
    },
    {
     "name": "stdout",
     "output_type": "stream",
     "text": [
      "Обработка ID 7\n"
     ]
    },
    {
     "name": "stderr",
     "output_type": "stream",
     "text": [
      "/Users/risuleymanov/opt/anaconda3/lib/python3.8/site-packages/pandasql/sqldf.py:120: UserWarning: the 'timedelta' type is not supported, and will be written as integer values (ns frequency) to the database.\n",
      "  to_sql(df, name=tablename, con=conn,\n"
     ]
    },
    {
     "name": "stdout",
     "output_type": "stream",
     "text": [
      "Обработка ID 8\n"
     ]
    },
    {
     "name": "stderr",
     "output_type": "stream",
     "text": [
      "/Users/risuleymanov/opt/anaconda3/lib/python3.8/site-packages/pandasql/sqldf.py:120: UserWarning: the 'timedelta' type is not supported, and will be written as integer values (ns frequency) to the database.\n",
      "  to_sql(df, name=tablename, con=conn,\n"
     ]
    },
    {
     "name": "stdout",
     "output_type": "stream",
     "text": [
      "Обработка ID 11\n"
     ]
    },
    {
     "name": "stderr",
     "output_type": "stream",
     "text": [
      "/Users/risuleymanov/opt/anaconda3/lib/python3.8/site-packages/pandasql/sqldf.py:120: UserWarning: the 'timedelta' type is not supported, and will be written as integer values (ns frequency) to the database.\n",
      "  to_sql(df, name=tablename, con=conn,\n"
     ]
    },
    {
     "name": "stdout",
     "output_type": "stream",
     "text": [
      "Обработка ID 12\n"
     ]
    },
    {
     "name": "stderr",
     "output_type": "stream",
     "text": [
      "/Users/risuleymanov/opt/anaconda3/lib/python3.8/site-packages/pandasql/sqldf.py:120: UserWarning: the 'timedelta' type is not supported, and will be written as integer values (ns frequency) to the database.\n",
      "  to_sql(df, name=tablename, con=conn,\n"
     ]
    },
    {
     "name": "stdout",
     "output_type": "stream",
     "text": [
      "Обработка ID 14\n"
     ]
    },
    {
     "name": "stderr",
     "output_type": "stream",
     "text": [
      "/Users/risuleymanov/opt/anaconda3/lib/python3.8/site-packages/pandasql/sqldf.py:120: UserWarning: the 'timedelta' type is not supported, and will be written as integer values (ns frequency) to the database.\n",
      "  to_sql(df, name=tablename, con=conn,\n"
     ]
    },
    {
     "name": "stdout",
     "output_type": "stream",
     "text": [
      "Обработка ID 16\n"
     ]
    },
    {
     "name": "stderr",
     "output_type": "stream",
     "text": [
      "/Users/risuleymanov/opt/anaconda3/lib/python3.8/site-packages/pandasql/sqldf.py:120: UserWarning: the 'timedelta' type is not supported, and will be written as integer values (ns frequency) to the database.\n",
      "  to_sql(df, name=tablename, con=conn,\n"
     ]
    },
    {
     "name": "stdout",
     "output_type": "stream",
     "text": [
      "Обработка ID 17\n"
     ]
    },
    {
     "name": "stderr",
     "output_type": "stream",
     "text": [
      "/Users/risuleymanov/opt/anaconda3/lib/python3.8/site-packages/pandasql/sqldf.py:120: UserWarning: the 'timedelta' type is not supported, and will be written as integer values (ns frequency) to the database.\n",
      "  to_sql(df, name=tablename, con=conn,\n"
     ]
    },
    {
     "name": "stdout",
     "output_type": "stream",
     "text": [
      "Обработка ID 20\n"
     ]
    },
    {
     "name": "stderr",
     "output_type": "stream",
     "text": [
      "/Users/risuleymanov/opt/anaconda3/lib/python3.8/site-packages/pandasql/sqldf.py:120: UserWarning: the 'timedelta' type is not supported, and will be written as integer values (ns frequency) to the database.\n",
      "  to_sql(df, name=tablename, con=conn,\n"
     ]
    },
    {
     "name": "stdout",
     "output_type": "stream",
     "text": [
      "Обработка ID 25\n"
     ]
    },
    {
     "name": "stderr",
     "output_type": "stream",
     "text": [
      "/Users/risuleymanov/opt/anaconda3/lib/python3.8/site-packages/pandasql/sqldf.py:120: UserWarning: the 'timedelta' type is not supported, and will be written as integer values (ns frequency) to the database.\n",
      "  to_sql(df, name=tablename, con=conn,\n"
     ]
    },
    {
     "name": "stdout",
     "output_type": "stream",
     "text": [
      "Обработка ID 26\n"
     ]
    },
    {
     "name": "stderr",
     "output_type": "stream",
     "text": [
      "/Users/risuleymanov/opt/anaconda3/lib/python3.8/site-packages/pandasql/sqldf.py:120: UserWarning: the 'timedelta' type is not supported, and will be written as integer values (ns frequency) to the database.\n",
      "  to_sql(df, name=tablename, con=conn,\n"
     ]
    },
    {
     "name": "stdout",
     "output_type": "stream",
     "text": [
      "Обработка ID 18\n"
     ]
    },
    {
     "name": "stderr",
     "output_type": "stream",
     "text": [
      "/Users/risuleymanov/opt/anaconda3/lib/python3.8/site-packages/pandasql/sqldf.py:120: UserWarning: the 'timedelta' type is not supported, and will be written as integer values (ns frequency) to the database.\n",
      "  to_sql(df, name=tablename, con=conn,\n"
     ]
    },
    {
     "name": "stdout",
     "output_type": "stream",
     "text": [
      "Обработка ID 28\n"
     ]
    },
    {
     "name": "stderr",
     "output_type": "stream",
     "text": [
      "/Users/risuleymanov/opt/anaconda3/lib/python3.8/site-packages/pandasql/sqldf.py:120: UserWarning: the 'timedelta' type is not supported, and will be written as integer values (ns frequency) to the database.\n",
      "  to_sql(df, name=tablename, con=conn,\n"
     ]
    },
    {
     "name": "stdout",
     "output_type": "stream",
     "text": [
      "Обработка ID 30\n"
     ]
    },
    {
     "name": "stderr",
     "output_type": "stream",
     "text": [
      "/Users/risuleymanov/opt/anaconda3/lib/python3.8/site-packages/pandasql/sqldf.py:120: UserWarning: the 'timedelta' type is not supported, and will be written as integer values (ns frequency) to the database.\n",
      "  to_sql(df, name=tablename, con=conn,\n"
     ]
    },
    {
     "name": "stdout",
     "output_type": "stream",
     "text": [
      "Обработка ID 34\n"
     ]
    },
    {
     "name": "stderr",
     "output_type": "stream",
     "text": [
      "/Users/risuleymanov/opt/anaconda3/lib/python3.8/site-packages/pandasql/sqldf.py:120: UserWarning: the 'timedelta' type is not supported, and will be written as integer values (ns frequency) to the database.\n",
      "  to_sql(df, name=tablename, con=conn,\n"
     ]
    },
    {
     "name": "stdout",
     "output_type": "stream",
     "text": [
      "Обработка ID 36\n"
     ]
    },
    {
     "name": "stderr",
     "output_type": "stream",
     "text": [
      "/Users/risuleymanov/opt/anaconda3/lib/python3.8/site-packages/pandasql/sqldf.py:120: UserWarning: the 'timedelta' type is not supported, and will be written as integer values (ns frequency) to the database.\n",
      "  to_sql(df, name=tablename, con=conn,\n"
     ]
    },
    {
     "name": "stdout",
     "output_type": "stream",
     "text": [
      "Обработка ID 39\n"
     ]
    },
    {
     "name": "stderr",
     "output_type": "stream",
     "text": [
      "/Users/risuleymanov/opt/anaconda3/lib/python3.8/site-packages/pandasql/sqldf.py:120: UserWarning: the 'timedelta' type is not supported, and will be written as integer values (ns frequency) to the database.\n",
      "  to_sql(df, name=tablename, con=conn,\n"
     ]
    },
    {
     "name": "stdout",
     "output_type": "stream",
     "text": [
      "Обработка ID 40\n"
     ]
    },
    {
     "name": "stderr",
     "output_type": "stream",
     "text": [
      "/Users/risuleymanov/opt/anaconda3/lib/python3.8/site-packages/pandasql/sqldf.py:120: UserWarning: the 'timedelta' type is not supported, and will be written as integer values (ns frequency) to the database.\n",
      "  to_sql(df, name=tablename, con=conn,\n"
     ]
    },
    {
     "name": "stdout",
     "output_type": "stream",
     "text": [
      "Обработка ID 43\n"
     ]
    },
    {
     "name": "stderr",
     "output_type": "stream",
     "text": [
      "/Users/risuleymanov/opt/anaconda3/lib/python3.8/site-packages/pandasql/sqldf.py:120: UserWarning: the 'timedelta' type is not supported, and will be written as integer values (ns frequency) to the database.\n",
      "  to_sql(df, name=tablename, con=conn,\n"
     ]
    },
    {
     "name": "stdout",
     "output_type": "stream",
     "text": [
      "Обработка ID 44\n"
     ]
    },
    {
     "name": "stderr",
     "output_type": "stream",
     "text": [
      "/Users/risuleymanov/opt/anaconda3/lib/python3.8/site-packages/pandasql/sqldf.py:120: UserWarning: the 'timedelta' type is not supported, and will be written as integer values (ns frequency) to the database.\n",
      "  to_sql(df, name=tablename, con=conn,\n"
     ]
    },
    {
     "name": "stdout",
     "output_type": "stream",
     "text": [
      "Обработка ID 46\n"
     ]
    },
    {
     "name": "stderr",
     "output_type": "stream",
     "text": [
      "/Users/risuleymanov/opt/anaconda3/lib/python3.8/site-packages/pandasql/sqldf.py:120: UserWarning: the 'timedelta' type is not supported, and will be written as integer values (ns frequency) to the database.\n",
      "  to_sql(df, name=tablename, con=conn,\n"
     ]
    },
    {
     "name": "stdout",
     "output_type": "stream",
     "text": [
      "Обработка ID 48\n"
     ]
    },
    {
     "name": "stderr",
     "output_type": "stream",
     "text": [
      "/Users/risuleymanov/opt/anaconda3/lib/python3.8/site-packages/pandasql/sqldf.py:120: UserWarning: the 'timedelta' type is not supported, and will be written as integer values (ns frequency) to the database.\n",
      "  to_sql(df, name=tablename, con=conn,\n"
     ]
    },
    {
     "name": "stdout",
     "output_type": "stream",
     "text": [
      "Обработка ID 49\n"
     ]
    },
    {
     "name": "stderr",
     "output_type": "stream",
     "text": [
      "/Users/risuleymanov/opt/anaconda3/lib/python3.8/site-packages/pandasql/sqldf.py:120: UserWarning: the 'timedelta' type is not supported, and will be written as integer values (ns frequency) to the database.\n",
      "  to_sql(df, name=tablename, con=conn,\n"
     ]
    },
    {
     "name": "stdout",
     "output_type": "stream",
     "text": [
      "Обработка ID 52\n"
     ]
    },
    {
     "name": "stderr",
     "output_type": "stream",
     "text": [
      "/Users/risuleymanov/opt/anaconda3/lib/python3.8/site-packages/pandasql/sqldf.py:120: UserWarning: the 'timedelta' type is not supported, and will be written as integer values (ns frequency) to the database.\n",
      "  to_sql(df, name=tablename, con=conn,\n"
     ]
    },
    {
     "name": "stdout",
     "output_type": "stream",
     "text": [
      "Обработка ID 54\n"
     ]
    },
    {
     "name": "stderr",
     "output_type": "stream",
     "text": [
      "/Users/risuleymanov/opt/anaconda3/lib/python3.8/site-packages/pandasql/sqldf.py:120: UserWarning: the 'timedelta' type is not supported, and will be written as integer values (ns frequency) to the database.\n",
      "  to_sql(df, name=tablename, con=conn,\n"
     ]
    },
    {
     "name": "stdout",
     "output_type": "stream",
     "text": [
      "Обработка ID 55\n"
     ]
    },
    {
     "name": "stderr",
     "output_type": "stream",
     "text": [
      "/Users/risuleymanov/opt/anaconda3/lib/python3.8/site-packages/pandasql/sqldf.py:120: UserWarning: the 'timedelta' type is not supported, and will be written as integer values (ns frequency) to the database.\n",
      "  to_sql(df, name=tablename, con=conn,\n"
     ]
    },
    {
     "name": "stdout",
     "output_type": "stream",
     "text": [
      "Обработка ID 57\n"
     ]
    },
    {
     "name": "stderr",
     "output_type": "stream",
     "text": [
      "/Users/risuleymanov/opt/anaconda3/lib/python3.8/site-packages/pandasql/sqldf.py:120: UserWarning: the 'timedelta' type is not supported, and will be written as integer values (ns frequency) to the database.\n",
      "  to_sql(df, name=tablename, con=conn,\n"
     ]
    },
    {
     "name": "stdout",
     "output_type": "stream",
     "text": [
      "Обработка ID 58\n"
     ]
    },
    {
     "name": "stderr",
     "output_type": "stream",
     "text": [
      "/Users/risuleymanov/opt/anaconda3/lib/python3.8/site-packages/pandasql/sqldf.py:120: UserWarning: the 'timedelta' type is not supported, and will be written as integer values (ns frequency) to the database.\n",
      "  to_sql(df, name=tablename, con=conn,\n"
     ]
    },
    {
     "name": "stdout",
     "output_type": "stream",
     "text": [
      "Обработка ID 61\n"
     ]
    },
    {
     "name": "stderr",
     "output_type": "stream",
     "text": [
      "/Users/risuleymanov/opt/anaconda3/lib/python3.8/site-packages/pandasql/sqldf.py:120: UserWarning: the 'timedelta' type is not supported, and will be written as integer values (ns frequency) to the database.\n",
      "  to_sql(df, name=tablename, con=conn,\n"
     ]
    },
    {
     "name": "stdout",
     "output_type": "stream",
     "text": [
      "Обработка ID 62\n"
     ]
    },
    {
     "name": "stderr",
     "output_type": "stream",
     "text": [
      "/Users/risuleymanov/opt/anaconda3/lib/python3.8/site-packages/pandasql/sqldf.py:120: UserWarning: the 'timedelta' type is not supported, and will be written as integer values (ns frequency) to the database.\n",
      "  to_sql(df, name=tablename, con=conn,\n"
     ]
    },
    {
     "name": "stdout",
     "output_type": "stream",
     "text": [
      "Обработка ID 63\n"
     ]
    },
    {
     "name": "stderr",
     "output_type": "stream",
     "text": [
      "/Users/risuleymanov/opt/anaconda3/lib/python3.8/site-packages/pandasql/sqldf.py:120: UserWarning: the 'timedelta' type is not supported, and will be written as integer values (ns frequency) to the database.\n",
      "  to_sql(df, name=tablename, con=conn,\n"
     ]
    },
    {
     "name": "stdout",
     "output_type": "stream",
     "text": [
      "Обработка ID 65\n"
     ]
    },
    {
     "name": "stderr",
     "output_type": "stream",
     "text": [
      "/Users/risuleymanov/opt/anaconda3/lib/python3.8/site-packages/pandasql/sqldf.py:120: UserWarning: the 'timedelta' type is not supported, and will be written as integer values (ns frequency) to the database.\n",
      "  to_sql(df, name=tablename, con=conn,\n"
     ]
    },
    {
     "name": "stdout",
     "output_type": "stream",
     "text": [
      "Обработка ID 66\n"
     ]
    },
    {
     "name": "stderr",
     "output_type": "stream",
     "text": [
      "/Users/risuleymanov/opt/anaconda3/lib/python3.8/site-packages/pandasql/sqldf.py:120: UserWarning: the 'timedelta' type is not supported, and will be written as integer values (ns frequency) to the database.\n",
      "  to_sql(df, name=tablename, con=conn,\n"
     ]
    },
    {
     "name": "stdout",
     "output_type": "stream",
     "text": [
      "Обработка ID 67\n"
     ]
    },
    {
     "name": "stderr",
     "output_type": "stream",
     "text": [
      "/Users/risuleymanov/opt/anaconda3/lib/python3.8/site-packages/pandasql/sqldf.py:120: UserWarning: the 'timedelta' type is not supported, and will be written as integer values (ns frequency) to the database.\n",
      "  to_sql(df, name=tablename, con=conn,\n"
     ]
    }
   ],
   "source": [
    "d = pd.read_csv(f'with_time_2')\n",
    "d.adequate_time = pd.to_datetime(d.adequate_time)\n",
    "d = d[d['confidence']>=0.7]\n",
    "baselines[2] = np.mean(d[(d['videotime']>='0:0:20')&(d['videotime']<='0:0:25')]['diameter'])\n",
    "q = \"\"\"\n",
    "    select page_id, ID, avg(diameter)\n",
    "    from d join tra_page_time_data on adequate_time between start_time and finish_time \n",
    "    join tra_match using(recnum)\n",
    "    group by page_id, ID\n",
    "    \"\"\"\n",
    "tra_pupils_by_page_ID = sql(q)\n",
    "\n",
    "    \n",
    "for k in list(tra_answers_times['ID'])[1:]:\n",
    "    print(f'Обработка ID {k}')\n",
    "    d = pd.read_csv(f'with_time_{k}')\n",
    "    d.adequate_time = pd.to_datetime(d.adequate_time)\n",
    "    d = d[d['confidence']>=0.7]\n",
    "    baselines[k] = np.mean(d[(d['videotime']>='0:0:20')&(d['videotime']<='0:0:25')]['diameter'])\n",
    "    q = \"\"\"\n",
    "        select page_id, ID, avg(diameter)\n",
    "        from d join tra_page_time_data on adequate_time between start_time and finish_time \n",
    "        join tra_match using(recnum)\n",
    "        group by page_id, ID\n",
    "        \"\"\"\n",
    "    ext = sql(q)\n",
    "    \n",
    "    tra_pupils_by_page_ID = pd.concat([tra_pupils_by_page_ID, ext])"
   ]
  },
  {
   "cell_type": "code",
   "execution_count": 435,
   "id": "bb0d3406",
   "metadata": {
    "collapsed": true
   },
   "outputs": [
    {
     "data": {
      "text/plain": [
       "{1: 34.05847395387164,\n",
       " 3: 38.55927557160785,\n",
       " 5: 28.882150588411655,\n",
       " 6: 25.9112323187787,\n",
       " 9: 25.784546352611393,\n",
       " 10: 28.248159385305016,\n",
       " 13: 32.39158593955611,\n",
       " 15: 46.328713509692875,\n",
       " 19: 26.240620835712487,\n",
       " 21: 42.83381509107261,\n",
       " 22: 33.141311077312416,\n",
       " 23: 29.575156056649824,\n",
       " 24: 40.1373743710876,\n",
       " 27: 27.02340545599567,\n",
       " 29: 28.55431753216723,\n",
       " 31: 27.552174810460947,\n",
       " 32: 19.453576752829672,\n",
       " 33: 30.324848731445584,\n",
       " 35: 26.288821217608454,\n",
       " 37: 22.469176759317463,\n",
       " 38: 37.10336340710692,\n",
       " 41: 27.25628786625374,\n",
       " 42: 26.209296724397827,\n",
       " 45: 23.186135304277148,\n",
       " 47: 26.92046929376521,\n",
       " 50: 31.60914328135985,\n",
       " 51: 26.066980655112786,\n",
       " 53: 24.223704393650813,\n",
       " 56: 23.90670123579387,\n",
       " 59: 34.116541799808765,\n",
       " 60: 26.90996969180785,\n",
       " 64: 34.720049630504676,\n",
       " 2: 32.389678401774134,\n",
       " 4: 30.306845913236078,\n",
       " 7: 25.73412328766054,\n",
       " 8: 23.51081530796782,\n",
       " 11: 35.83306143459723,\n",
       " 12: 30.161376211817355,\n",
       " 14: 34.10817435601993,\n",
       " 16: 25.83413821577398,\n",
       " 17: 34.625853079538345,\n",
       " 20: 32.0996706111211,\n",
       " 25: 30.498656218006893,\n",
       " 26: 43.43715474138266,\n",
       " 18: 14.722709063531186,\n",
       " 28: 30.74062896362395,\n",
       " 30: 25.22181145601702,\n",
       " 34: 39.33207437637607,\n",
       " 36: 24.10847338274136,\n",
       " 39: 28.973803026979304,\n",
       " 40: 29.530938202978287,\n",
       " 43: 24.358148218426663,\n",
       " 44: 24.446102323893765,\n",
       " 46: 34.47647944772204,\n",
       " 48: 27.658188232919873,\n",
       " 49: 31.17284408766361,\n",
       " 52: 26.440364671636466,\n",
       " 54: 23.263501809013977,\n",
       " 55: 31.245678704368387,\n",
       " 57: 32.87239073541078,\n",
       " 58: 26.75183109086402,\n",
       " 61: 26.7147981387948,\n",
       " 62: 33.26829283896669,\n",
       " 63: 17.399304713058214,\n",
       " 65: 20.527097292267673,\n",
       " 66: 29.855326113607372,\n",
       " 67: 35.89621628331419}"
      ]
     },
     "execution_count": 435,
     "metadata": {},
     "output_type": "execute_result"
    }
   ],
   "source": [
    "baselines"
   ]
  },
  {
   "cell_type": "code",
   "execution_count": 439,
   "id": "121164ba",
   "metadata": {
    "collapsed": true
   },
   "outputs": [
    {
     "data": {
      "text/html": [
       "<div>\n",
       "<style scoped>\n",
       "    .dataframe tbody tr th:only-of-type {\n",
       "        vertical-align: middle;\n",
       "    }\n",
       "\n",
       "    .dataframe tbody tr th {\n",
       "        vertical-align: top;\n",
       "    }\n",
       "\n",
       "    .dataframe thead th {\n",
       "        text-align: right;\n",
       "    }\n",
       "</style>\n",
       "<table border=\"1\" class=\"dataframe\">\n",
       "  <thead>\n",
       "    <tr style=\"text-align: right;\">\n",
       "      <th></th>\n",
       "      <th>question</th>\n",
       "      <th>ID</th>\n",
       "      <th>distance</th>\n",
       "    </tr>\n",
       "  </thead>\n",
       "  <tbody>\n",
       "    <tr>\n",
       "      <th>0</th>\n",
       "      <td>end_time</td>\n",
       "      <td>1</td>\n",
       "      <td>1484</td>\n",
       "    </tr>\n",
       "    <tr>\n",
       "      <th>1</th>\n",
       "      <td>ID_time</td>\n",
       "      <td>1</td>\n",
       "      <td>340</td>\n",
       "    </tr>\n",
       "    <tr>\n",
       "      <th>2</th>\n",
       "      <td>pre_time</td>\n",
       "      <td>1</td>\n",
       "      <td>1179</td>\n",
       "    </tr>\n",
       "    <tr>\n",
       "      <th>3</th>\n",
       "      <td>Q6_time</td>\n",
       "      <td>1</td>\n",
       "      <td>632</td>\n",
       "    </tr>\n",
       "    <tr>\n",
       "      <th>4</th>\n",
       "      <td>Q7_time</td>\n",
       "      <td>1</td>\n",
       "      <td>477</td>\n",
       "    </tr>\n",
       "    <tr>\n",
       "      <th>...</th>\n",
       "      <td>...</td>\n",
       "      <td>...</td>\n",
       "      <td>...</td>\n",
       "    </tr>\n",
       "    <tr>\n",
       "      <th>429</th>\n",
       "      <td>Q16_time</td>\n",
       "      <td>64</td>\n",
       "      <td>1491</td>\n",
       "    </tr>\n",
       "    <tr>\n",
       "      <th>430</th>\n",
       "      <td>Q20_time</td>\n",
       "      <td>64</td>\n",
       "      <td>1214</td>\n",
       "    </tr>\n",
       "    <tr>\n",
       "      <th>431</th>\n",
       "      <td>Q22_time</td>\n",
       "      <td>64</td>\n",
       "      <td>1334</td>\n",
       "    </tr>\n",
       "    <tr>\n",
       "      <th>432</th>\n",
       "      <td>Q23_time</td>\n",
       "      <td>64</td>\n",
       "      <td>1673</td>\n",
       "    </tr>\n",
       "    <tr>\n",
       "      <th>433</th>\n",
       "      <td>Q25_time</td>\n",
       "      <td>64</td>\n",
       "      <td>2256</td>\n",
       "    </tr>\n",
       "  </tbody>\n",
       "</table>\n",
       "<p>434 rows × 3 columns</p>\n",
       "</div>"
      ],
      "text/plain": [
       "     question  ID  distance\n",
       "0    end_time   1      1484\n",
       "1     ID_time   1       340\n",
       "2    pre_time   1      1179\n",
       "3     Q6_time   1       632\n",
       "4     Q7_time   1       477\n",
       "..        ...  ..       ...\n",
       "429  Q16_time  64      1491\n",
       "430  Q20_time  64      1214\n",
       "431  Q22_time  64      1334\n",
       "432  Q23_time  64      1673\n",
       "433  Q25_time  64      2256\n",
       "\n",
       "[434 rows x 3 columns]"
      ]
     },
     "execution_count": 439,
     "metadata": {},
     "output_type": "execute_result"
    }
   ],
   "source": [
    "gam_question_mouse"
   ]
  },
  {
   "cell_type": "code",
   "execution_count": 438,
   "id": "604426c2",
   "metadata": {
    "collapsed": true
   },
   "outputs": [
    {
     "data": {
      "text/html": [
       "<div>\n",
       "<style scoped>\n",
       "    .dataframe tbody tr th:only-of-type {\n",
       "        vertical-align: middle;\n",
       "    }\n",
       "\n",
       "    .dataframe tbody tr th {\n",
       "        vertical-align: top;\n",
       "    }\n",
       "\n",
       "    .dataframe thead th {\n",
       "        text-align: right;\n",
       "    }\n",
       "</style>\n",
       "<table border=\"1\" class=\"dataframe\">\n",
       "  <thead>\n",
       "    <tr style=\"text-align: right;\">\n",
       "      <th></th>\n",
       "      <th>question</th>\n",
       "      <th>ID</th>\n",
       "      <th>distance</th>\n",
       "    </tr>\n",
       "  </thead>\n",
       "  <tbody>\n",
       "    <tr>\n",
       "      <th>0</th>\n",
       "      <td>end_time</td>\n",
       "      <td>2</td>\n",
       "      <td>1760</td>\n",
       "    </tr>\n",
       "    <tr>\n",
       "      <th>1</th>\n",
       "      <td>intro</td>\n",
       "      <td>2</td>\n",
       "      <td>663</td>\n",
       "    </tr>\n",
       "    <tr>\n",
       "      <th>2</th>\n",
       "      <td>ID_time</td>\n",
       "      <td>2</td>\n",
       "      <td>1228</td>\n",
       "    </tr>\n",
       "    <tr>\n",
       "      <th>3</th>\n",
       "      <td>pre_time</td>\n",
       "      <td>2</td>\n",
       "      <td>2131</td>\n",
       "    </tr>\n",
       "    <tr>\n",
       "      <th>4</th>\n",
       "      <td>Q6_time</td>\n",
       "      <td>2</td>\n",
       "      <td>489</td>\n",
       "    </tr>\n",
       "    <tr>\n",
       "      <th>...</th>\n",
       "      <td>...</td>\n",
       "      <td>...</td>\n",
       "      <td>...</td>\n",
       "    </tr>\n",
       "    <tr>\n",
       "      <th>474</th>\n",
       "      <td>Q15_time</td>\n",
       "      <td>67</td>\n",
       "      <td>2075</td>\n",
       "    </tr>\n",
       "    <tr>\n",
       "      <th>475</th>\n",
       "      <td>STOMP_time</td>\n",
       "      <td>67</td>\n",
       "      <td>3374</td>\n",
       "    </tr>\n",
       "    <tr>\n",
       "      <th>476</th>\n",
       "      <td>Q18_time</td>\n",
       "      <td>67</td>\n",
       "      <td>412</td>\n",
       "    </tr>\n",
       "    <tr>\n",
       "      <th>477</th>\n",
       "      <td>Q20_time</td>\n",
       "      <td>67</td>\n",
       "      <td>1191</td>\n",
       "    </tr>\n",
       "    <tr>\n",
       "      <th>478</th>\n",
       "      <td>Q21_time</td>\n",
       "      <td>67</td>\n",
       "      <td>3281</td>\n",
       "    </tr>\n",
       "  </tbody>\n",
       "</table>\n",
       "<p>479 rows × 3 columns</p>\n",
       "</div>"
      ],
      "text/plain": [
       "       question  ID  distance\n",
       "0      end_time   2      1760\n",
       "1         intro   2       663\n",
       "2       ID_time   2      1228\n",
       "3      pre_time   2      2131\n",
       "4       Q6_time   2       489\n",
       "..          ...  ..       ...\n",
       "474    Q15_time  67      2075\n",
       "475  STOMP_time  67      3374\n",
       "476    Q18_time  67       412\n",
       "477    Q20_time  67      1191\n",
       "478    Q21_time  67      3281\n",
       "\n",
       "[479 rows x 3 columns]"
      ]
     },
     "execution_count": 438,
     "metadata": {},
     "output_type": "execute_result"
    }
   ],
   "source": [
    "tra_question_mouse"
   ]
  },
  {
   "cell_type": "code",
   "execution_count": 441,
   "id": "e4071782",
   "metadata": {
    "collapsed": true
   },
   "outputs": [
    {
     "data": {
      "text/html": [
       "<div>\n",
       "<style scoped>\n",
       "    .dataframe tbody tr th:only-of-type {\n",
       "        vertical-align: middle;\n",
       "    }\n",
       "\n",
       "    .dataframe tbody tr th {\n",
       "        vertical-align: top;\n",
       "    }\n",
       "\n",
       "    .dataframe thead th {\n",
       "        text-align: right;\n",
       "    }\n",
       "</style>\n",
       "<table border=\"1\" class=\"dataframe\">\n",
       "  <thead>\n",
       "    <tr style=\"text-align: right;\">\n",
       "      <th></th>\n",
       "      <th>page_id</th>\n",
       "      <th>ID</th>\n",
       "      <th>avg_diameter</th>\n",
       "    </tr>\n",
       "  </thead>\n",
       "  <tbody>\n",
       "    <tr>\n",
       "      <th>0</th>\n",
       "      <td>412797</td>\n",
       "      <td>8</td>\n",
       "      <td>28.960709</td>\n",
       "    </tr>\n",
       "    <tr>\n",
       "      <th>1</th>\n",
       "      <td>412798</td>\n",
       "      <td>8</td>\n",
       "      <td>26.587238</td>\n",
       "    </tr>\n",
       "    <tr>\n",
       "      <th>0</th>\n",
       "      <td>412886</td>\n",
       "      <td>11</td>\n",
       "      <td>25.027989</td>\n",
       "    </tr>\n",
       "    <tr>\n",
       "      <th>0</th>\n",
       "      <td>413095</td>\n",
       "      <td>16</td>\n",
       "      <td>39.326328</td>\n",
       "    </tr>\n",
       "    <tr>\n",
       "      <th>1</th>\n",
       "      <td>413096</td>\n",
       "      <td>16</td>\n",
       "      <td>36.936241</td>\n",
       "    </tr>\n",
       "    <tr>\n",
       "      <th>...</th>\n",
       "      <td>...</td>\n",
       "      <td>...</td>\n",
       "      <td>...</td>\n",
       "    </tr>\n",
       "    <tr>\n",
       "      <th>44</th>\n",
       "      <td>416589</td>\n",
       "      <td>67</td>\n",
       "      <td>20.471956</td>\n",
       "    </tr>\n",
       "    <tr>\n",
       "      <th>45</th>\n",
       "      <td>416590</td>\n",
       "      <td>67</td>\n",
       "      <td>20.764104</td>\n",
       "    </tr>\n",
       "    <tr>\n",
       "      <th>46</th>\n",
       "      <td>416591</td>\n",
       "      <td>67</td>\n",
       "      <td>20.161239</td>\n",
       "    </tr>\n",
       "    <tr>\n",
       "      <th>47</th>\n",
       "      <td>416592</td>\n",
       "      <td>67</td>\n",
       "      <td>21.379873</td>\n",
       "    </tr>\n",
       "    <tr>\n",
       "      <th>48</th>\n",
       "      <td>416593</td>\n",
       "      <td>67</td>\n",
       "      <td>28.505866</td>\n",
       "    </tr>\n",
       "  </tbody>\n",
       "</table>\n",
       "<p>379 rows × 3 columns</p>\n",
       "</div>"
      ],
      "text/plain": [
       "   page_id  ID  avg_diameter\n",
       "0   412797   8     28.960709\n",
       "1   412798   8     26.587238\n",
       "0   412886  11     25.027989\n",
       "0   413095  16     39.326328\n",
       "1   413096  16     36.936241\n",
       "..     ...  ..           ...\n",
       "44  416589  67     20.471956\n",
       "45  416590  67     20.764104\n",
       "46  416591  67     20.161239\n",
       "47  416592  67     21.379873\n",
       "48  416593  67     28.505866\n",
       "\n",
       "[379 rows x 3 columns]"
      ]
     },
     "execution_count": 441,
     "metadata": {},
     "output_type": "execute_result"
    }
   ],
   "source": [
    "tra_pupils_by_page_ID = tra_pupils_by_page_ID.rename(columns = {'avg(diameter)':'avg_diameter'})\n",
    "tra_pupils_by_page_ID"
   ]
  },
  {
   "cell_type": "code",
   "execution_count": 442,
   "id": "c6c89307",
   "metadata": {
    "collapsed": true
   },
   "outputs": [
    {
     "data": {
      "text/html": [
       "<div>\n",
       "<style scoped>\n",
       "    .dataframe tbody tr th:only-of-type {\n",
       "        vertical-align: middle;\n",
       "    }\n",
       "\n",
       "    .dataframe tbody tr th {\n",
       "        vertical-align: top;\n",
       "    }\n",
       "\n",
       "    .dataframe thead th {\n",
       "        text-align: right;\n",
       "    }\n",
       "</style>\n",
       "<table border=\"1\" class=\"dataframe\">\n",
       "  <thead>\n",
       "    <tr style=\"text-align: right;\">\n",
       "      <th></th>\n",
       "      <th>page_id</th>\n",
       "      <th>ID</th>\n",
       "      <th>avg_diameter</th>\n",
       "    </tr>\n",
       "  </thead>\n",
       "  <tbody>\n",
       "    <tr>\n",
       "      <th>0</th>\n",
       "      <td>412560</td>\n",
       "      <td>3</td>\n",
       "      <td>37.685994</td>\n",
       "    </tr>\n",
       "    <tr>\n",
       "      <th>0</th>\n",
       "      <td>412641</td>\n",
       "      <td>5</td>\n",
       "      <td>41.635113</td>\n",
       "    </tr>\n",
       "    <tr>\n",
       "      <th>1</th>\n",
       "      <td>412642</td>\n",
       "      <td>5</td>\n",
       "      <td>38.401646</td>\n",
       "    </tr>\n",
       "    <tr>\n",
       "      <th>2</th>\n",
       "      <td>412643</td>\n",
       "      <td>5</td>\n",
       "      <td>39.814040</td>\n",
       "    </tr>\n",
       "    <tr>\n",
       "      <th>3</th>\n",
       "      <td>412644</td>\n",
       "      <td>5</td>\n",
       "      <td>40.135079</td>\n",
       "    </tr>\n",
       "    <tr>\n",
       "      <th>...</th>\n",
       "      <td>...</td>\n",
       "      <td>...</td>\n",
       "      <td>...</td>\n",
       "    </tr>\n",
       "    <tr>\n",
       "      <th>24</th>\n",
       "      <td>416128</td>\n",
       "      <td>60</td>\n",
       "      <td>45.524205</td>\n",
       "    </tr>\n",
       "    <tr>\n",
       "      <th>25</th>\n",
       "      <td>416129</td>\n",
       "      <td>60</td>\n",
       "      <td>35.671099</td>\n",
       "    </tr>\n",
       "    <tr>\n",
       "      <th>26</th>\n",
       "      <td>416130</td>\n",
       "      <td>60</td>\n",
       "      <td>33.981682</td>\n",
       "    </tr>\n",
       "    <tr>\n",
       "      <th>27</th>\n",
       "      <td>416131</td>\n",
       "      <td>60</td>\n",
       "      <td>32.168080</td>\n",
       "    </tr>\n",
       "    <tr>\n",
       "      <th>28</th>\n",
       "      <td>416132</td>\n",
       "      <td>60</td>\n",
       "      <td>33.230383</td>\n",
       "    </tr>\n",
       "  </tbody>\n",
       "</table>\n",
       "<p>268 rows × 3 columns</p>\n",
       "</div>"
      ],
      "text/plain": [
       "   page_id  ID  avg_diameter\n",
       "0   412560   3     37.685994\n",
       "0   412641   5     41.635113\n",
       "1   412642   5     38.401646\n",
       "2   412643   5     39.814040\n",
       "3   412644   5     40.135079\n",
       "..     ...  ..           ...\n",
       "24  416128  60     45.524205\n",
       "25  416129  60     35.671099\n",
       "26  416130  60     33.981682\n",
       "27  416131  60     32.168080\n",
       "28  416132  60     33.230383\n",
       "\n",
       "[268 rows x 3 columns]"
      ]
     },
     "execution_count": 442,
     "metadata": {},
     "output_type": "execute_result"
    }
   ],
   "source": [
    "gam_pupils_by_page_ID = gam_pupils_by_page_ID.rename(columns = {'avg(diameter)':'avg_diameter'})\n",
    "gam_pupils_by_page_ID"
   ]
  },
  {
   "cell_type": "markdown",
   "id": "b8299424",
   "metadata": {},
   "source": [
    "### Считаем don't know rate"
   ]
  },
  {
   "cell_type": "code",
   "execution_count": 497,
   "id": "e355e971",
   "metadata": {},
   "outputs": [],
   "source": [
    "gam_answers_DKR = gam_answers\n",
    "# gam_answers_DKR"
   ]
  },
  {
   "cell_type": "code",
   "execution_count": 498,
   "id": "f7fec1e2",
   "metadata": {},
   "outputs": [],
   "source": [
    "gam_answers_DKR['Q6_DK'] = gam_answers_DKR['Q6'].map({6:1})\n",
    "\n",
    "gam_answers_DKR['Q7_DK'] = gam_answers_DKR['Q7'].map({10:1})\n",
    "gam_answers_DKR['Q8_DK'] = gam_answers_DKR['Q8'].map({10:1})\n",
    "gam_answers_DKR['Q9_DK'] = gam_answers_DKR['Q9'].map({10:1})\n",
    "gam_answers_DKR['Q10_DK'] = gam_answers_DKR['Q10'].map({10:1})\n",
    "\n",
    "gam_answers_DKR['PWIa_DK'] = gam_answers_DKR['PWIa'].map({6:1})\n",
    "gam_answers_DKR['PWIb_DK'] = gam_answers_DKR['PWIb'].map({6:1})\n",
    "gam_answers_DKR['PWIc_DK'] = gam_answers_DKR['PWIc'].map({6:1})\n",
    "gam_answers_DKR['PWId_DK'] = gam_answers_DKR['PWId'].map({6:1})\n",
    "gam_answers_DKR['PWIe_DK'] = gam_answers_DKR['PWIe'].map({6:1})\n",
    "gam_answers_DKR['PWIf_DK'] = gam_answers_DKR['PWIf'].map({6:1})\n",
    "gam_answers_DKR['PWIg_DK'] = gam_answers_DKR['PWIg'].map({6:1})\n",
    "gam_answers_DKR['PWIh_DK'] = gam_answers_DKR['PWIh'].map({6:1})\n",
    "gam_answers_DKR['PWIi_DK'] = gam_answers_DKR['PWIi'].map({6:1})\n",
    "\n",
    "gam_answers_DKR['BZSGa_DK'] = gam_answers_DKR['BZSGa'].map({5:1})\n",
    "gam_answers_DKR['BZSGb_DK'] = gam_answers_DKR['BZSGb'].map({5:1})\n",
    "gam_answers_DKR['BZSGc_DK'] = gam_answers_DKR['BZSGc'].map({5:1})\n",
    "gam_answers_DKR['BZSGd_DK'] = gam_answers_DKR['BZSGd'].map({5:1})\n",
    "gam_answers_DKR['BZSGe_DK'] = gam_answers_DKR['BZSGe'].map({5:1})\n",
    "gam_answers_DKR['BZSGf_DK'] = gam_answers_DKR['BZSGf'].map({5:1})\n",
    "gam_answers_DKR['BZSGg_DK'] = gam_answers_DKR['BZSGg'].map({5:1})\n",
    "gam_answers_DKR['BZSGh_DK'] = gam_answers_DKR['BZSGh'].map({5:1})\n",
    "\n",
    "gam_answers_DKR['Q11a_DK'] = gam_answers_DKR['Q11a'].map({6:1}) \n",
    "gam_answers_DKR['Q11b_DK'] = gam_answers_DKR['Q11b'].map({6:1}) \n",
    "gam_answers_DKR['Q11c_DK'] = gam_answers_DKR['Q11c'].map({6:1}) \n",
    "gam_answers_DKR['Q11d_DK'] = gam_answers_DKR['Q11d'].map({6:1}) \n",
    "gam_answers_DKR['Q11e_DK'] = gam_answers_DKR['Q11e'].map({6:1}) \n",
    "gam_answers_DKR['Q11f_DK'] = gam_answers_DKR['Q11f'].map({6:1}) \n",
    "\n",
    "gam_answers_DKR['Q12a_DK'] = gam_answers_DKR['Q12a'].map({6:1})\n",
    "gam_answers_DKR['Q12b_DK'] = gam_answers_DKR['Q12b'].map({6:1})\n",
    "gam_answers_DKR['Q12c_DK'] = gam_answers_DKR['Q12c'].map({6:1})\n",
    "gam_answers_DKR['Q12d_DK'] = gam_answers_DKR['Q12d'].map({6:1})\n",
    "gam_answers_DKR['Q12e_DK'] = gam_answers_DKR['Q12e'].map({6:1})\n",
    "gam_answers_DKR['Q12f_DK'] = gam_answers_DKR['Q12f'].map({6:1})\n",
    "\n",
    "gam_answers_DKR['Q13a_DK'] = gam_answers_DKR['Q13a'].map({6:1})\n",
    "gam_answers_DKR['Q13b_DK'] = gam_answers_DKR['Q13b'].map({6:1})\n",
    "gam_answers_DKR['Q13c_DK'] = gam_answers_DKR['Q13c'].map({6:1})\n",
    "gam_answers_DKR['Q13d_DK'] = gam_answers_DKR['Q13d'].map({6:1})\n",
    "gam_answers_DKR['Q13e_DK'] = gam_answers_DKR['Q13e'].map({6:1})\n",
    "gam_answers_DKR['Q13f_DK'] = gam_answers_DKR['Q13f'].map({6:1})\n",
    "\n",
    "gam_answers_DKR['Q14a_DK'] = gam_answers_DKR['Q14a'].map({6:1})\n",
    "gam_answers_DKR['Q14b_DK'] = gam_answers_DKR['Q14b'].map({6:1})\n",
    "gam_answers_DKR['Q14c_DK'] = gam_answers_DKR['Q14c'].map({6:1})\n",
    "gam_answers_DKR['Q14d_DK'] = gam_answers_DKR['Q14d'].map({6:1})\n",
    "gam_answers_DKR['Q14e_DK'] = gam_answers_DKR['Q14e'].map({6:1})\n",
    "gam_answers_DKR['Q14f_DK'] = gam_answers_DKR['Q14f'].map({6:1})\n",
    "gam_answers_DKR['Q14g_DK'] = gam_answers_DKR['Q14g'].map({6:1})\n",
    "\n",
    "gam_answers_DKR['Q15a_DK'] = gam_answers_DKR['Q15a'].map({6:1})\n",
    "gam_answers_DKR['Q15b_DK'] = gam_answers_DKR['Q15b'].map({6:1})\n",
    "gam_answers_DKR['Q15c_DK'] = gam_answers_DKR['Q15c'].map({6:1})\n",
    "gam_answers_DKR['Q15d_DK'] = gam_answers_DKR['Q15d'].map({6:1})\n",
    "gam_answers_DKR['Q15e_DK'] = gam_answers_DKR['Q15e'].map({6:1})\n",
    "gam_answers_DKR['Q15f_DK'] = gam_answers_DKR['Q15f'].map({6:1})\n",
    "gam_answers_DKR['Q15g_DK'] = gam_answers_DKR['Q15g'].map({6:1})\n",
    "\n",
    "gam_answers_DKR['STOMPa_DK'] = gam_answers_DKR['STOMPa'].map({6:1})\n",
    "gam_answers_DKR['STOMPb_DK'] = gam_answers_DKR['STOMPb'].map({6:1})\n",
    "gam_answers_DKR['STOMPc_DK'] = gam_answers_DKR['STOMPc'].map({6:1})\n",
    "gam_answers_DKR['STOMPd_DK'] = gam_answers_DKR['STOMPd'].map({6:1})\n",
    "gam_answers_DKR['STOMPe_DK'] = gam_answers_DKR['STOMPe'].map({6:1})\n",
    "gam_answers_DKR['STOMPf_DK'] = gam_answers_DKR['STOMPf'].map({6:1})\n",
    "gam_answers_DKR['STOMPg_DK'] = gam_answers_DKR['STOMPg'].map({6:1})\n",
    "gam_answers_DKR['STOMPh_DK'] = gam_answers_DKR['STOMPh'].map({6:1})\n",
    "gam_answers_DKR['STOMPi_DK'] = gam_answers_DKR['STOMPi'].map({6:1})"
   ]
  },
  {
   "cell_type": "code",
   "execution_count": 510,
   "id": "35a8dcb7",
   "metadata": {},
   "outputs": [],
   "source": [
    "tra_answers_DKR = tra_answers\n",
    "# tra_answers_DKR"
   ]
  },
  {
   "cell_type": "code",
   "execution_count": 511,
   "id": "c198294c",
   "metadata": {},
   "outputs": [],
   "source": [
    "tra_answers_DKR['Q6_DK'] = tra_answers_DKR['Q6'].map({6:1})\n",
    "\n",
    "tra_answers_DKR['Q7_DK'] = tra_answers_DKR['Q7'].map({10:1})\n",
    "tra_answers_DKR['Q8_DK'] = tra_answers_DKR['Q8'].map({10:1})\n",
    "tra_answers_DKR['Q9_DK'] = tra_answers_DKR['Q9'].map({10:1})\n",
    "tra_answers_DKR['Q10_DK'] = tra_answers_DKR['Q10'].map({10:1})\n",
    "\n",
    "tra_answers_DKR['PWIa_DK'] = tra_answers_DKR['PWIa'].map({6:1})\n",
    "tra_answers_DKR['PWIb_DK'] = tra_answers_DKR['PWIb'].map({6:1})\n",
    "tra_answers_DKR['PWIc_DK'] = tra_answers_DKR['PWIc'].map({6:1})\n",
    "tra_answers_DKR['PWId_DK'] = tra_answers_DKR['PWId'].map({6:1})\n",
    "tra_answers_DKR['PWIe_DK'] = tra_answers_DKR['PWIe'].map({6:1})\n",
    "tra_answers_DKR['PWIf_DK'] = tra_answers_DKR['PWIf'].map({6:1})\n",
    "tra_answers_DKR['PWIg_DK'] = tra_answers_DKR['PWIg'].map({6:1})\n",
    "tra_answers_DKR['PWIh_DK'] = tra_answers_DKR['PWIh'].map({6:1})\n",
    "tra_answers_DKR['PWIi_DK'] = tra_answers_DKR['PWIi'].map({6:1})\n",
    "\n",
    "tra_answers_DKR['BZSGa_DK'] = tra_answers_DKR['BZSGa'].map({5:1})\n",
    "tra_answers_DKR['BZSGb_DK'] = tra_answers_DKR['BZSGb'].map({5:1})\n",
    "tra_answers_DKR['BZSGc_DK'] = tra_answers_DKR['BZSGc'].map({5:1})\n",
    "tra_answers_DKR['BZSGd_DK'] = tra_answers_DKR['BZSGd'].map({5:1})\n",
    "tra_answers_DKR['BZSGe_DK'] = tra_answers_DKR['BZSGe'].map({5:1})\n",
    "tra_answers_DKR['BZSGf_DK'] = tra_answers_DKR['BZSGf'].map({5:1})\n",
    "tra_answers_DKR['BZSGg_DK'] = tra_answers_DKR['BZSGg'].map({5:1})\n",
    "tra_answers_DKR['BZSGh_DK'] = tra_answers_DKR['BZSGh'].map({5:1})\n",
    "\n",
    "tra_answers_DKR['Q11a_DK'] = tra_answers_DKR['Q11a'].map({6:1}) \n",
    "tra_answers_DKR['Q11b_DK'] = tra_answers_DKR['Q11b'].map({6:1}) \n",
    "tra_answers_DKR['Q11c_DK'] = tra_answers_DKR['Q11c'].map({6:1}) \n",
    "tra_answers_DKR['Q11d_DK'] = tra_answers_DKR['Q11d'].map({6:1}) \n",
    "tra_answers_DKR['Q11e_DK'] = tra_answers_DKR['Q11e'].map({6:1}) \n",
    "tra_answers_DKR['Q11f_DK'] = tra_answers_DKR['Q11f'].map({6:1}) \n",
    "\n",
    "tra_answers_DKR['Q12a_DK'] = tra_answers_DKR['Q12a'].map({6:1})\n",
    "tra_answers_DKR['Q12b_DK'] = tra_answers_DKR['Q12b'].map({6:1})\n",
    "tra_answers_DKR['Q12c_DK'] = tra_answers_DKR['Q12c'].map({6:1})\n",
    "tra_answers_DKR['Q12d_DK'] = tra_answers_DKR['Q12d'].map({6:1})\n",
    "tra_answers_DKR['Q12e_DK'] = tra_answers_DKR['Q12e'].map({6:1})\n",
    "tra_answers_DKR['Q12f_DK'] = tra_answers_DKR['Q12f'].map({6:1})\n",
    "\n",
    "tra_answers_DKR['Q13a_DK'] = tra_answers_DKR['Q13a'].map({6:1})\n",
    "tra_answers_DKR['Q13b_DK'] = tra_answers_DKR['Q13b'].map({6:1})\n",
    "tra_answers_DKR['Q13c_DK'] = tra_answers_DKR['Q13c'].map({6:1})\n",
    "tra_answers_DKR['Q13d_DK'] = tra_answers_DKR['Q13d'].map({6:1})\n",
    "tra_answers_DKR['Q13e_DK'] = tra_answers_DKR['Q13e'].map({6:1})\n",
    "tra_answers_DKR['Q13f_DK'] = tra_answers_DKR['Q13f'].map({6:1})\n",
    "\n",
    "tra_answers_DKR['Q14a_DK'] = tra_answers_DKR['Q14a'].map({6:1})\n",
    "tra_answers_DKR['Q14b_DK'] = tra_answers_DKR['Q14b'].map({6:1})\n",
    "tra_answers_DKR['Q14c_DK'] = tra_answers_DKR['Q14c'].map({6:1})\n",
    "tra_answers_DKR['Q14d_DK'] = tra_answers_DKR['Q14d'].map({6:1})\n",
    "tra_answers_DKR['Q14e_DK'] = tra_answers_DKR['Q14e'].map({6:1})\n",
    "tra_answers_DKR['Q14f_DK'] = tra_answers_DKR['Q14f'].map({6:1})\n",
    "\n",
    "tra_answers_DKR['Q15a_DK'] = tra_answers_DKR['Q15a'].map({6:1})\n",
    "tra_answers_DKR['Q15b_DK'] = tra_answers_DKR['Q15b'].map({6:1})\n",
    "tra_answers_DKR['Q15c_DK'] = tra_answers_DKR['Q15c'].map({6:1})\n",
    "tra_answers_DKR['Q15d_DK'] = tra_answers_DKR['Q15d'].map({6:1})\n",
    "tra_answers_DKR['Q15e_DK'] = tra_answers_DKR['Q15e'].map({6:1})\n",
    "tra_answers_DKR['Q15f_DK'] = tra_answers_DKR['Q15f'].map({6:1})\n",
    "tra_answers_DKR['Q15g_DK'] = tra_answers_DKR['Q15g'].map({6:1})\n",
    "\n",
    "tra_answers_DKR['STOMPa_DK'] = tra_answers_DKR['STOMPa'].map({6:1})\n",
    "tra_answers_DKR['STOMPb_DK'] = tra_answers_DKR['STOMPb'].map({6:1})\n",
    "tra_answers_DKR['STOMPc_DK'] = tra_answers_DKR['STOMPc'].map({6:1})\n",
    "tra_answers_DKR['STOMPd_DK'] = tra_answers_DKR['STOMPd'].map({6:1})\n",
    "tra_answers_DKR['STOMPe_DK'] = tra_answers_DKR['STOMPe'].map({6:1})\n",
    "tra_answers_DKR['STOMPf_DK'] = tra_answers_DKR['STOMPf'].map({6:1})\n",
    "tra_answers_DKR['STOMPg_DK'] = tra_answers_DKR['STOMPg'].map({6:1})\n",
    "tra_answers_DKR['STOMPh_DK'] = tra_answers_DKR['STOMPh'].map({6:1})\n",
    "tra_answers_DKR['STOMPi_DK'] = tra_answers_DKR['STOMPi'].map({6:1})"
   ]
  },
  {
   "cell_type": "code",
   "execution_count": 509,
   "id": "3f5c026e",
   "metadata": {
    "collapsed": true
   },
   "outputs": [
    {
     "data": {
      "text/html": [
       "<div>\n",
       "<style scoped>\n",
       "    .dataframe tbody tr th:only-of-type {\n",
       "        vertical-align: middle;\n",
       "    }\n",
       "\n",
       "    .dataframe tbody tr th {\n",
       "        vertical-align: top;\n",
       "    }\n",
       "\n",
       "    .dataframe thead th {\n",
       "        text-align: right;\n",
       "    }\n",
       "</style>\n",
       "<table border=\"1\" class=\"dataframe\">\n",
       "  <thead>\n",
       "    <tr style=\"text-align: right;\">\n",
       "      <th></th>\n",
       "      <th>ID</th>\n",
       "      <th>dont_know_rate</th>\n",
       "    </tr>\n",
       "  </thead>\n",
       "  <tbody>\n",
       "    <tr>\n",
       "      <th>0</th>\n",
       "      <td>1</td>\n",
       "      <td>0.031746</td>\n",
       "    </tr>\n",
       "    <tr>\n",
       "      <th>1</th>\n",
       "      <td>3</td>\n",
       "      <td>0.000000</td>\n",
       "    </tr>\n",
       "    <tr>\n",
       "      <th>2</th>\n",
       "      <td>5</td>\n",
       "      <td>0.015873</td>\n",
       "    </tr>\n",
       "    <tr>\n",
       "      <th>3</th>\n",
       "      <td>6</td>\n",
       "      <td>0.000000</td>\n",
       "    </tr>\n",
       "    <tr>\n",
       "      <th>4</th>\n",
       "      <td>9</td>\n",
       "      <td>0.000000</td>\n",
       "    </tr>\n",
       "    <tr>\n",
       "      <th>5</th>\n",
       "      <td>10</td>\n",
       "      <td>0.000000</td>\n",
       "    </tr>\n",
       "    <tr>\n",
       "      <th>6</th>\n",
       "      <td>13</td>\n",
       "      <td>0.015873</td>\n",
       "    </tr>\n",
       "    <tr>\n",
       "      <th>7</th>\n",
       "      <td>15</td>\n",
       "      <td>0.000000</td>\n",
       "    </tr>\n",
       "    <tr>\n",
       "      <th>8</th>\n",
       "      <td>19</td>\n",
       "      <td>0.000000</td>\n",
       "    </tr>\n",
       "    <tr>\n",
       "      <th>9</th>\n",
       "      <td>21</td>\n",
       "      <td>0.063492</td>\n",
       "    </tr>\n",
       "    <tr>\n",
       "      <th>10</th>\n",
       "      <td>22</td>\n",
       "      <td>0.079365</td>\n",
       "    </tr>\n",
       "    <tr>\n",
       "      <th>11</th>\n",
       "      <td>23</td>\n",
       "      <td>0.000000</td>\n",
       "    </tr>\n",
       "    <tr>\n",
       "      <th>12</th>\n",
       "      <td>24</td>\n",
       "      <td>0.031746</td>\n",
       "    </tr>\n",
       "    <tr>\n",
       "      <th>13</th>\n",
       "      <td>27</td>\n",
       "      <td>0.079365</td>\n",
       "    </tr>\n",
       "    <tr>\n",
       "      <th>14</th>\n",
       "      <td>29</td>\n",
       "      <td>0.031746</td>\n",
       "    </tr>\n",
       "    <tr>\n",
       "      <th>15</th>\n",
       "      <td>31</td>\n",
       "      <td>0.047619</td>\n",
       "    </tr>\n",
       "    <tr>\n",
       "      <th>16</th>\n",
       "      <td>32</td>\n",
       "      <td>0.031746</td>\n",
       "    </tr>\n",
       "    <tr>\n",
       "      <th>17</th>\n",
       "      <td>33</td>\n",
       "      <td>0.063492</td>\n",
       "    </tr>\n",
       "    <tr>\n",
       "      <th>18</th>\n",
       "      <td>35</td>\n",
       "      <td>0.047619</td>\n",
       "    </tr>\n",
       "    <tr>\n",
       "      <th>19</th>\n",
       "      <td>37</td>\n",
       "      <td>0.015873</td>\n",
       "    </tr>\n",
       "    <tr>\n",
       "      <th>20</th>\n",
       "      <td>38</td>\n",
       "      <td>0.000000</td>\n",
       "    </tr>\n",
       "    <tr>\n",
       "      <th>21</th>\n",
       "      <td>41</td>\n",
       "      <td>0.000000</td>\n",
       "    </tr>\n",
       "    <tr>\n",
       "      <th>22</th>\n",
       "      <td>42</td>\n",
       "      <td>0.031746</td>\n",
       "    </tr>\n",
       "    <tr>\n",
       "      <th>23</th>\n",
       "      <td>45</td>\n",
       "      <td>0.000000</td>\n",
       "    </tr>\n",
       "    <tr>\n",
       "      <th>24</th>\n",
       "      <td>47</td>\n",
       "      <td>0.015873</td>\n",
       "    </tr>\n",
       "    <tr>\n",
       "      <th>25</th>\n",
       "      <td>50</td>\n",
       "      <td>0.015873</td>\n",
       "    </tr>\n",
       "    <tr>\n",
       "      <th>26</th>\n",
       "      <td>51</td>\n",
       "      <td>0.000000</td>\n",
       "    </tr>\n",
       "    <tr>\n",
       "      <th>27</th>\n",
       "      <td>53</td>\n",
       "      <td>0.000000</td>\n",
       "    </tr>\n",
       "    <tr>\n",
       "      <th>28</th>\n",
       "      <td>56</td>\n",
       "      <td>0.000000</td>\n",
       "    </tr>\n",
       "    <tr>\n",
       "      <th>29</th>\n",
       "      <td>59</td>\n",
       "      <td>0.000000</td>\n",
       "    </tr>\n",
       "    <tr>\n",
       "      <th>30</th>\n",
       "      <td>60</td>\n",
       "      <td>0.047619</td>\n",
       "    </tr>\n",
       "    <tr>\n",
       "      <th>31</th>\n",
       "      <td>64</td>\n",
       "      <td>0.000000</td>\n",
       "    </tr>\n",
       "  </tbody>\n",
       "</table>\n",
       "</div>"
      ],
      "text/plain": [
       "    ID  dont_know_rate\n",
       "0    1        0.031746\n",
       "1    3        0.000000\n",
       "2    5        0.015873\n",
       "3    6        0.000000\n",
       "4    9        0.000000\n",
       "5   10        0.000000\n",
       "6   13        0.015873\n",
       "7   15        0.000000\n",
       "8   19        0.000000\n",
       "9   21        0.063492\n",
       "10  22        0.079365\n",
       "11  23        0.000000\n",
       "12  24        0.031746\n",
       "13  27        0.079365\n",
       "14  29        0.031746\n",
       "15  31        0.047619\n",
       "16  32        0.031746\n",
       "17  33        0.063492\n",
       "18  35        0.047619\n",
       "19  37        0.015873\n",
       "20  38        0.000000\n",
       "21  41        0.000000\n",
       "22  42        0.031746\n",
       "23  45        0.000000\n",
       "24  47        0.015873\n",
       "25  50        0.015873\n",
       "26  51        0.000000\n",
       "27  53        0.000000\n",
       "28  56        0.000000\n",
       "29  59        0.000000\n",
       "30  60        0.047619\n",
       "31  64        0.000000"
      ]
     },
     "execution_count": 509,
     "metadata": {},
     "output_type": "execute_result"
    }
   ],
   "source": [
    "q = \"\"\"\n",
    "    select ID,\n",
    "    (ifnull(Q6_DK, 0) + \n",
    "    ifnull(Q7_DK, 0) + \n",
    "    ifnull(Q8_DK, 0) + \n",
    "    ifnull(Q9_DK, 0) + \n",
    "    ifnull(Q10_DK, 0) + \n",
    "    ifnull(PWIa_DK, 0) + \n",
    "    ifnull(PWIb_DK, 0) + \n",
    "    ifnull(PWIc_DK, 0) + \n",
    "    ifnull(PWId_DK, 0) + \n",
    "    ifnull(PWIe_DK, 0) + \n",
    "    ifnull(PWIf_DK, 0) + \n",
    "    ifnull(PWIg_DK, 0) + \n",
    "    ifnull(PWIh_DK, 0) + \n",
    "    ifnull(PWIi_DK, 0) + \n",
    "    ifnull(BZSGa_DK, 0) + \n",
    "    ifnull(BZSGb_DK, 0) + \n",
    "    ifnull(BZSGc_DK, 0) + \n",
    "    ifnull(BZSGd_DK, 0) + \n",
    "    ifnull(BZSGe_DK, 0) + \n",
    "    ifnull(BZSGf_DK, 0) + \n",
    "    ifnull(BZSGg_DK, 0) + \n",
    "    ifnull(BZSGh_DK, 0) + \n",
    "    ifnull(Q11a_DK, 0) + \n",
    "    ifnull(Q11b_DK, 0) + \n",
    "    ifnull(Q11c_DK, 0) + \n",
    "    ifnull(Q11d_DK, 0) + \n",
    "    ifnull(Q11e_DK, 0) + \n",
    "    ifnull(Q11f_DK, 0) + \n",
    "    ifnull(Q12a_DK, 0) + \n",
    "    ifnull(Q12b_DK, 0) + \n",
    "    ifnull(Q12c_DK, 0) + \n",
    "    ifnull(Q12d_DK, 0) + \n",
    "    ifnull(Q12e_DK, 0) + \n",
    "    ifnull(Q12f_DK, 0) + \n",
    "    ifnull(Q13a_DK, 0) + \n",
    "    ifnull(Q13b_DK, 0) + \n",
    "    ifnull(Q13c_DK, 0) + \n",
    "    ifnull(Q13d_DK, 0) + \n",
    "    ifnull(Q13e_DK, 0) + \n",
    "    ifnull(Q13f_DK, 0) + \n",
    "    ifnull(Q14a_DK, 0) + \n",
    "    ifnull(Q14b_DK, 0) + \n",
    "    ifnull(Q14c_DK, 0) +\n",
    "    ifnull(Q14d_DK, 0) + \n",
    "    ifnull(Q14e_DK, 0) + \n",
    "    ifnull(Q14f_DK, 0) + \n",
    "    ifnull(Q14g_DK, 0) + \n",
    "    ifnull(Q15a_DK, 0) + \n",
    "    ifnull(Q15b_DK, 0) + \n",
    "    ifnull(Q15c_DK, 0) + \n",
    "    ifnull(Q15d_DK, 0) + \n",
    "    ifnull(Q15e_DK, 0) + \n",
    "    ifnull(Q15f_DK, 0) + \n",
    "    ifnull(Q15g_DK, 0) + \n",
    "    ifnull(STOMPa_DK, 0) + \n",
    "    ifnull(STOMPb_DK, 0) + \n",
    "    ifnull(STOMPc_DK, 0) +\n",
    "    ifnull(STOMPd_DK, 0) + \n",
    "    ifnull(STOMPe_DK, 0) + \n",
    "    ifnull(STOMPf_DK, 0) + \n",
    "    ifnull(STOMPg_DK, 0) + \n",
    "    ifnull(STOMPh_DK, 0) + \n",
    "    ifnull(STOMPi_DK, 0)) / 63 as dont_know_rate\n",
    "    from gam_answers_DKR\n",
    "    group by 1\n",
    "    \"\"\"\n",
    "gam_dkr = sql(q)\n",
    "gam_dkr"
   ]
  },
  {
   "cell_type": "code",
   "execution_count": 516,
   "id": "af346ab9",
   "metadata": {
    "collapsed": true
   },
   "outputs": [
    {
     "data": {
      "text/html": [
       "<div>\n",
       "<style scoped>\n",
       "    .dataframe tbody tr th:only-of-type {\n",
       "        vertical-align: middle;\n",
       "    }\n",
       "\n",
       "    .dataframe tbody tr th {\n",
       "        vertical-align: top;\n",
       "    }\n",
       "\n",
       "    .dataframe thead th {\n",
       "        text-align: right;\n",
       "    }\n",
       "</style>\n",
       "<table border=\"1\" class=\"dataframe\">\n",
       "  <thead>\n",
       "    <tr style=\"text-align: right;\">\n",
       "      <th></th>\n",
       "      <th>ID</th>\n",
       "      <th>dont_know_rate</th>\n",
       "    </tr>\n",
       "  </thead>\n",
       "  <tbody>\n",
       "    <tr>\n",
       "      <th>0</th>\n",
       "      <td>2</td>\n",
       "      <td>0.064516</td>\n",
       "    </tr>\n",
       "    <tr>\n",
       "      <th>1</th>\n",
       "      <td>4</td>\n",
       "      <td>0.016129</td>\n",
       "    </tr>\n",
       "    <tr>\n",
       "      <th>2</th>\n",
       "      <td>7</td>\n",
       "      <td>0.032258</td>\n",
       "    </tr>\n",
       "    <tr>\n",
       "      <th>3</th>\n",
       "      <td>8</td>\n",
       "      <td>0.016129</td>\n",
       "    </tr>\n",
       "    <tr>\n",
       "      <th>4</th>\n",
       "      <td>11</td>\n",
       "      <td>0.048387</td>\n",
       "    </tr>\n",
       "    <tr>\n",
       "      <th>5</th>\n",
       "      <td>12</td>\n",
       "      <td>0.000000</td>\n",
       "    </tr>\n",
       "    <tr>\n",
       "      <th>6</th>\n",
       "      <td>14</td>\n",
       "      <td>0.032258</td>\n",
       "    </tr>\n",
       "    <tr>\n",
       "      <th>7</th>\n",
       "      <td>16</td>\n",
       "      <td>0.000000</td>\n",
       "    </tr>\n",
       "    <tr>\n",
       "      <th>8</th>\n",
       "      <td>17</td>\n",
       "      <td>0.000000</td>\n",
       "    </tr>\n",
       "    <tr>\n",
       "      <th>9</th>\n",
       "      <td>18</td>\n",
       "      <td>0.000000</td>\n",
       "    </tr>\n",
       "    <tr>\n",
       "      <th>10</th>\n",
       "      <td>20</td>\n",
       "      <td>0.016129</td>\n",
       "    </tr>\n",
       "    <tr>\n",
       "      <th>11</th>\n",
       "      <td>25</td>\n",
       "      <td>0.000000</td>\n",
       "    </tr>\n",
       "    <tr>\n",
       "      <th>12</th>\n",
       "      <td>26</td>\n",
       "      <td>0.032258</td>\n",
       "    </tr>\n",
       "    <tr>\n",
       "      <th>13</th>\n",
       "      <td>28</td>\n",
       "      <td>0.000000</td>\n",
       "    </tr>\n",
       "    <tr>\n",
       "      <th>14</th>\n",
       "      <td>30</td>\n",
       "      <td>0.112903</td>\n",
       "    </tr>\n",
       "    <tr>\n",
       "      <th>15</th>\n",
       "      <td>34</td>\n",
       "      <td>0.000000</td>\n",
       "    </tr>\n",
       "    <tr>\n",
       "      <th>16</th>\n",
       "      <td>36</td>\n",
       "      <td>0.016129</td>\n",
       "    </tr>\n",
       "    <tr>\n",
       "      <th>17</th>\n",
       "      <td>39</td>\n",
       "      <td>0.096774</td>\n",
       "    </tr>\n",
       "    <tr>\n",
       "      <th>18</th>\n",
       "      <td>40</td>\n",
       "      <td>0.000000</td>\n",
       "    </tr>\n",
       "    <tr>\n",
       "      <th>19</th>\n",
       "      <td>43</td>\n",
       "      <td>0.032258</td>\n",
       "    </tr>\n",
       "    <tr>\n",
       "      <th>20</th>\n",
       "      <td>44</td>\n",
       "      <td>0.032258</td>\n",
       "    </tr>\n",
       "    <tr>\n",
       "      <th>21</th>\n",
       "      <td>46</td>\n",
       "      <td>0.000000</td>\n",
       "    </tr>\n",
       "    <tr>\n",
       "      <th>22</th>\n",
       "      <td>48</td>\n",
       "      <td>0.000000</td>\n",
       "    </tr>\n",
       "    <tr>\n",
       "      <th>23</th>\n",
       "      <td>49</td>\n",
       "      <td>0.000000</td>\n",
       "    </tr>\n",
       "    <tr>\n",
       "      <th>24</th>\n",
       "      <td>52</td>\n",
       "      <td>0.000000</td>\n",
       "    </tr>\n",
       "    <tr>\n",
       "      <th>25</th>\n",
       "      <td>54</td>\n",
       "      <td>0.112903</td>\n",
       "    </tr>\n",
       "    <tr>\n",
       "      <th>26</th>\n",
       "      <td>55</td>\n",
       "      <td>0.000000</td>\n",
       "    </tr>\n",
       "    <tr>\n",
       "      <th>27</th>\n",
       "      <td>57</td>\n",
       "      <td>0.080645</td>\n",
       "    </tr>\n",
       "    <tr>\n",
       "      <th>28</th>\n",
       "      <td>58</td>\n",
       "      <td>0.112903</td>\n",
       "    </tr>\n",
       "    <tr>\n",
       "      <th>29</th>\n",
       "      <td>61</td>\n",
       "      <td>0.016129</td>\n",
       "    </tr>\n",
       "    <tr>\n",
       "      <th>30</th>\n",
       "      <td>62</td>\n",
       "      <td>0.000000</td>\n",
       "    </tr>\n",
       "    <tr>\n",
       "      <th>31</th>\n",
       "      <td>63</td>\n",
       "      <td>0.000000</td>\n",
       "    </tr>\n",
       "    <tr>\n",
       "      <th>32</th>\n",
       "      <td>65</td>\n",
       "      <td>0.032258</td>\n",
       "    </tr>\n",
       "    <tr>\n",
       "      <th>33</th>\n",
       "      <td>66</td>\n",
       "      <td>0.032258</td>\n",
       "    </tr>\n",
       "    <tr>\n",
       "      <th>34</th>\n",
       "      <td>67</td>\n",
       "      <td>0.000000</td>\n",
       "    </tr>\n",
       "  </tbody>\n",
       "</table>\n",
       "</div>"
      ],
      "text/plain": [
       "    ID  dont_know_rate\n",
       "0    2        0.064516\n",
       "1    4        0.016129\n",
       "2    7        0.032258\n",
       "3    8        0.016129\n",
       "4   11        0.048387\n",
       "5   12        0.000000\n",
       "6   14        0.032258\n",
       "7   16        0.000000\n",
       "8   17        0.000000\n",
       "9   18        0.000000\n",
       "10  20        0.016129\n",
       "11  25        0.000000\n",
       "12  26        0.032258\n",
       "13  28        0.000000\n",
       "14  30        0.112903\n",
       "15  34        0.000000\n",
       "16  36        0.016129\n",
       "17  39        0.096774\n",
       "18  40        0.000000\n",
       "19  43        0.032258\n",
       "20  44        0.032258\n",
       "21  46        0.000000\n",
       "22  48        0.000000\n",
       "23  49        0.000000\n",
       "24  52        0.000000\n",
       "25  54        0.112903\n",
       "26  55        0.000000\n",
       "27  57        0.080645\n",
       "28  58        0.112903\n",
       "29  61        0.016129\n",
       "30  62        0.000000\n",
       "31  63        0.000000\n",
       "32  65        0.032258\n",
       "33  66        0.032258\n",
       "34  67        0.000000"
      ]
     },
     "execution_count": 516,
     "metadata": {},
     "output_type": "execute_result"
    }
   ],
   "source": [
    "q = \"\"\"\n",
    "    select ID,\n",
    "    (ifnull(Q6_DK, 0) + \n",
    "    ifnull(Q7_DK, 0) + \n",
    "    ifnull(Q8_DK, 0) + \n",
    "    ifnull(Q9_DK, 0) + \n",
    "    ifnull(Q10_DK, 0) + \n",
    "    ifnull(PWIa_DK, 0) + \n",
    "    ifnull(PWIb_DK, 0) + \n",
    "    ifnull(PWIc_DK, 0) + \n",
    "    ifnull(PWId_DK, 0) + \n",
    "    ifnull(PWIe_DK, 0) + \n",
    "    ifnull(PWIf_DK, 0) + \n",
    "    ifnull(PWIg_DK, 0) + \n",
    "    ifnull(PWIh_DK, 0) + \n",
    "    ifnull(PWIi_DK, 0) + \n",
    "    ifnull(BZSGa_DK, 0) + \n",
    "    ifnull(BZSGb_DK, 0) + \n",
    "    ifnull(BZSGc_DK, 0) + \n",
    "    ifnull(BZSGd_DK, 0) + \n",
    "    ifnull(BZSGe_DK, 0) + \n",
    "    ifnull(BZSGf_DK, 0) + \n",
    "    ifnull(BZSGg_DK, 0) + \n",
    "    ifnull(BZSGh_DK, 0) + \n",
    "    ifnull(Q11a_DK, 0) + \n",
    "    ifnull(Q11b_DK, 0) + \n",
    "    ifnull(Q11c_DK, 0) + \n",
    "    ifnull(Q11d_DK, 0) + \n",
    "    ifnull(Q11e_DK, 0) + \n",
    "    ifnull(Q11f_DK, 0) + \n",
    "    ifnull(Q12a_DK, 0) + \n",
    "    ifnull(Q12b_DK, 0) + \n",
    "    ifnull(Q12c_DK, 0) + \n",
    "    ifnull(Q12d_DK, 0) + \n",
    "    ifnull(Q12e_DK, 0) + \n",
    "    ifnull(Q12f_DK, 0) + \n",
    "    ifnull(Q13a_DK, 0) + \n",
    "    ifnull(Q13b_DK, 0) + \n",
    "    ifnull(Q13c_DK, 0) + \n",
    "    ifnull(Q13d_DK, 0) + \n",
    "    ifnull(Q13e_DK, 0) + \n",
    "    ifnull(Q13f_DK, 0) + \n",
    "    ifnull(Q14a_DK, 0) + \n",
    "    ifnull(Q14b_DK, 0) + \n",
    "    ifnull(Q14c_DK, 0) +\n",
    "    ifnull(Q14d_DK, 0) + \n",
    "    ifnull(Q14e_DK, 0) + \n",
    "    ifnull(Q14f_DK, 0) + \n",
    "    ifnull(Q15a_DK, 0) + \n",
    "    ifnull(Q15b_DK, 0) + \n",
    "    ifnull(Q15c_DK, 0) + \n",
    "    ifnull(Q15d_DK, 0) + \n",
    "    ifnull(Q15e_DK, 0) + \n",
    "    ifnull(Q15f_DK, 0) + \n",
    "    ifnull(Q15g_DK, 0) + \n",
    "    ifnull(STOMPa_DK, 0) + \n",
    "    ifnull(STOMPb_DK, 0) + \n",
    "    ifnull(STOMPc_DK, 0) +\n",
    "    ifnull(STOMPd_DK, 0) + \n",
    "    ifnull(STOMPe_DK, 0) + \n",
    "    ifnull(STOMPf_DK, 0) + \n",
    "    ifnull(STOMPg_DK, 0) + \n",
    "    ifnull(STOMPh_DK, 0) + \n",
    "    ifnull(STOMPi_DK, 0)) / 62 as dont_know_rate\n",
    "    from tra_answers_DKR\n",
    "    group by 1\n",
    "    \"\"\"\n",
    "tra_dkr = sql(q)\n",
    "tra_dkr"
   ]
  },
  {
   "cell_type": "markdown",
   "id": "7d844f75",
   "metadata": {},
   "source": [
    "### NASA-TLX (Q25 в gam и Q21 в tra)"
   ]
  },
  {
   "cell_type": "code",
   "execution_count": 530,
   "id": "f8b86e41",
   "metadata": {},
   "outputs": [],
   "source": [
    "# Как много умственных усилий (меньше - лучше)\n",
    "gam_mental_demand = gam_answers['Q25a']\n",
    "tra_mental_demand = tra_answers['Q21a']\n",
    "\n",
    "# Как много физических усилий (меньше - лучше)\n",
    "gam_physical_demand = gam_answers['Q25b']\n",
    "tra_physical_demand = tra_answers['Q21b']\n",
    "\n",
    "# Как много времени (меньше - лучше)\n",
    "gam_temporal_demand = gam_answers['Q25c']\n",
    "tra_temporal_demand = tra_answers['Q21c']\n",
    "\n",
    "# Насколько успешно (больше - лучше)\n",
    "gam_success = gam_answers['Q25d']\n",
    "tra_success = tra_answers['Q21d']\n",
    "\n",
    "# Насколько тяжело (меньше - лучше)\n",
    "gam_effort = gam_answers['Q25e']\n",
    "tra_effort = tra_answers['Q21e']\n",
    "\n",
    "# Насколько неуверенно, раздраженно или напряженно вы себя чувствовали (меньше - лучше)\n",
    "gam_frustration = gam_answers['Q25f']\n",
    "tra_frustration = tra_answers['Q21f']\n",
    "\n",
    "# Насколько увлекательно (больше - лучше)\n",
    "gam_fascinating = gam_answers['Q25g']\n",
    "tra_fascinating = tra_answers['Q21g']"
   ]
  },
  {
   "cell_type": "code",
   "execution_count": 533,
   "id": "97d9734e",
   "metadata": {
    "scrolled": true
   },
   "outputs": [
    {
     "data": {
      "text/plain": [
       "Ttest_indResult(statistic=-0.6901877321463358, pvalue=0.49253322492537677)"
      ]
     },
     "execution_count": 533,
     "metadata": {},
     "output_type": "execute_result"
    }
   ],
   "source": [
    "stats.ttest_ind(gam_mental_demand, tra_mental_demand)"
   ]
  },
  {
   "cell_type": "code",
   "execution_count": 638,
   "id": "88d95867",
   "metadata": {},
   "outputs": [
    {
     "name": "stdout",
     "output_type": "stream",
     "text": [
      "в геймифицированном варианте = 2.8125\n",
      "в традиционном варианте = 2.942857142857143\n"
     ]
    }
   ],
   "source": [
    "print(f'в геймифицированном варианте = {np.mean(gam_mental_demand)}')\n",
    "print(f'в традиционном варианте = {np.mean(tra_mental_demand)}')"
   ]
  },
  {
   "cell_type": "code",
   "execution_count": 534,
   "id": "827318e4",
   "metadata": {},
   "outputs": [
    {
     "data": {
      "text/plain": [
       "Ttest_indResult(statistic=0.6491814512022687, pvalue=0.5185084577636289)"
      ]
     },
     "execution_count": 534,
     "metadata": {},
     "output_type": "execute_result"
    }
   ],
   "source": [
    "stats.ttest_ind(gam_physical_demand, tra_physical_demand)"
   ]
  },
  {
   "cell_type": "code",
   "execution_count": 639,
   "id": "a6b21a34",
   "metadata": {},
   "outputs": [
    {
     "name": "stdout",
     "output_type": "stream",
     "text": [
      "в геймифицированном варианте = 1.65625\n",
      "в традиционном варианте = 1.5142857142857142\n"
     ]
    }
   ],
   "source": [
    "print(f'в геймифицированном варианте = {np.mean(gam_physical_demand)}')\n",
    "print(f'в традиционном варианте = {np.mean(tra_physical_demand)}')"
   ]
  },
  {
   "cell_type": "code",
   "execution_count": 535,
   "id": "fd23ba51",
   "metadata": {},
   "outputs": [
    {
     "data": {
      "text/plain": [
       "Ttest_indResult(statistic=2.7027121941792864, pvalue=0.008765429237822637)"
      ]
     },
     "execution_count": 535,
     "metadata": {},
     "output_type": "execute_result"
    }
   ],
   "source": [
    "stats.ttest_ind(gam_temporal_demand, tra_temporal_demand)"
   ]
  },
  {
   "cell_type": "code",
   "execution_count": 540,
   "id": "59432862",
   "metadata": {},
   "outputs": [
    {
     "name": "stdout",
     "output_type": "stream",
     "text": [
      "Среднее значение субъективной оценки временнЫх затрат в геймифицированном варианте = 3.0\n",
      "Среднее значение субъективной оценки временнЫх затрат в традиционном варианте = 2.4285714285714284\n"
     ]
    }
   ],
   "source": [
    "print(f'Среднее значение субъективной оценки временнЫх затрат в геймифицированном варианте = {np.mean(gam_temporal_demand)}')\n",
    "print(f'Среднее значение субъективной оценки временнЫх затрат в традиционном варианте = {np.mean(tra_temporal_demand)}')"
   ]
  },
  {
   "cell_type": "markdown",
   "id": "3f961587",
   "metadata": {},
   "source": [
    "Субъективное время заполнения оказалось ниже в группе с традиционным дизайном анкеты. Возможно, потому что вставки с мемами тоже занимали время на просмотр, приходилось больше страниц переключать."
   ]
  },
  {
   "cell_type": "code",
   "execution_count": 536,
   "id": "37369cc6",
   "metadata": {},
   "outputs": [
    {
     "data": {
      "text/plain": [
       "Ttest_indResult(statistic=0.13970492427928044, pvalue=0.8893251236423695)"
      ]
     },
     "execution_count": 536,
     "metadata": {},
     "output_type": "execute_result"
    }
   ],
   "source": [
    "stats.ttest_ind(gam_success, tra_success)"
   ]
  },
  {
   "cell_type": "code",
   "execution_count": 640,
   "id": "f4294886",
   "metadata": {},
   "outputs": [
    {
     "name": "stdout",
     "output_type": "stream",
     "text": [
      "в геймифицированном варианте = 3.09375\n",
      "в традиционном варианте = 3.057142857142857\n"
     ]
    }
   ],
   "source": [
    "print(f'в геймифицированном варианте = {np.mean(gam_success)}')\n",
    "print(f'в традиционном варианте = {np.mean(tra_success)}')"
   ]
  },
  {
   "cell_type": "code",
   "execution_count": 537,
   "id": "065924d9",
   "metadata": {},
   "outputs": [
    {
     "data": {
      "text/plain": [
       "Ttest_indResult(statistic=-1.244857944995836, pvalue=0.2176535540202204)"
      ]
     },
     "execution_count": 537,
     "metadata": {},
     "output_type": "execute_result"
    }
   ],
   "source": [
    "stats.ttest_ind(gam_effort, tra_effort)"
   ]
  },
  {
   "cell_type": "code",
   "execution_count": 641,
   "id": "bdef44d6",
   "metadata": {},
   "outputs": [
    {
     "name": "stdout",
     "output_type": "stream",
     "text": [
      "в геймифицированном варианте = 2.28125\n",
      "в традиционном варианте = 2.5714285714285716\n"
     ]
    }
   ],
   "source": [
    "print(f'в геймифицированном варианте = {np.mean(gam_effort)}')\n",
    "print(f'в традиционном варианте = {np.mean(tra_effort)}')"
   ]
  },
  {
   "cell_type": "code",
   "execution_count": 538,
   "id": "5d6881a8",
   "metadata": {},
   "outputs": [
    {
     "data": {
      "text/plain": [
       "Ttest_indResult(statistic=0.8214902244718532, pvalue=0.41437009995771157)"
      ]
     },
     "execution_count": 538,
     "metadata": {},
     "output_type": "execute_result"
    }
   ],
   "source": [
    "stats.ttest_ind(gam_frustration, tra_frustration)"
   ]
  },
  {
   "cell_type": "code",
   "execution_count": 643,
   "id": "5a0070d7",
   "metadata": {},
   "outputs": [
    {
     "name": "stdout",
     "output_type": "stream",
     "text": [
      "в геймифицированном варианте = 2.25\n",
      "в традиционном варианте = 2.057142857142857\n"
     ]
    }
   ],
   "source": [
    "print(f'в геймифицированном варианте = {np.mean(gam_frustration)}')\n",
    "print(f'в традиционном варианте = {np.mean(tra_frustration)}')"
   ]
  },
  {
   "cell_type": "code",
   "execution_count": 539,
   "id": "966dd0f5",
   "metadata": {
    "scrolled": true
   },
   "outputs": [
    {
     "data": {
      "text/plain": [
       "Ttest_indResult(statistic=1.4430078201397072, pvalue=0.15382030439038244)"
      ]
     },
     "execution_count": 539,
     "metadata": {},
     "output_type": "execute_result"
    }
   ],
   "source": [
    "stats.ttest_ind(gam_fascinating, tra_fascinating)"
   ]
  },
  {
   "cell_type": "code",
   "execution_count": 644,
   "id": "b5271d80",
   "metadata": {},
   "outputs": [
    {
     "name": "stdout",
     "output_type": "stream",
     "text": [
      "в геймифицированном варианте = 4.0\n",
      "в традиционном варианте = 3.6857142857142855\n"
     ]
    }
   ],
   "source": [
    "print(f'в геймифицированном варианте = {np.mean(gam_fascinating)}')\n",
    "print(f'в традиционном варианте = {np.mean(tra_fascinating)}')"
   ]
  },
  {
   "cell_type": "markdown",
   "id": "c6b15752",
   "metadata": {},
   "source": [
    "### Mouse Movements + DKR analysis"
   ]
  },
  {
   "cell_type": "code",
   "execution_count": 542,
   "id": "441d11e0",
   "metadata": {},
   "outputs": [
    {
     "data": {
      "text/html": [
       "<div>\n",
       "<style scoped>\n",
       "    .dataframe tbody tr th:only-of-type {\n",
       "        vertical-align: middle;\n",
       "    }\n",
       "\n",
       "    .dataframe tbody tr th {\n",
       "        vertical-align: top;\n",
       "    }\n",
       "\n",
       "    .dataframe thead th {\n",
       "        text-align: right;\n",
       "    }\n",
       "</style>\n",
       "<table border=\"1\" class=\"dataframe\">\n",
       "  <thead>\n",
       "    <tr style=\"text-align: right;\">\n",
       "      <th></th>\n",
       "      <th>question</th>\n",
       "      <th>ID</th>\n",
       "      <th>distance</th>\n",
       "      <th>group</th>\n",
       "    </tr>\n",
       "  </thead>\n",
       "  <tbody>\n",
       "    <tr>\n",
       "      <th>0</th>\n",
       "      <td>end_time</td>\n",
       "      <td>1</td>\n",
       "      <td>1484</td>\n",
       "      <td>gam</td>\n",
       "    </tr>\n",
       "    <tr>\n",
       "      <th>1</th>\n",
       "      <td>ID_time</td>\n",
       "      <td>1</td>\n",
       "      <td>340</td>\n",
       "      <td>gam</td>\n",
       "    </tr>\n",
       "    <tr>\n",
       "      <th>2</th>\n",
       "      <td>pre_time</td>\n",
       "      <td>1</td>\n",
       "      <td>1179</td>\n",
       "      <td>gam</td>\n",
       "    </tr>\n",
       "    <tr>\n",
       "      <th>3</th>\n",
       "      <td>Q6_time</td>\n",
       "      <td>1</td>\n",
       "      <td>632</td>\n",
       "      <td>gam</td>\n",
       "    </tr>\n",
       "    <tr>\n",
       "      <th>4</th>\n",
       "      <td>Q7_time</td>\n",
       "      <td>1</td>\n",
       "      <td>477</td>\n",
       "      <td>gam</td>\n",
       "    </tr>\n",
       "    <tr>\n",
       "      <th>...</th>\n",
       "      <td>...</td>\n",
       "      <td>...</td>\n",
       "      <td>...</td>\n",
       "      <td>...</td>\n",
       "    </tr>\n",
       "    <tr>\n",
       "      <th>429</th>\n",
       "      <td>Q16_time</td>\n",
       "      <td>64</td>\n",
       "      <td>1491</td>\n",
       "      <td>gam</td>\n",
       "    </tr>\n",
       "    <tr>\n",
       "      <th>430</th>\n",
       "      <td>Q20_time</td>\n",
       "      <td>64</td>\n",
       "      <td>1214</td>\n",
       "      <td>gam</td>\n",
       "    </tr>\n",
       "    <tr>\n",
       "      <th>431</th>\n",
       "      <td>Q22_time</td>\n",
       "      <td>64</td>\n",
       "      <td>1334</td>\n",
       "      <td>gam</td>\n",
       "    </tr>\n",
       "    <tr>\n",
       "      <th>432</th>\n",
       "      <td>Q23_time</td>\n",
       "      <td>64</td>\n",
       "      <td>1673</td>\n",
       "      <td>gam</td>\n",
       "    </tr>\n",
       "    <tr>\n",
       "      <th>433</th>\n",
       "      <td>Q25_time</td>\n",
       "      <td>64</td>\n",
       "      <td>2256</td>\n",
       "      <td>gam</td>\n",
       "    </tr>\n",
       "  </tbody>\n",
       "</table>\n",
       "<p>434 rows × 4 columns</p>\n",
       "</div>"
      ],
      "text/plain": [
       "     question  ID  distance group\n",
       "0    end_time   1      1484   gam\n",
       "1     ID_time   1       340   gam\n",
       "2    pre_time   1      1179   gam\n",
       "3     Q6_time   1       632   gam\n",
       "4     Q7_time   1       477   gam\n",
       "..        ...  ..       ...   ...\n",
       "429  Q16_time  64      1491   gam\n",
       "430  Q20_time  64      1214   gam\n",
       "431  Q22_time  64      1334   gam\n",
       "432  Q23_time  64      1673   gam\n",
       "433  Q25_time  64      2256   gam\n",
       "\n",
       "[434 rows x 4 columns]"
      ]
     },
     "execution_count": 542,
     "metadata": {},
     "output_type": "execute_result"
    }
   ],
   "source": [
    "gam_question_mouse['group'] = 'gam'\n",
    "gam_question_mouse"
   ]
  },
  {
   "cell_type": "code",
   "execution_count": 544,
   "id": "63e60a09",
   "metadata": {},
   "outputs": [
    {
     "data": {
      "text/html": [
       "<div>\n",
       "<style scoped>\n",
       "    .dataframe tbody tr th:only-of-type {\n",
       "        vertical-align: middle;\n",
       "    }\n",
       "\n",
       "    .dataframe tbody tr th {\n",
       "        vertical-align: top;\n",
       "    }\n",
       "\n",
       "    .dataframe thead th {\n",
       "        text-align: right;\n",
       "    }\n",
       "</style>\n",
       "<table border=\"1\" class=\"dataframe\">\n",
       "  <thead>\n",
       "    <tr style=\"text-align: right;\">\n",
       "      <th></th>\n",
       "      <th>question</th>\n",
       "      <th>ID</th>\n",
       "      <th>distance</th>\n",
       "      <th>group</th>\n",
       "    </tr>\n",
       "  </thead>\n",
       "  <tbody>\n",
       "    <tr>\n",
       "      <th>0</th>\n",
       "      <td>end_time</td>\n",
       "      <td>2</td>\n",
       "      <td>1760</td>\n",
       "      <td>tra</td>\n",
       "    </tr>\n",
       "    <tr>\n",
       "      <th>1</th>\n",
       "      <td>intro</td>\n",
       "      <td>2</td>\n",
       "      <td>663</td>\n",
       "      <td>tra</td>\n",
       "    </tr>\n",
       "    <tr>\n",
       "      <th>2</th>\n",
       "      <td>ID_time</td>\n",
       "      <td>2</td>\n",
       "      <td>1228</td>\n",
       "      <td>tra</td>\n",
       "    </tr>\n",
       "    <tr>\n",
       "      <th>3</th>\n",
       "      <td>pre_time</td>\n",
       "      <td>2</td>\n",
       "      <td>2131</td>\n",
       "      <td>tra</td>\n",
       "    </tr>\n",
       "    <tr>\n",
       "      <th>4</th>\n",
       "      <td>Q6_time</td>\n",
       "      <td>2</td>\n",
       "      <td>489</td>\n",
       "      <td>tra</td>\n",
       "    </tr>\n",
       "    <tr>\n",
       "      <th>...</th>\n",
       "      <td>...</td>\n",
       "      <td>...</td>\n",
       "      <td>...</td>\n",
       "      <td>...</td>\n",
       "    </tr>\n",
       "    <tr>\n",
       "      <th>474</th>\n",
       "      <td>Q15_time</td>\n",
       "      <td>67</td>\n",
       "      <td>2075</td>\n",
       "      <td>tra</td>\n",
       "    </tr>\n",
       "    <tr>\n",
       "      <th>475</th>\n",
       "      <td>STOMP_time</td>\n",
       "      <td>67</td>\n",
       "      <td>3374</td>\n",
       "      <td>tra</td>\n",
       "    </tr>\n",
       "    <tr>\n",
       "      <th>476</th>\n",
       "      <td>Q18_time</td>\n",
       "      <td>67</td>\n",
       "      <td>412</td>\n",
       "      <td>tra</td>\n",
       "    </tr>\n",
       "    <tr>\n",
       "      <th>477</th>\n",
       "      <td>Q20_time</td>\n",
       "      <td>67</td>\n",
       "      <td>1191</td>\n",
       "      <td>tra</td>\n",
       "    </tr>\n",
       "    <tr>\n",
       "      <th>478</th>\n",
       "      <td>Q21_time</td>\n",
       "      <td>67</td>\n",
       "      <td>3281</td>\n",
       "      <td>tra</td>\n",
       "    </tr>\n",
       "  </tbody>\n",
       "</table>\n",
       "<p>479 rows × 4 columns</p>\n",
       "</div>"
      ],
      "text/plain": [
       "       question  ID  distance group\n",
       "0      end_time   2      1760   tra\n",
       "1         intro   2       663   tra\n",
       "2       ID_time   2      1228   tra\n",
       "3      pre_time   2      2131   tra\n",
       "4       Q6_time   2       489   tra\n",
       "..          ...  ..       ...   ...\n",
       "474    Q15_time  67      2075   tra\n",
       "475  STOMP_time  67      3374   tra\n",
       "476    Q18_time  67       412   tra\n",
       "477    Q20_time  67      1191   tra\n",
       "478    Q21_time  67      3281   tra\n",
       "\n",
       "[479 rows x 4 columns]"
      ]
     },
     "execution_count": 544,
     "metadata": {},
     "output_type": "execute_result"
    }
   ],
   "source": [
    "tra_question_mouse['group'] = 'tra'\n",
    "tra_question_mouse"
   ]
  },
  {
   "cell_type": "code",
   "execution_count": 547,
   "id": "5ac964dc",
   "metadata": {},
   "outputs": [
    {
     "data": {
      "text/html": [
       "<div>\n",
       "<style scoped>\n",
       "    .dataframe tbody tr th:only-of-type {\n",
       "        vertical-align: middle;\n",
       "    }\n",
       "\n",
       "    .dataframe tbody tr th {\n",
       "        vertical-align: top;\n",
       "    }\n",
       "\n",
       "    .dataframe thead th {\n",
       "        text-align: right;\n",
       "    }\n",
       "</style>\n",
       "<table border=\"1\" class=\"dataframe\">\n",
       "  <thead>\n",
       "    <tr style=\"text-align: right;\">\n",
       "      <th></th>\n",
       "      <th>question</th>\n",
       "      <th>group</th>\n",
       "      <th>distance</th>\n",
       "    </tr>\n",
       "  </thead>\n",
       "  <tbody>\n",
       "    <tr>\n",
       "      <th>0</th>\n",
       "      <td>end_time</td>\n",
       "      <td>gam</td>\n",
       "      <td>1484</td>\n",
       "    </tr>\n",
       "    <tr>\n",
       "      <th>1</th>\n",
       "      <td>ID_time</td>\n",
       "      <td>gam</td>\n",
       "      <td>340</td>\n",
       "    </tr>\n",
       "    <tr>\n",
       "      <th>2</th>\n",
       "      <td>pre_time</td>\n",
       "      <td>gam</td>\n",
       "      <td>1179</td>\n",
       "    </tr>\n",
       "    <tr>\n",
       "      <th>3</th>\n",
       "      <td>Q6_time</td>\n",
       "      <td>gam</td>\n",
       "      <td>632</td>\n",
       "    </tr>\n",
       "    <tr>\n",
       "      <th>4</th>\n",
       "      <td>Q7_time</td>\n",
       "      <td>gam</td>\n",
       "      <td>477</td>\n",
       "    </tr>\n",
       "    <tr>\n",
       "      <th>...</th>\n",
       "      <td>...</td>\n",
       "      <td>...</td>\n",
       "      <td>...</td>\n",
       "    </tr>\n",
       "    <tr>\n",
       "      <th>474</th>\n",
       "      <td>Q15_time</td>\n",
       "      <td>tra</td>\n",
       "      <td>2075</td>\n",
       "    </tr>\n",
       "    <tr>\n",
       "      <th>475</th>\n",
       "      <td>STOMP_time</td>\n",
       "      <td>tra</td>\n",
       "      <td>3374</td>\n",
       "    </tr>\n",
       "    <tr>\n",
       "      <th>476</th>\n",
       "      <td>Q18_time</td>\n",
       "      <td>tra</td>\n",
       "      <td>412</td>\n",
       "    </tr>\n",
       "    <tr>\n",
       "      <th>477</th>\n",
       "      <td>Q20_time</td>\n",
       "      <td>tra</td>\n",
       "      <td>1191</td>\n",
       "    </tr>\n",
       "    <tr>\n",
       "      <th>478</th>\n",
       "      <td>Q21_time</td>\n",
       "      <td>tra</td>\n",
       "      <td>3281</td>\n",
       "    </tr>\n",
       "  </tbody>\n",
       "</table>\n",
       "<p>913 rows × 3 columns</p>\n",
       "</div>"
      ],
      "text/plain": [
       "       question group  distance\n",
       "0      end_time   gam      1484\n",
       "1       ID_time   gam       340\n",
       "2      pre_time   gam      1179\n",
       "3       Q6_time   gam       632\n",
       "4       Q7_time   gam       477\n",
       "..          ...   ...       ...\n",
       "474    Q15_time   tra      2075\n",
       "475  STOMP_time   tra      3374\n",
       "476    Q18_time   tra       412\n",
       "477    Q20_time   tra      1191\n",
       "478    Q21_time   tra      3281\n",
       "\n",
       "[913 rows x 3 columns]"
      ]
     },
     "execution_count": 547,
     "metadata": {},
     "output_type": "execute_result"
    }
   ],
   "source": [
    "mouse_data = pd.concat([gam_question_mouse[['question', 'group', 'distance']], \n",
    "                       tra_question_mouse[['question', 'group', 'distance']]])\n",
    "mouse_data"
   ]
  },
  {
   "cell_type": "code",
   "execution_count": 654,
   "id": "61b89b1f",
   "metadata": {},
   "outputs": [
    {
     "name": "stderr",
     "output_type": "stream",
     "text": [
      "/Users/risuleymanov/opt/anaconda3/lib/python3.8/site-packages/statsmodels/base/model.py:1832: ValueWarning: covariance of constraints does not have full rank. The number of constraints is 27, but rank is 20\n",
      "  warnings.warn('covariance of constraints does not have full '\n",
      "/Users/risuleymanov/opt/anaconda3/lib/python3.8/site-packages/statsmodels/base/model.py:1832: ValueWarning: covariance of constraints does not have full rank. The number of constraints is 27, but rank is 22\n",
      "  warnings.warn('covariance of constraints does not have full '\n"
     ]
    },
    {
     "data": {
      "text/html": [
       "<div>\n",
       "<style scoped>\n",
       "    .dataframe tbody tr th:only-of-type {\n",
       "        vertical-align: middle;\n",
       "    }\n",
       "\n",
       "    .dataframe tbody tr th {\n",
       "        vertical-align: top;\n",
       "    }\n",
       "\n",
       "    .dataframe thead th {\n",
       "        text-align: right;\n",
       "    }\n",
       "</style>\n",
       "<table border=\"1\" class=\"dataframe\">\n",
       "  <thead>\n",
       "    <tr style=\"text-align: right;\">\n",
       "      <th></th>\n",
       "      <th>sum_sq</th>\n",
       "      <th>df</th>\n",
       "      <th>F</th>\n",
       "      <th>PR(&gt;F)</th>\n",
       "    </tr>\n",
       "  </thead>\n",
       "  <tbody>\n",
       "    <tr>\n",
       "      <th>C(question)</th>\n",
       "      <td>6.299220e+08</td>\n",
       "      <td>27.0</td>\n",
       "      <td>11.074439</td>\n",
       "      <td>1.597506e-31</td>\n",
       "    </tr>\n",
       "    <tr>\n",
       "      <th>C(group)</th>\n",
       "      <td>5.235476e+03</td>\n",
       "      <td>1.0</td>\n",
       "      <td>0.002485</td>\n",
       "      <td>9.602523e-01</td>\n",
       "    </tr>\n",
       "    <tr>\n",
       "      <th>C(question):C(group)</th>\n",
       "      <td>1.551722e+08</td>\n",
       "      <td>27.0</td>\n",
       "      <td>2.728028</td>\n",
       "      <td>3.480728e-05</td>\n",
       "    </tr>\n",
       "    <tr>\n",
       "      <th>Residual</th>\n",
       "      <td>1.824396e+09</td>\n",
       "      <td>866.0</td>\n",
       "      <td>NaN</td>\n",
       "      <td>NaN</td>\n",
       "    </tr>\n",
       "  </tbody>\n",
       "</table>\n",
       "</div>"
      ],
      "text/plain": [
       "                            sum_sq     df          F        PR(>F)\n",
       "C(question)           6.299220e+08   27.0  11.074439  1.597506e-31\n",
       "C(group)              5.235476e+03    1.0   0.002485  9.602523e-01\n",
       "C(question):C(group)  1.551722e+08   27.0   2.728028  3.480728e-05\n",
       "Residual              1.824396e+09  866.0        NaN           NaN"
      ]
     },
     "execution_count": 654,
     "metadata": {},
     "output_type": "execute_result"
    }
   ],
   "source": [
    "import statsmodels.api as sm\n",
    "from statsmodels.formula.api import ols\n",
    "\n",
    "#perform two-way ANOVA\n",
    "model = ols('distance ~ C(question) + C(group) + C(question)*C(group)', data=mouse_data).fit()\n",
    "sm.stats.anova_lm(model, typ=2)"
   ]
  },
  {
   "cell_type": "code",
   "execution_count": 656,
   "id": "8eff0fa4",
   "metadata": {},
   "outputs": [
    {
     "name": "stdout",
     "output_type": "stream",
     "text": [
      "2319.4447004608296\n",
      "2339.8601252609606\n"
     ]
    }
   ],
   "source": [
    "print(np.mean(gam_question_mouse['distance']))\n",
    "print(np.mean(tra_question_mouse['distance']))"
   ]
  },
  {
   "cell_type": "code",
   "execution_count": 551,
   "id": "02a593b2",
   "metadata": {},
   "outputs": [
    {
     "data": {
      "text/plain": [
       "Ttest_indResult(statistic=-0.677599266765583, pvalue=0.5021308263700512)"
      ]
     },
     "execution_count": 551,
     "metadata": {},
     "output_type": "execute_result"
    }
   ],
   "source": [
    "stats.ttest_ind(gam_question_mouse[gam_question_mouse['question']=='STOMP_time']['distance'], \n",
    "                tra_question_mouse[tra_question_mouse['question']=='STOMP_time']['distance'])"
   ]
  },
  {
   "cell_type": "code",
   "execution_count": 558,
   "id": "9663611d",
   "metadata": {},
   "outputs": [
    {
     "data": {
      "text/plain": [
       "Ttest_indResult(statistic=-1.0116913125183735, pvalue=0.3179214502267298)"
      ]
     },
     "execution_count": 558,
     "metadata": {},
     "output_type": "execute_result"
    }
   ],
   "source": [
    "stats.ttest_ind(gam_question_mouse[gam_question_mouse['question']=='BZSG_time']['distance'], \n",
    "                tra_question_mouse[tra_question_mouse['question']=='BZSG_time']['distance'])"
   ]
  },
  {
   "cell_type": "code",
   "execution_count": 559,
   "id": "aef02cb4",
   "metadata": {},
   "outputs": [
    {
     "data": {
      "text/plain": [
       "Ttest_indResult(statistic=-0.7644789425624143, pvalue=0.449068504933518)"
      ]
     },
     "execution_count": 559,
     "metadata": {},
     "output_type": "execute_result"
    }
   ],
   "source": [
    "stats.ttest_ind(gam_question_mouse[gam_question_mouse['question']=='PWI_time']['distance'], \n",
    "                tra_question_mouse[tra_question_mouse['question']=='PWI_time']['distance'])"
   ]
  },
  {
   "cell_type": "code",
   "execution_count": 560,
   "id": "3ed5502f",
   "metadata": {},
   "outputs": [
    {
     "data": {
      "text/plain": [
       "Ttest_indResult(statistic=-0.5332715461694757, pvalue=0.5970346025821518)"
      ]
     },
     "execution_count": 560,
     "metadata": {},
     "output_type": "execute_result"
    }
   ],
   "source": [
    "stats.ttest_ind(gam_question_mouse[gam_question_mouse['question']=='Q14_time']['distance'], \n",
    "                tra_question_mouse[tra_question_mouse['question']=='Q13_time']['distance'])"
   ]
  },
  {
   "cell_type": "code",
   "execution_count": 561,
   "id": "4ffcca21",
   "metadata": {},
   "outputs": [
    {
     "data": {
      "text/plain": [
       "Ttest_indResult(statistic=-1.6921581672173545, pvalue=0.09859191734882791)"
      ]
     },
     "execution_count": 561,
     "metadata": {},
     "output_type": "execute_result"
    }
   ],
   "source": [
    "stats.ttest_ind(gam_question_mouse[gam_question_mouse['question']=='Q15_time']['distance'], \n",
    "                tra_question_mouse[tra_question_mouse['question']=='Q15_time']['distance'])"
   ]
  },
  {
   "cell_type": "code",
   "execution_count": 562,
   "id": "55b20135",
   "metadata": {},
   "outputs": [
    {
     "data": {
      "text/plain": [
       "Ttest_indResult(statistic=0.16473009319574955, pvalue=0.8700072918936315)"
      ]
     },
     "execution_count": 562,
     "metadata": {},
     "output_type": "execute_result"
    }
   ],
   "source": [
    "stats.ttest_ind(gam_question_mouse[gam_question_mouse['question']=='Q11_time']['distance'], \n",
    "                tra_question_mouse[tra_question_mouse['question']=='Q14_time']['distance'])"
   ]
  },
  {
   "cell_type": "code",
   "execution_count": 563,
   "id": "b01ca4fc",
   "metadata": {},
   "outputs": [
    {
     "data": {
      "text/plain": [
       "Ttest_indResult(statistic=-0.07323989202471894, pvalue=0.9419629183896588)"
      ]
     },
     "execution_count": 563,
     "metadata": {},
     "output_type": "execute_result"
    }
   ],
   "source": [
    "stats.ttest_ind(gam_question_mouse[gam_question_mouse['question']=='Q12_time']['distance'], \n",
    "                tra_question_mouse[tra_question_mouse['question']=='Q11_time']['distance'])"
   ]
  },
  {
   "cell_type": "code",
   "execution_count": 564,
   "id": "35de301e",
   "metadata": {},
   "outputs": [
    {
     "data": {
      "text/plain": [
       "Ttest_indResult(statistic=-1.4412778955469405, pvalue=0.1576966392736998)"
      ]
     },
     "execution_count": 564,
     "metadata": {},
     "output_type": "execute_result"
    }
   ],
   "source": [
    "stats.ttest_ind(gam_question_mouse[gam_question_mouse['question']=='Q13_time']['distance'], \n",
    "                tra_question_mouse[tra_question_mouse['question']=='Q12_time']['distance'])"
   ]
  },
  {
   "cell_type": "code",
   "execution_count": 520,
   "id": "7a5e2e1c",
   "metadata": {},
   "outputs": [
    {
     "data": {
      "text/plain": [
       "Ttest_indResult(statistic=-0.7676721520907619, pvalue=0.44546178641156553)"
      ]
     },
     "execution_count": 520,
     "metadata": {},
     "output_type": "execute_result"
    }
   ],
   "source": [
    "from scipy import stats\n",
    "\n",
    "# don't know rate comparison\n",
    "stats.ttest_ind(gam_dkr['dont_know_rate'], tra_dkr['dont_know_rate'])"
   ]
  },
  {
   "cell_type": "code",
   "execution_count": 649,
   "id": "cba8e4a2",
   "metadata": {},
   "outputs": [
    {
     "name": "stdout",
     "output_type": "stream",
     "text": [
      "геймифицированный дизайн 0.020833333333333336\n",
      "традиционный дизайн 0.02672811059907834\n"
     ]
    }
   ],
   "source": [
    "print(f'геймифицированный дизайн {np.mean(gam_dkr[\"dont_know_rate\"])}')\n",
    "print(f'традиционный дизайн {np.mean(tra_dkr[\"dont_know_rate\"])}')"
   ]
  },
  {
   "cell_type": "markdown",
   "id": "6eda7d0c",
   "metadata": {},
   "source": [
    "### Eyetracking data analysis"
   ]
  },
  {
   "cell_type": "code",
   "execution_count": 581,
   "id": "15e2b818",
   "metadata": {},
   "outputs": [
    {
     "data": {
      "text/html": [
       "<div>\n",
       "<style scoped>\n",
       "    .dataframe tbody tr th:only-of-type {\n",
       "        vertical-align: middle;\n",
       "    }\n",
       "\n",
       "    .dataframe tbody tr th {\n",
       "        vertical-align: top;\n",
       "    }\n",
       "\n",
       "    .dataframe thead th {\n",
       "        text-align: right;\n",
       "    }\n",
       "</style>\n",
       "<table border=\"1\" class=\"dataframe\">\n",
       "  <thead>\n",
       "    <tr style=\"text-align: right;\">\n",
       "      <th></th>\n",
       "      <th>baseline</th>\n",
       "      <th>ID</th>\n",
       "    </tr>\n",
       "  </thead>\n",
       "  <tbody>\n",
       "    <tr>\n",
       "      <th>1</th>\n",
       "      <td>34.058474</td>\n",
       "      <td>1</td>\n",
       "    </tr>\n",
       "    <tr>\n",
       "      <th>3</th>\n",
       "      <td>38.559276</td>\n",
       "      <td>3</td>\n",
       "    </tr>\n",
       "    <tr>\n",
       "      <th>5</th>\n",
       "      <td>28.882151</td>\n",
       "      <td>5</td>\n",
       "    </tr>\n",
       "    <tr>\n",
       "      <th>6</th>\n",
       "      <td>25.911232</td>\n",
       "      <td>6</td>\n",
       "    </tr>\n",
       "    <tr>\n",
       "      <th>9</th>\n",
       "      <td>25.784546</td>\n",
       "      <td>9</td>\n",
       "    </tr>\n",
       "    <tr>\n",
       "      <th>...</th>\n",
       "      <td>...</td>\n",
       "      <td>...</td>\n",
       "    </tr>\n",
       "    <tr>\n",
       "      <th>62</th>\n",
       "      <td>33.268293</td>\n",
       "      <td>62</td>\n",
       "    </tr>\n",
       "    <tr>\n",
       "      <th>63</th>\n",
       "      <td>17.399305</td>\n",
       "      <td>63</td>\n",
       "    </tr>\n",
       "    <tr>\n",
       "      <th>65</th>\n",
       "      <td>20.527097</td>\n",
       "      <td>65</td>\n",
       "    </tr>\n",
       "    <tr>\n",
       "      <th>66</th>\n",
       "      <td>29.855326</td>\n",
       "      <td>66</td>\n",
       "    </tr>\n",
       "    <tr>\n",
       "      <th>67</th>\n",
       "      <td>35.896216</td>\n",
       "      <td>67</td>\n",
       "    </tr>\n",
       "  </tbody>\n",
       "</table>\n",
       "<p>67 rows × 2 columns</p>\n",
       "</div>"
      ],
      "text/plain": [
       "     baseline  ID\n",
       "1   34.058474   1\n",
       "3   38.559276   3\n",
       "5   28.882151   5\n",
       "6   25.911232   6\n",
       "9   25.784546   9\n",
       "..        ...  ..\n",
       "62  33.268293  62\n",
       "63  17.399305  63\n",
       "65  20.527097  65\n",
       "66  29.855326  66\n",
       "67  35.896216  67\n",
       "\n",
       "[67 rows x 2 columns]"
      ]
     },
     "execution_count": 581,
     "metadata": {},
     "output_type": "execute_result"
    }
   ],
   "source": [
    "baselines_df = pd.DataFrame.from_dict(baselines, orient='index')\n",
    "baselines_df['ID'] = baselines_df.index\n",
    "baselines_df = baselines_df.rename(columns={0:'baseline'})\n",
    "baselines_df"
   ]
  },
  {
   "cell_type": "code",
   "execution_count": 594,
   "id": "0eabe1bc",
   "metadata": {},
   "outputs": [],
   "source": [
    "q = \"\"\"\n",
    "    select 'gam' as group_name, question, (avg_diameter-baseline) as diff_diameter\n",
    "    from gam_pupils_by_page_ID\n",
    "    join baselines_df using(ID)\n",
    "    join gam_page_question_match using(page_id)\n",
    "    \"\"\"\n",
    "gam_pupils_data = sql(q)"
   ]
  },
  {
   "cell_type": "code",
   "execution_count": 595,
   "id": "90ec939d",
   "metadata": {},
   "outputs": [],
   "source": [
    "q = \"\"\"\n",
    "    select 'tra' as group_name, question, (avg_diameter-baseline) as diff_diameter\n",
    "    from tra_pupils_by_page_ID\n",
    "    join baselines_df using(ID)\n",
    "    join tra_page_question_match using(page_id)\n",
    "    \"\"\"\n",
    "tra_pupils_data = sql(q)"
   ]
  },
  {
   "cell_type": "code",
   "execution_count": 597,
   "id": "afd34ad1",
   "metadata": {},
   "outputs": [],
   "source": [
    "pupils_data = pd.concat([gam_pupils_data, tra_pupils_data])"
   ]
  },
  {
   "cell_type": "code",
   "execution_count": 598,
   "id": "c4b45392",
   "metadata": {},
   "outputs": [
    {
     "data": {
      "text/html": [
       "<div>\n",
       "<style scoped>\n",
       "    .dataframe tbody tr th:only-of-type {\n",
       "        vertical-align: middle;\n",
       "    }\n",
       "\n",
       "    .dataframe tbody tr th {\n",
       "        vertical-align: top;\n",
       "    }\n",
       "\n",
       "    .dataframe thead th {\n",
       "        text-align: right;\n",
       "    }\n",
       "</style>\n",
       "<table border=\"1\" class=\"dataframe\">\n",
       "  <thead>\n",
       "    <tr style=\"text-align: right;\">\n",
       "      <th></th>\n",
       "      <th>group_name</th>\n",
       "      <th>question</th>\n",
       "      <th>diff_diameter</th>\n",
       "    </tr>\n",
       "  </thead>\n",
       "  <tbody>\n",
       "    <tr>\n",
       "      <th>0</th>\n",
       "      <td>gam</td>\n",
       "      <td>Q6_time</td>\n",
       "      <td>9.519495</td>\n",
       "    </tr>\n",
       "    <tr>\n",
       "      <th>1</th>\n",
       "      <td>gam</td>\n",
       "      <td>Q8_time</td>\n",
       "      <td>11.252928</td>\n",
       "    </tr>\n",
       "    <tr>\n",
       "      <th>2</th>\n",
       "      <td>gam</td>\n",
       "      <td>Q9_time</td>\n",
       "      <td>16.948075</td>\n",
       "    </tr>\n",
       "    <tr>\n",
       "      <th>3</th>\n",
       "      <td>gam</td>\n",
       "      <td>Q10_time</td>\n",
       "      <td>14.493613</td>\n",
       "    </tr>\n",
       "    <tr>\n",
       "      <th>4</th>\n",
       "      <td>gam</td>\n",
       "      <td>PWI_time</td>\n",
       "      <td>12.094578</td>\n",
       "    </tr>\n",
       "    <tr>\n",
       "      <th>...</th>\n",
       "      <td>...</td>\n",
       "      <td>...</td>\n",
       "      <td>...</td>\n",
       "    </tr>\n",
       "    <tr>\n",
       "      <th>122</th>\n",
       "      <td>tra</td>\n",
       "      <td>Q15_time</td>\n",
       "      <td>-15.257525</td>\n",
       "    </tr>\n",
       "    <tr>\n",
       "      <th>123</th>\n",
       "      <td>tra</td>\n",
       "      <td>STOMP_time</td>\n",
       "      <td>-14.624038</td>\n",
       "    </tr>\n",
       "    <tr>\n",
       "      <th>124</th>\n",
       "      <td>tra</td>\n",
       "      <td>Q18_time</td>\n",
       "      <td>-14.050254</td>\n",
       "    </tr>\n",
       "    <tr>\n",
       "      <th>125</th>\n",
       "      <td>tra</td>\n",
       "      <td>Q20_time</td>\n",
       "      <td>-14.621245</td>\n",
       "    </tr>\n",
       "    <tr>\n",
       "      <th>126</th>\n",
       "      <td>tra</td>\n",
       "      <td>Q21_time</td>\n",
       "      <td>-14.282692</td>\n",
       "    </tr>\n",
       "  </tbody>\n",
       "</table>\n",
       "<p>211 rows × 3 columns</p>\n",
       "</div>"
      ],
      "text/plain": [
       "    group_name    question  diff_diameter\n",
       "0          gam     Q6_time       9.519495\n",
       "1          gam     Q8_time      11.252928\n",
       "2          gam     Q9_time      16.948075\n",
       "3          gam    Q10_time      14.493613\n",
       "4          gam    PWI_time      12.094578\n",
       "..         ...         ...            ...\n",
       "122        tra    Q15_time     -15.257525\n",
       "123        tra  STOMP_time     -14.624038\n",
       "124        tra    Q18_time     -14.050254\n",
       "125        tra    Q20_time     -14.621245\n",
       "126        tra    Q21_time     -14.282692\n",
       "\n",
       "[211 rows x 3 columns]"
      ]
     },
     "execution_count": 598,
     "metadata": {},
     "output_type": "execute_result"
    }
   ],
   "source": [
    "pupils_data"
   ]
  },
  {
   "cell_type": "code",
   "execution_count": 600,
   "id": "3e9e8fb1",
   "metadata": {},
   "outputs": [
    {
     "name": "stderr",
     "output_type": "stream",
     "text": [
      "/Users/risuleymanov/opt/anaconda3/lib/python3.8/site-packages/statsmodels/base/model.py:1832: ValueWarning: covariance of constraints does not have full rank. The number of constraints is 26, but rank is 18\n",
      "  warnings.warn('covariance of constraints does not have full '\n",
      "/Users/risuleymanov/opt/anaconda3/lib/python3.8/site-packages/statsmodels/base/model.py:1832: ValueWarning: covariance of constraints does not have full rank. The number of constraints is 26, but rank is 22\n",
      "  warnings.warn('covariance of constraints does not have full '\n"
     ]
    },
    {
     "data": {
      "text/html": [
       "<div>\n",
       "<style scoped>\n",
       "    .dataframe tbody tr th:only-of-type {\n",
       "        vertical-align: middle;\n",
       "    }\n",
       "\n",
       "    .dataframe tbody tr th {\n",
       "        vertical-align: top;\n",
       "    }\n",
       "\n",
       "    .dataframe thead th {\n",
       "        text-align: right;\n",
       "    }\n",
       "</style>\n",
       "<table border=\"1\" class=\"dataframe\">\n",
       "  <thead>\n",
       "    <tr style=\"text-align: right;\">\n",
       "      <th></th>\n",
       "      <th>sum_sq</th>\n",
       "      <th>df</th>\n",
       "      <th>F</th>\n",
       "      <th>PR(&gt;F)</th>\n",
       "    </tr>\n",
       "  </thead>\n",
       "  <tbody>\n",
       "    <tr>\n",
       "      <th>C(question)</th>\n",
       "      <td>2039.758262</td>\n",
       "      <td>26.0</td>\n",
       "      <td>0.843596</td>\n",
       "      <td>0.646916</td>\n",
       "    </tr>\n",
       "    <tr>\n",
       "      <th>C(group_name)</th>\n",
       "      <td>386.893544</td>\n",
       "      <td>1.0</td>\n",
       "      <td>4.160261</td>\n",
       "      <td>0.042978</td>\n",
       "    </tr>\n",
       "    <tr>\n",
       "      <th>C(question):C(group_name)</th>\n",
       "      <td>1069.254579</td>\n",
       "      <td>26.0</td>\n",
       "      <td>0.442219</td>\n",
       "      <td>0.986155</td>\n",
       "    </tr>\n",
       "    <tr>\n",
       "      <th>Residual</th>\n",
       "      <td>15344.572860</td>\n",
       "      <td>165.0</td>\n",
       "      <td>NaN</td>\n",
       "      <td>NaN</td>\n",
       "    </tr>\n",
       "  </tbody>\n",
       "</table>\n",
       "</div>"
      ],
      "text/plain": [
       "                                 sum_sq     df         F    PR(>F)\n",
       "C(question)                 2039.758262   26.0  0.843596  0.646916\n",
       "C(group_name)                386.893544    1.0  4.160261  0.042978\n",
       "C(question):C(group_name)   1069.254579   26.0  0.442219  0.986155\n",
       "Residual                   15344.572860  165.0       NaN       NaN"
      ]
     },
     "execution_count": 600,
     "metadata": {},
     "output_type": "execute_result"
    }
   ],
   "source": [
    "#perform two-way ANOVA\n",
    "model_pupils = ols('diff_diameter ~ C(question) + C(group_name) + C(question):C(group_name)', data=pupils_data).fit()\n",
    "sm.stats.anova_lm(model_pupils, typ=2)"
   ]
  },
  {
   "cell_type": "code",
   "execution_count": 603,
   "id": "be4132aa",
   "metadata": {},
   "outputs": [
    {
     "data": {
      "text/plain": [
       "Ttest_indResult(statistic=0.562174427489701, pvalue=0.5877230732053682)"
      ]
     },
     "execution_count": 603,
     "metadata": {},
     "output_type": "execute_result"
    }
   ],
   "source": [
    "stats.ttest_ind(gam_pupils_data[gam_pupils_data['question']=='STOMP_time']['diff_diameter'], \n",
    "                tra_pupils_data[tra_pupils_data['question']=='STOMP_time']['diff_diameter'])"
   ]
  },
  {
   "cell_type": "code",
   "execution_count": 604,
   "id": "cc3309aa",
   "metadata": {},
   "outputs": [
    {
     "data": {
      "text/plain": [
       "Ttest_indResult(statistic=1.6733120131308474, pvalue=0.1551231866645851)"
      ]
     },
     "execution_count": 604,
     "metadata": {},
     "output_type": "execute_result"
    }
   ],
   "source": [
    "stats.ttest_ind(gam_pupils_data[gam_pupils_data['question']=='BZSG_time']['diff_diameter'], \n",
    "                tra_pupils_data[tra_pupils_data['question']=='BZSG_time']['diff_diameter'])"
   ]
  },
  {
   "cell_type": "code",
   "execution_count": 605,
   "id": "797377d9",
   "metadata": {},
   "outputs": [
    {
     "data": {
      "text/plain": [
       "Ttest_indResult(statistic=1.9165497809076997, pvalue=0.08162916586513351)"
      ]
     },
     "execution_count": 605,
     "metadata": {},
     "output_type": "execute_result"
    }
   ],
   "source": [
    "stats.ttest_ind(gam_pupils_data[gam_pupils_data['question']=='PWI_time']['diff_diameter'], \n",
    "                tra_pupils_data[tra_pupils_data['question']=='PWI_time']['diff_diameter'])"
   ]
  },
  {
   "cell_type": "code",
   "execution_count": 657,
   "id": "dc9bfaf9",
   "metadata": {},
   "outputs": [
    {
     "name": "stdout",
     "output_type": "stream",
     "text": [
      "2.8028740875890197\n",
      "-4.894974873012173\n"
     ]
    }
   ],
   "source": [
    "print(np.mean(gam_pupils_data[gam_pupils_data['question']=='PWI_time']['diff_diameter']))\n",
    "print(np.mean(tra_pupils_data[tra_pupils_data['question']=='PWI_time']['diff_diameter']))"
   ]
  },
  {
   "cell_type": "code",
   "execution_count": 606,
   "id": "c780608c",
   "metadata": {},
   "outputs": [
    {
     "data": {
      "text/plain": [
       "Ttest_indResult(statistic=-0.06277619819294615, pvalue=0.9514848568917911)"
      ]
     },
     "execution_count": 606,
     "metadata": {},
     "output_type": "execute_result"
    }
   ],
   "source": [
    "stats.ttest_ind(gam_pupils_data[gam_pupils_data['question']=='Q14_time']['diff_diameter'], \n",
    "                tra_pupils_data[tra_pupils_data['question']=='Q13_time']['diff_diameter'])"
   ]
  },
  {
   "cell_type": "code",
   "execution_count": 607,
   "id": "d5b01294",
   "metadata": {},
   "outputs": [
    {
     "data": {
      "text/plain": [
       "Ttest_indResult(statistic=-0.3085620740245263, pvalue=0.7639868047166992)"
      ]
     },
     "execution_count": 607,
     "metadata": {},
     "output_type": "execute_result"
    }
   ],
   "source": [
    "stats.ttest_ind(gam_pupils_data[gam_pupils_data['question']=='Q15_time']['diff_diameter'], \n",
    "                tra_pupils_data[tra_pupils_data['question']=='Q15_time']['diff_diameter'])"
   ]
  },
  {
   "cell_type": "code",
   "execution_count": 608,
   "id": "78e043d7",
   "metadata": {},
   "outputs": [
    {
     "data": {
      "text/plain": [
       "Ttest_indResult(statistic=1.5894741278259341, pvalue=0.15061679475153775)"
      ]
     },
     "execution_count": 608,
     "metadata": {},
     "output_type": "execute_result"
    }
   ],
   "source": [
    "stats.ttest_ind(gam_pupils_data[gam_pupils_data['question']=='Q11_time']['diff_diameter'], \n",
    "                tra_pupils_data[tra_pupils_data['question']=='Q14_time']['diff_diameter'])"
   ]
  },
  {
   "cell_type": "code",
   "execution_count": 609,
   "id": "928bef5f",
   "metadata": {},
   "outputs": [
    {
     "data": {
      "text/plain": [
       "Ttest_indResult(statistic=0.7490400401221382, pvalue=0.46826230153937265)"
      ]
     },
     "execution_count": 609,
     "metadata": {},
     "output_type": "execute_result"
    }
   ],
   "source": [
    "stats.ttest_ind(gam_pupils_data[gam_pupils_data['question']=='Q12_time']['diff_diameter'], \n",
    "                tra_pupils_data[tra_pupils_data['question']=='Q11_time']['diff_diameter'])"
   ]
  },
  {
   "cell_type": "code",
   "execution_count": 610,
   "id": "adb7fb0f",
   "metadata": {},
   "outputs": [
    {
     "data": {
      "text/plain": [
       "Ttest_indResult(statistic=0.7339149390494997, pvalue=0.48168136208360246)"
      ]
     },
     "execution_count": 610,
     "metadata": {},
     "output_type": "execute_result"
    }
   ],
   "source": [
    "stats.ttest_ind(gam_pupils_data[gam_pupils_data['question']=='Q13_time']['diff_diameter'], \n",
    "                tra_pupils_data[tra_pupils_data['question']=='Q12_time']['diff_diameter'])"
   ]
  },
  {
   "cell_type": "code",
   "execution_count": 612,
   "id": "d4ad2366",
   "metadata": {},
   "outputs": [
    {
     "data": {
      "text/plain": [
       "1.787826094046671"
      ]
     },
     "execution_count": 612,
     "metadata": {},
     "output_type": "execute_result"
    }
   ],
   "source": [
    "np.mean(gam_pupils_data['diff_diameter'])"
   ]
  },
  {
   "cell_type": "code",
   "execution_count": 613,
   "id": "3b283d9d",
   "metadata": {},
   "outputs": [
    {
     "data": {
      "text/plain": [
       "-1.876571977666619"
      ]
     },
     "execution_count": 613,
     "metadata": {},
     "output_type": "execute_result"
    }
   ],
   "source": [
    "np.mean(tra_pupils_data['diff_diameter'])"
   ]
  },
  {
   "cell_type": "code",
   "execution_count": 617,
   "id": "e2d906bb",
   "metadata": {},
   "outputs": [
    {
     "data": {
      "text/plain": [
       "Ttest_indResult(statistic=2.7895136149271833, pvalue=0.005766601196647581)"
      ]
     },
     "execution_count": 617,
     "metadata": {},
     "output_type": "execute_result"
    }
   ],
   "source": [
    "# total pupil diameter\n",
    "stats.ttest_ind(gam_pupils_data['diff_diameter'], \n",
    "                tra_pupils_data['diff_diameter'])"
   ]
  },
  {
   "cell_type": "code",
   "execution_count": 618,
   "id": "e12d966c",
   "metadata": {},
   "outputs": [
    {
     "data": {
      "text/plain": [
       "Ttest_indResult(statistic=-0.18761159886471188, pvalue=0.8512229104367113)"
      ]
     },
     "execution_count": 618,
     "metadata": {},
     "output_type": "execute_result"
    }
   ],
   "source": [
    "# total mouse movements\n",
    "stats.ttest_ind(gam_question_mouse['distance'], \n",
    "                tra_question_mouse['distance'])"
   ]
  },
  {
   "cell_type": "markdown",
   "id": "9bb99c27",
   "metadata": {},
   "source": [
    "### check total NASA-TLX by question"
   ]
  },
  {
   "cell_type": "code",
   "execution_count": 622,
   "id": "d3a3dcbb",
   "metadata": {},
   "outputs": [],
   "source": [
    "# Как много умственных усилий (меньше - лучше)\n",
    "gam_nasa_tlx = pd.DataFrame()\n",
    "tra_nasa_tlx = pd.DataFrame()\n",
    "gam_nasa_tlx['mental'] = gam_answers['Q25a']\n",
    "tra_nasa_tlx['mental'] = tra_answers['Q21a']"
   ]
  },
  {
   "cell_type": "code",
   "execution_count": 625,
   "id": "265dece5",
   "metadata": {},
   "outputs": [],
   "source": [
    "# Как много физических усилий (меньше - лучше)\n",
    "gam_nasa_tlx['physical'] = gam_answers['Q25b']\n",
    "tra_nasa_tlx['physical'] = tra_answers['Q21b']\n",
    "\n",
    "# Как много времени (меньше - лучше)\n",
    "gam_nasa_tlx['temporal'] = gam_answers['Q25c']\n",
    "tra_nasa_tlx['temporal'] = tra_answers['Q21c']\n",
    "\n",
    "# Насколько успешно (было больше - лучше, переводим в меньше - лучше)\n",
    "gam_nasa_tlx['success'] = 6 - gam_answers['Q25d']\n",
    "tra_nasa_tlx['success'] = 6 - tra_answers['Q21d']\n",
    "\n",
    "# Насколько тяжело (меньше - лучше)\n",
    "gam_nasa_tlx['effort'] = gam_answers['Q25e']\n",
    "tra_nasa_tlx['effort'] = tra_answers['Q21e']\n",
    "\n",
    "# Насколько неуверенно, раздраженно или напряженно вы себя чувствовали (меньше - лучше)\n",
    "gam_nasa_tlx['frustr'] = gam_answers['Q25f']\n",
    "tra_nasa_tlx['frustr'] = tra_answers['Q21f']\n",
    "\n",
    "# Насколько увлекательно (было больше - лучше, переводим в меньше - лучше)\n",
    "gam_nasa_tlx['fun'] = 6 - gam_answers['Q25g']\n",
    "tra_nasa_tlx['fun'] = 6 - tra_answers['Q21g']"
   ]
  },
  {
   "cell_type": "code",
   "execution_count": 627,
   "id": "142abf7e",
   "metadata": {},
   "outputs": [],
   "source": [
    "gam_nasa_tlx['total'] = (\n",
    "    gam_nasa_tlx['mental'] + gam_nasa_tlx['physical'] + gam_nasa_tlx['temporal'] + \n",
    "    gam_nasa_tlx['success'] + gam_nasa_tlx['effort'] + gam_nasa_tlx['frustr'] + gam_nasa_tlx['fun']) / 7\n",
    "\n",
    "\n",
    "\n",
    "tra_nasa_tlx['total'] = (\n",
    "    tra_nasa_tlx['mental'] + tra_nasa_tlx['physical'] + tra_nasa_tlx['temporal'] + \n",
    "    tra_nasa_tlx['success'] + tra_nasa_tlx['effort'] + tra_nasa_tlx['frustr'] + tra_nasa_tlx['fun']) / 7\n",
    "\n",
    "\n"
   ]
  },
  {
   "cell_type": "code",
   "execution_count": 646,
   "id": "5dc4c9b1",
   "metadata": {},
   "outputs": [
    {
     "name": "stdout",
     "output_type": "stream",
     "text": [
      "в геймифицированном варианте = 2.415178571428571\n",
      "в традиционном варианте = 2.3959183673469386\n"
     ]
    }
   ],
   "source": [
    "print(f'в геймифицированном варианте = {np.mean(gam_nasa_tlx[\"total\"])}')\n",
    "print(f'в традиционном варианте = {np.mean(tra_nasa_tlx[\"total\"])}')"
   ]
  },
  {
   "cell_type": "code",
   "execution_count": 647,
   "id": "e3d17aa5",
   "metadata": {},
   "outputs": [
    {
     "data": {
      "text/plain": [
       "Ttest_indResult(statistic=0.18375960495107357, pvalue=0.8547740986056739)"
      ]
     },
     "execution_count": 647,
     "metadata": {},
     "output_type": "execute_result"
    }
   ],
   "source": [
    "# total NASA-TLX\n",
    "stats.ttest_ind(gam_nasa_tlx['total'], \n",
    "                tra_nasa_tlx['total'])"
   ]
  },
  {
   "cell_type": "markdown",
   "id": "95801d51",
   "metadata": {},
   "source": [
    "### Попробуем взять другой промежуток для подсчета бейзлайна"
   ]
  },
  {
   "cell_type": "code",
   "execution_count": 631,
   "id": "1b9b97b1",
   "metadata": {
    "collapsed": true
   },
   "outputs": [
    {
     "name": "stdout",
     "output_type": "stream",
     "text": [
      "Обработка ID 3\n",
      "Обработка ID 5\n",
      "Обработка ID 6\n",
      "Обработка ID 9\n",
      "Обработка ID 10\n",
      "Обработка ID 13\n",
      "Обработка ID 15\n",
      "Обработка ID 19\n",
      "Обработка ID 21\n",
      "Обработка ID 22\n",
      "Обработка ID 23\n",
      "Обработка ID 24\n",
      "Обработка ID 27\n",
      "Обработка ID 29\n",
      "Обработка ID 31\n",
      "Обработка ID 32\n",
      "Обработка ID 33\n",
      "Обработка ID 35\n",
      "Обработка ID 37\n",
      "Обработка ID 38\n",
      "Обработка ID 41\n",
      "Обработка ID 42\n",
      "Обработка ID 45\n",
      "Обработка ID 47\n",
      "Обработка ID 50\n",
      "Обработка ID 51\n",
      "Обработка ID 53\n",
      "Обработка ID 56\n",
      "Обработка ID 59\n",
      "Обработка ID 60\n",
      "Обработка ID 64\n"
     ]
    }
   ],
   "source": [
    "baselines_30_35 = {}\n",
    "\n",
    "d = pd.read_csv(f'with_time_1')\n",
    "d.adequate_time = pd.to_datetime(d.adequate_time)\n",
    "d = d[d['confidence']>=0.7]\n",
    "baselines_30_35[1] = np.mean(d[(d['videotime']>='0:0:30')&(d['videotime']<='0:0:35')]['diameter'])\n",
    "    \n",
    "for k in list(gam_answers_times['ID'])[1:]:\n",
    "    print(f'Обработка ID {k}')\n",
    "    d = pd.read_csv(f'with_time_{k}')\n",
    "    d.adequate_time = pd.to_datetime(d.adequate_time)\n",
    "    d = d[d['confidence']>=0.7]\n",
    "    baselines_30_35[k] = np.mean(d[(d['videotime']>='0:0:30')&(d['videotime']<='0:0:35')]['diameter'])\n",
    "    "
   ]
  },
  {
   "cell_type": "code",
   "execution_count": 632,
   "id": "d1c6df65",
   "metadata": {
    "collapsed": true
   },
   "outputs": [
    {
     "name": "stdout",
     "output_type": "stream",
     "text": [
      "Обработка ID 4\n",
      "Обработка ID 7\n",
      "Обработка ID 8\n",
      "Обработка ID 11\n",
      "Обработка ID 12\n",
      "Обработка ID 14\n",
      "Обработка ID 16\n",
      "Обработка ID 17\n",
      "Обработка ID 20\n",
      "Обработка ID 25\n",
      "Обработка ID 26\n",
      "Обработка ID 18\n",
      "Обработка ID 28\n",
      "Обработка ID 30\n",
      "Обработка ID 34\n",
      "Обработка ID 36\n",
      "Обработка ID 39\n",
      "Обработка ID 40\n",
      "Обработка ID 43\n",
      "Обработка ID 44\n",
      "Обработка ID 46\n",
      "Обработка ID 48\n",
      "Обработка ID 49\n",
      "Обработка ID 52\n",
      "Обработка ID 54\n",
      "Обработка ID 55\n",
      "Обработка ID 57\n",
      "Обработка ID 58\n",
      "Обработка ID 61\n",
      "Обработка ID 62\n",
      "Обработка ID 63\n",
      "Обработка ID 65\n",
      "Обработка ID 66\n",
      "Обработка ID 67\n"
     ]
    }
   ],
   "source": [
    "d = pd.read_csv(f'with_time_2')\n",
    "d.adequate_time = pd.to_datetime(d.adequate_time)\n",
    "d = d[d['confidence']>=0.7]\n",
    "baselines_30_35[2] = np.mean(d[(d['videotime']>='0:0:30')&(d['videotime']<='0:0:35')]['diameter'])\n",
    "\n",
    "for k in list(tra_answers_times['ID'])[1:]:\n",
    "    print(f'Обработка ID {k}')\n",
    "    d = pd.read_csv(f'with_time_{k}')\n",
    "    d.adequate_time = pd.to_datetime(d.adequate_time)\n",
    "    d = d[d['confidence']>=0.7]\n",
    "    baselines_30_35[k] = np.mean(d[(d['videotime']>='0:0:30')&(d['videotime']<='0:0:35')]['diameter'])\n"
   ]
  },
  {
   "cell_type": "code",
   "execution_count": 633,
   "id": "14cc92b7",
   "metadata": {},
   "outputs": [
    {
     "data": {
      "text/html": [
       "<div>\n",
       "<style scoped>\n",
       "    .dataframe tbody tr th:only-of-type {\n",
       "        vertical-align: middle;\n",
       "    }\n",
       "\n",
       "    .dataframe tbody tr th {\n",
       "        vertical-align: top;\n",
       "    }\n",
       "\n",
       "    .dataframe thead th {\n",
       "        text-align: right;\n",
       "    }\n",
       "</style>\n",
       "<table border=\"1\" class=\"dataframe\">\n",
       "  <thead>\n",
       "    <tr style=\"text-align: right;\">\n",
       "      <th></th>\n",
       "      <th>baseline</th>\n",
       "      <th>ID</th>\n",
       "    </tr>\n",
       "  </thead>\n",
       "  <tbody>\n",
       "    <tr>\n",
       "      <th>1</th>\n",
       "      <td>32.817908</td>\n",
       "      <td>1</td>\n",
       "    </tr>\n",
       "    <tr>\n",
       "      <th>3</th>\n",
       "      <td>36.317572</td>\n",
       "      <td>3</td>\n",
       "    </tr>\n",
       "    <tr>\n",
       "      <th>5</th>\n",
       "      <td>29.847564</td>\n",
       "      <td>5</td>\n",
       "    </tr>\n",
       "    <tr>\n",
       "      <th>6</th>\n",
       "      <td>26.804165</td>\n",
       "      <td>6</td>\n",
       "    </tr>\n",
       "    <tr>\n",
       "      <th>9</th>\n",
       "      <td>27.911273</td>\n",
       "      <td>9</td>\n",
       "    </tr>\n",
       "    <tr>\n",
       "      <th>...</th>\n",
       "      <td>...</td>\n",
       "      <td>...</td>\n",
       "    </tr>\n",
       "    <tr>\n",
       "      <th>62</th>\n",
       "      <td>34.763662</td>\n",
       "      <td>62</td>\n",
       "    </tr>\n",
       "    <tr>\n",
       "      <th>63</th>\n",
       "      <td>17.216855</td>\n",
       "      <td>63</td>\n",
       "    </tr>\n",
       "    <tr>\n",
       "      <th>65</th>\n",
       "      <td>20.462938</td>\n",
       "      <td>65</td>\n",
       "    </tr>\n",
       "    <tr>\n",
       "      <th>66</th>\n",
       "      <td>32.566275</td>\n",
       "      <td>66</td>\n",
       "    </tr>\n",
       "    <tr>\n",
       "      <th>67</th>\n",
       "      <td>33.024368</td>\n",
       "      <td>67</td>\n",
       "    </tr>\n",
       "  </tbody>\n",
       "</table>\n",
       "<p>67 rows × 2 columns</p>\n",
       "</div>"
      ],
      "text/plain": [
       "     baseline  ID\n",
       "1   32.817908   1\n",
       "3   36.317572   3\n",
       "5   29.847564   5\n",
       "6   26.804165   6\n",
       "9   27.911273   9\n",
       "..        ...  ..\n",
       "62  34.763662  62\n",
       "63  17.216855  63\n",
       "65  20.462938  65\n",
       "66  32.566275  66\n",
       "67  33.024368  67\n",
       "\n",
       "[67 rows x 2 columns]"
      ]
     },
     "execution_count": 633,
     "metadata": {},
     "output_type": "execute_result"
    }
   ],
   "source": [
    "baselines_30_35_df = pd.DataFrame.from_dict(baselines_30_35, orient='index')\n",
    "baselines_30_35_df['ID'] = baselines_30_35_df.index\n",
    "baselines_30_35_df = baselines_30_35_df.rename(columns={0:'baseline'})\n",
    "baselines_30_35_df"
   ]
  },
  {
   "cell_type": "code",
   "execution_count": 634,
   "id": "0b700d58",
   "metadata": {},
   "outputs": [],
   "source": [
    "q = \"\"\"\n",
    "    select 'gam' as group_name, question, (avg_diameter-baseline) as diff_diameter\n",
    "    from gam_pupils_by_page_ID\n",
    "    join baselines_30_35_df using(ID)\n",
    "    join gam_page_question_match using(page_id)\n",
    "    \"\"\"\n",
    "gam_pupils_data_30_35 = sql(q)"
   ]
  },
  {
   "cell_type": "code",
   "execution_count": 635,
   "id": "8eea83ad",
   "metadata": {},
   "outputs": [],
   "source": [
    "q = \"\"\"\n",
    "    select 'tra' as group_name, question, (avg_diameter-baseline) as diff_diameter\n",
    "    from tra_pupils_by_page_ID\n",
    "    join baselines_30_35_df using(ID)\n",
    "    join tra_page_question_match using(page_id)\n",
    "    \"\"\"\n",
    "tra_pupils_data_30_35 = sql(q)"
   ]
  },
  {
   "cell_type": "code",
   "execution_count": 636,
   "id": "8709089d",
   "metadata": {},
   "outputs": [
    {
     "data": {
      "text/plain": [
       "2.2854835107270723"
      ]
     },
     "execution_count": 636,
     "metadata": {},
     "output_type": "execute_result"
    }
   ],
   "source": [
    "np.mean(gam_pupils_data_30_35['diff_diameter'])"
   ]
  },
  {
   "cell_type": "code",
   "execution_count": 637,
   "id": "27ce07a4",
   "metadata": {},
   "outputs": [
    {
     "data": {
      "text/plain": [
       "-1.1559116963840075"
      ]
     },
     "execution_count": 637,
     "metadata": {},
     "output_type": "execute_result"
    }
   ],
   "source": [
    "np.mean(tra_pupils_data_30_35['diff_diameter'])"
   ]
  },
  {
   "cell_type": "code",
   "execution_count": 661,
   "id": "64dd7b3f",
   "metadata": {},
   "outputs": [
    {
     "data": {
      "text/html": [
       "<div>\n",
       "<style scoped>\n",
       "    .dataframe tbody tr th:only-of-type {\n",
       "        vertical-align: middle;\n",
       "    }\n",
       "\n",
       "    .dataframe tbody tr th {\n",
       "        vertical-align: top;\n",
       "    }\n",
       "\n",
       "    .dataframe thead th {\n",
       "        text-align: right;\n",
       "    }\n",
       "</style>\n",
       "<table border=\"1\" class=\"dataframe\">\n",
       "  <thead>\n",
       "    <tr style=\"text-align: right;\">\n",
       "      <th></th>\n",
       "      <th>Q7</th>\n",
       "      <th>Q8</th>\n",
       "      <th>Q9</th>\n",
       "      <th>Q10</th>\n",
       "    </tr>\n",
       "  </thead>\n",
       "  <tbody>\n",
       "    <tr>\n",
       "      <th>Q7</th>\n",
       "      <td>1.000000</td>\n",
       "      <td>0.244282</td>\n",
       "      <td>0.131348</td>\n",
       "      <td>0.125580</td>\n",
       "    </tr>\n",
       "    <tr>\n",
       "      <th>Q8</th>\n",
       "      <td>0.244282</td>\n",
       "      <td>1.000000</td>\n",
       "      <td>0.203284</td>\n",
       "      <td>-0.186917</td>\n",
       "    </tr>\n",
       "    <tr>\n",
       "      <th>Q9</th>\n",
       "      <td>0.131348</td>\n",
       "      <td>0.203284</td>\n",
       "      <td>1.000000</td>\n",
       "      <td>-0.126358</td>\n",
       "    </tr>\n",
       "    <tr>\n",
       "      <th>Q10</th>\n",
       "      <td>0.125580</td>\n",
       "      <td>-0.186917</td>\n",
       "      <td>-0.126358</td>\n",
       "      <td>1.000000</td>\n",
       "    </tr>\n",
       "  </tbody>\n",
       "</table>\n",
       "</div>"
      ],
      "text/plain": [
       "           Q7        Q8        Q9       Q10\n",
       "Q7   1.000000  0.244282  0.131348  0.125580\n",
       "Q8   0.244282  1.000000  0.203284 -0.186917\n",
       "Q9   0.131348  0.203284  1.000000 -0.126358\n",
       "Q10  0.125580 -0.186917 -0.126358  1.000000"
      ]
     },
     "execution_count": 661,
     "metadata": {},
     "output_type": "execute_result"
    }
   ],
   "source": [
    "gam_answers[['Q7', 'Q8', 'Q9', 'Q10']].corr()"
   ]
  },
  {
   "cell_type": "code",
   "execution_count": 662,
   "id": "5e226f40",
   "metadata": {},
   "outputs": [
    {
     "data": {
      "text/html": [
       "<div>\n",
       "<style scoped>\n",
       "    .dataframe tbody tr th:only-of-type {\n",
       "        vertical-align: middle;\n",
       "    }\n",
       "\n",
       "    .dataframe tbody tr th {\n",
       "        vertical-align: top;\n",
       "    }\n",
       "\n",
       "    .dataframe thead th {\n",
       "        text-align: right;\n",
       "    }\n",
       "</style>\n",
       "<table border=\"1\" class=\"dataframe\">\n",
       "  <thead>\n",
       "    <tr style=\"text-align: right;\">\n",
       "      <th></th>\n",
       "      <th>Q7</th>\n",
       "      <th>Q8</th>\n",
       "      <th>Q9</th>\n",
       "      <th>Q10</th>\n",
       "    </tr>\n",
       "  </thead>\n",
       "  <tbody>\n",
       "    <tr>\n",
       "      <th>Q7</th>\n",
       "      <td>1.000000</td>\n",
       "      <td>0.404125</td>\n",
       "      <td>0.404838</td>\n",
       "      <td>0.358014</td>\n",
       "    </tr>\n",
       "    <tr>\n",
       "      <th>Q8</th>\n",
       "      <td>0.404125</td>\n",
       "      <td>1.000000</td>\n",
       "      <td>0.141907</td>\n",
       "      <td>0.543858</td>\n",
       "    </tr>\n",
       "    <tr>\n",
       "      <th>Q9</th>\n",
       "      <td>0.404838</td>\n",
       "      <td>0.141907</td>\n",
       "      <td>1.000000</td>\n",
       "      <td>0.075194</td>\n",
       "    </tr>\n",
       "    <tr>\n",
       "      <th>Q10</th>\n",
       "      <td>0.358014</td>\n",
       "      <td>0.543858</td>\n",
       "      <td>0.075194</td>\n",
       "      <td>1.000000</td>\n",
       "    </tr>\n",
       "  </tbody>\n",
       "</table>\n",
       "</div>"
      ],
      "text/plain": [
       "           Q7        Q8        Q9       Q10\n",
       "Q7   1.000000  0.404125  0.404838  0.358014\n",
       "Q8   0.404125  1.000000  0.141907  0.543858\n",
       "Q9   0.404838  0.141907  1.000000  0.075194\n",
       "Q10  0.358014  0.543858  0.075194  1.000000"
      ]
     },
     "execution_count": 662,
     "metadata": {},
     "output_type": "execute_result"
    }
   ],
   "source": [
    "tra_answers[['Q7', 'Q8', 'Q9', 'Q10']].corr()"
   ]
  }
 ],
 "metadata": {
  "kernelspec": {
   "display_name": "Python 3",
   "language": "python",
   "name": "python3"
  },
  "language_info": {
   "codemirror_mode": {
    "name": "ipython",
    "version": 3
   },
   "file_extension": ".py",
   "mimetype": "text/x-python",
   "name": "python",
   "nbconvert_exporter": "python",
   "pygments_lexer": "ipython3",
   "version": "3.8.8"
  }
 },
 "nbformat": 4,
 "nbformat_minor": 5
}
